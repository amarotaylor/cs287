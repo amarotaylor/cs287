{
 "cells": [
  {
   "cell_type": "code",
   "execution_count": 1,
   "metadata": {},
   "outputs": [],
   "source": [
    "import torch\n",
    "import torch.nn as nn\n",
    "import torch.nn.functional as F\n",
    "from torch.distributions import Dirichlet\n",
    "\n",
    "import re\n",
    "import math\n",
    "from collections import Counter\n",
    "from tqdm import tqdm\n",
    "from itertools import islice\n",
    "import numpy as np\n",
    "\n",
    "import torchtext\n",
    "from torchtext.vocab import Vectors\n",
    "from torchtext.data.iterator import BPTTIterator\n",
    "from torchtext.data import Batch, Dataset\n",
    "\n",
    "from namedtensor import ntorch\n",
    "from namedtensor.text import NamedField"
   ]
  },
  {
   "cell_type": "code",
   "execution_count": 2,
   "metadata": {},
   "outputs": [
    {
     "name": "stdout",
     "output_type": "stream",
     "text": [
      "len(TEXT.vocab) 10001\n"
     ]
    }
   ],
   "source": [
    "# Our input $x$\n",
    "TEXT = NamedField(names=(\"seqlen\",))\n",
    "# Data distributed with the assignment\n",
    "train, val, test = torchtext.datasets.LanguageModelingDataset.splits(\n",
    "    path=\".\", \n",
    "    train=\"train.txt\", validation=\"valid.txt\", test=\"valid.txt\", text_field=TEXT)\n",
    "TEXT.build_vocab(train)\n",
    "print('len(TEXT.vocab)', len(TEXT.vocab))\n",
    "\n",
    "class NamedBpttIterator(BPTTIterator):\n",
    "    def __iter__(self):\n",
    "        text = self.dataset[0].text\n",
    "        TEXT = self.dataset.fields['text']\n",
    "        TEXT.eos_token = None\n",
    "        text = text + ([TEXT.pad_token] * int(math.ceil(len(text) / self.batch_size)\n",
    "                                              * self.batch_size - len(text)))\n",
    "        data = TEXT.numericalize(\n",
    "            [text], device=self.device)\n",
    "        data = (data\n",
    "            .stack((\"seqlen\", \"batch\"), \"flat\")\n",
    "            .split(\"flat\", (\"batch\", \"seqlen\"), batch=self.batch_size)\n",
    "            .transpose(\"seqlen\", \"batch\")\n",
    "        )\n",
    "\n",
    "        dataset = Dataset(examples=self.dataset.examples, fields=[\n",
    "            ('text', TEXT), ('target', TEXT)])\n",
    "        while True:\n",
    "            for i in range(0, len(self) * self.bptt_len, self.bptt_len):\n",
    "                self.iterations += 1\n",
    "                seq_len = min(self.bptt_len, len(data) - i - 1)\n",
    "                yield Batch.fromvars(\n",
    "                    dataset, self.batch_size,\n",
    "                    text = data.narrow(\"seqlen\", i, seq_len),\n",
    "                    target = data.narrow(\"seqlen\", i+1, seq_len),\n",
    "                )\n",
    "                         \n",
    "            if not self.repeat:\n",
    "                return"
   ]
  },
  {
   "cell_type": "code",
   "execution_count": 3,
   "metadata": {},
   "outputs": [],
   "source": [
    "train_iter, val_iter, test_iter = NamedBpttIterator.splits(\n",
    "    (train, val, test), batch_size=10, device=torch.device(\"cuda\"), bptt_len=32, repeat=False)"
   ]
  },
  {
   "cell_type": "code",
   "execution_count": 11,
   "metadata": {},
   "outputs": [],
   "source": [
    "LSM = nn.LogSoftmax(dim=1)\n",
    "from torch.nn.utils import weight_norm\n",
    "### adapted from https://github.com/locuslab/TCN/ ###\n",
    "class Chomp1d(torch.nn.Module):\n",
    "    '''Ensure causal convolutions by removing right most items'''\n",
    "    def __init__(self, chomp_size):\n",
    "        super(Chomp1d, self).__init__()\n",
    "        self.chomp_size = chomp_size\n",
    "    def forward(self, x):\n",
    "        return x[:, :, :-self.chomp_size].contiguous()\n",
    "    \n",
    "    \n",
    "class TC_block(torch.nn.Module):\n",
    "    def __init__(self, n_in, n_out, kernel, stride, dilation, padding, dropout=0.5):\n",
    "        super(TC_block, self).__init__()\n",
    "        self.conv1 = weight_norm(torch.nn.Conv1d(n_in, n_out, kernel,stride=stride,\n",
    "                                             padding=padding, dilation=dilation))\n",
    "      \n",
    "        self.conv2 = weight_norm(nn.Conv1d(n_out, n_out, kernel,stride=stride,\n",
    "                                           padding=padding, dilation=dilation))\n",
    "        self.relu1 = nn.ReLU()\n",
    "        self.relu2 = nn.ReLU()\n",
    "    \n",
    "        self.dropout1 = nn.Dropout(dropout)\n",
    "        self.dropout2 = nn.Dropout(dropout)\n",
    "    \n",
    "        self.chomp1 = Chomp1d(padding)\n",
    "        self.chomp2 = Chomp1d(padding)\n",
    "    \n",
    "        self.block = torch.nn.Sequential(self.conv1,self.chomp1,self.relu1,self.dropout1,\n",
    "                                          self.conv2,self.chomp2,self.relu2,self.dropout2)\n",
    "        self.relu = nn.ReLU()\n",
    "    \n",
    "        if n_in != n_out:\n",
    "            self.conv_re = nn.Conv1d(n_in,n_out,kernel_size=1,stride=1,padding=0)\n",
    "    def forward(self, x):\n",
    "        out = self.block(x)\n",
    "        # skip connection\n",
    "        if x.shape[1]!=out.shape[1]:\n",
    "            x = self.conv_re(x)\n",
    "        return self.relu(out + x)\n",
    "      \n",
    "      \n",
    "      \n",
    "class TCN(torch.nn.Module):\n",
    "    def __init__(self, n_layers, n_filters, kernel=2, dropout=0.2, embedding_size = 600, n_words = 10001):  \n",
    "        super(TCN, self).__init__()\n",
    "        blocks = []\n",
    "        self.embedding_size = embedding_size\n",
    "        self.n_words = n_words\n",
    "        self.embedding = nn.Embedding(self.n_words,self.embedding_size)\n",
    "    \n",
    "        self.n_filters = [self.embedding_size] + n_filters\n",
    "    \n",
    "        for i in range(1,n_layers):\n",
    "            dilation = 2 ** i\n",
    "            n_in = self.n_filters[i-1]\n",
    "            n_out = self.n_filters[i]\n",
    "            blocks.append(TC_block(n_in, n_out, kernel, stride=1, dilation=dilation, padding=(kernel-1) * dilation, dropout=0.2))\n",
    "            \n",
    "        self.network = nn.Sequential(*blocks)\n",
    "        self.receptive_field = 1 + 2*(kernel-1)*(2 ** n_layers-1) + 1\n",
    "        self.output_layer = nn.Linear(n_filters[-1], n_words)\n",
    "        self.relu = nn.ReLU()\n",
    "        \n",
    "    def forward(self, x):\n",
    "        embed = self.embedding(x)\n",
    "        hook = self.network(embed.transpose(1,2))\n",
    "        return self.output_layer(hook.transpose(1,2)).transpose(1,2)"
   ]
  },
  {
   "cell_type": "code",
   "execution_count": 12,
   "metadata": {},
   "outputs": [
    {
     "name": "stdout",
     "output_type": "stream",
     "text": [
      "Network with 14896001 parameters\n",
      "Receptive field of network is 16\n"
     ]
    }
   ],
   "source": [
    "tc_net = TCN(3,[600,600,600])\n",
    "model_parameters = filter(lambda p: p.requires_grad, tc_net.parameters())\n",
    "params = sum([np.prod(p.size()) for p in model_parameters])\n",
    "print('Network with {} parameters'.format(params))\n",
    "print('Receptive field of network is {}'.format(tc_net.receptive_field))"
   ]
  },
  {
   "cell_type": "code",
   "execution_count": 33,
   "metadata": {},
   "outputs": [],
   "source": [
    "tc_net.cuda()\n",
    "optimizer = torch.optim.Adam(tc_net.parameters(), lr=1e-3)\n",
    "criterion = torch.nn.CrossEntropyLoss(reduction='sum')\n",
    "scheduler = torch.optim.lr_scheduler.ReduceLROnPlateau(optimizer,mode=\"min\",patience=4,min_lr=1e-6)\n",
    "\n",
    "def training_loop(net,train_iter,optimizer,criterion,scheduler,e=0):\n",
    "    net.train()\n",
    "    for i,b in enumerate(train_iter):\n",
    "        optimizer.zero_grad()\n",
    "        data = torch.transpose(b.text.values, dim0=0, dim1=1)\n",
    "        X = data[:,:-1]\n",
    "        y = data[:,1:]\n",
    "        prob = net(X)\n",
    "        loss = criterion(prob,y)\n",
    "        loss.backward()\n",
    "        optimizer.step()\n",
    "        if np.mod(i,500)==0:\n",
    "            batch_size = X.shape[0]\n",
    "            ppl = np.exp(loss.cpu().detach() / (batch_size * 31)) # update\n",
    "            acc = torch.sum(torch.argmax(prob.cpu().detach(),dim=1) == y.cpu().detach()).float() / torch.FloatTensor([batch_size*31])\n",
    "            print('Epoch: %d, Batch: %d, loss: %.4f , Train PPL: %.4f, Train Acc: %.4f' % (e, i, loss.cpu().detach(), ppl, acc))\n",
    "          "
   ]
  },
  {
   "cell_type": "code",
   "execution_count": 32,
   "metadata": {},
   "outputs": [
    {
     "name": "stdout",
     "output_type": "stream",
     "text": [
      "Epoch: 0, Batch: 0, loss: 1242.5107 , Train PPL: 55.0421, Train Acc: 0.1968\n",
      "Epoch: 0, Batch: 500, loss: 3966.8901 , Train PPL: 360923.0625, Train Acc: 0.1097\n",
      "Epoch: 0, Batch: 1000, loss: 5550.9492 , Train PPL: 59786364.0000, Train Acc: 0.1129\n",
      "Epoch: 0, Batch: 1500, loss: 5202.0132 , Train PPL: 19398132.0000, Train Acc: 0.1387\n",
      "Epoch: 0, Batch: 2000, loss: 4880.7241 , Train PPL: 6880977.5000, Train Acc: 0.1065\n",
      "Epoch: 0, Batch: 2500, loss: 2915.7388 , Train PPL: 12156.3770, Train Acc: 0.1355\n"
     ]
    }
   ],
   "source": [
    "training_loop(tc_net,train_iter,optimizer,criterion,scheduler)"
   ]
  },
  {
   "cell_type": "code",
   "execution_count": 59,
   "metadata": {},
   "outputs": [
    {
     "name": "stdout",
     "output_type": "stream",
     "text": [
      "Epoch: 0, Batch: 0, loss: 273250.9062 , Train PPL: inf, Train Acc: 0.0097\n",
      "Epoch: 0, Batch: 500, loss: 229993.7812 , Train PPL: inf, Train Acc: 0.0065\n"
     ]
    },
    {
     "ename": "KeyboardInterrupt",
     "evalue": "",
     "output_type": "error",
     "traceback": [
      "\u001b[0;31m---------------------------------------------------------------------------\u001b[0m",
      "\u001b[0;31mKeyboardInterrupt\u001b[0m                         Traceback (most recent call last)",
      "\u001b[0;32m<ipython-input-59-b83d3c43bd0b>\u001b[0m in \u001b[0;36m<module>\u001b[0;34m()\u001b[0m\n\u001b[1;32m     13\u001b[0m         \u001b[0mprob\u001b[0m\u001b[0;34m,\u001b[0m \u001b[0mhidden\u001b[0m \u001b[0;34m=\u001b[0m \u001b[0mnet\u001b[0m\u001b[0;34m(\u001b[0m\u001b[0mX\u001b[0m\u001b[0;34m,\u001b[0m\u001b[0mh0\u001b[0m\u001b[0;34m)\u001b[0m\u001b[0;34m\u001b[0m\u001b[0m\n\u001b[1;32m     14\u001b[0m         \u001b[0;31m#h0 = tuple(h.detach() for h in hidden)\u001b[0m\u001b[0;34m\u001b[0m\u001b[0;34m\u001b[0m\u001b[0m\n\u001b[0;32m---> 15\u001b[0;31m         \u001b[0mloss\u001b[0m \u001b[0;34m=\u001b[0m \u001b[0mcriterion\u001b[0m\u001b[0;34m(\u001b[0m\u001b[0mprob\u001b[0m\u001b[0;34m.\u001b[0m\u001b[0mtranspose\u001b[0m\u001b[0;34m(\u001b[0m\u001b[0;36m1\u001b[0m\u001b[0;34m,\u001b[0m\u001b[0;36m2\u001b[0m\u001b[0;34m)\u001b[0m\u001b[0;34m,\u001b[0m\u001b[0my\u001b[0m\u001b[0;34m)\u001b[0m\u001b[0;34m\u001b[0m\u001b[0m\n\u001b[0m\u001b[1;32m     16\u001b[0m         \u001b[0mloss\u001b[0m\u001b[0;34m.\u001b[0m\u001b[0mbackward\u001b[0m\u001b[0;34m(\u001b[0m\u001b[0;34m)\u001b[0m\u001b[0;34m\u001b[0m\u001b[0m\n\u001b[1;32m     17\u001b[0m         \u001b[0moptimizer\u001b[0m\u001b[0;34m.\u001b[0m\u001b[0mstep\u001b[0m\u001b[0;34m(\u001b[0m\u001b[0;34m)\u001b[0m\u001b[0;34m\u001b[0m\u001b[0m\n",
      "\u001b[0;31mKeyboardInterrupt\u001b[0m: "
     ]
    }
   ],
   "source": [
    "for e in range(20):\n",
    "    h0 = None\n",
    "    net.train()\n",
    "    for i,b in enumerate(train_iter):\n",
    "        optimizer.zero_grad()\n",
    "        data = torch.transpose(b.text.values, dim0=0, dim1=1)\n",
    "        X = data[:,:-1]\n",
    "        y = data[:,1:]\n",
    "    \n",
    "    #X, y = make_batch(b, b_size=b.text.shape['batch'], b_seq_len=b.text.shape['seqlen'], batch_seq_len=10)\n",
    "    #h0 = hidden[:X.shape[0],:] # ensures h0 has same batch dim as X\n",
    "        prob, hidden = net(X,h0)\n",
    "        #h0 = tuple(h.detach() for h in hidden)\n",
    "        loss = criterion(prob.transpose(1,2),y)\n",
    "        loss.backward()\n",
    "        optimizer.step()\n",
    "    \n",
    "        if np.mod(i,500)==0:\n",
    "            batch_size = X.shape[0]\n",
    "            ppl = np.exp(loss.cpu().detach() / (batch_size * 31)) # update\n",
    "            acc = torch.sum(torch.argmax(prob.cpu().detach(),dim=2) == y.cpu().detach()).float() / torch.FloatTensor([batch_size*31])\n",
    "            print('Epoch: %d, Batch: %d, loss: %.4f , Train PPL: %.4f, Train Acc: %.4f' % (e, i, loss.cpu().detach(), ppl, acc))\n",
    "            #print([p.grad for p in net.parameters()])\n",
    "    net.eval()\n",
    "    acc_val = []\n",
    "    ppl_val = []\n",
    "    print('Running validation')\n",
    "    for i,b in enumerate(val_iter):\n",
    "        data = torch.transpose(b.text.values, dim0=0, dim1=1)\n",
    "        X = data[:,:-1]\n",
    "        y = data[:,1:]\n",
    "        prob, hidden = net(X, h0)\n",
    "        #h0 = tuple(h.detach() for h in hidden)\n",
    "        #h0 = [h.data for h in hidden]\n",
    "        loss = criterion(prob.transpose(1,2),y)\n",
    "        ppl_val.append(np.exp(loss.cpu().detach() / (batch_size * 31))) # update\n",
    "        acc_val.append(torch.sum(torch.argmax(prob.cpu().detach(),dim=2) == y.cpu().detach()).float() / torch.FloatTensor([batch_size*31]))\n",
    "    scheduler.step(torch.mean(torch.stack(ppl_val)))\n",
    "    print('Epoch: %d, Val PPL: %.4f, Val Acc: %.4f' % (e,torch.mean(torch.stack(ppl_val)), torch.mean(torch.stack(acc_val))))\n",
    "    "
   ]
  },
  {
   "cell_type": "code",
   "execution_count": 44,
   "metadata": {},
   "outputs": [],
   "source": [
    "# load test set\n",
    "\n",
    "import pandas as pd\n",
    "    \n",
    "def write_predictions(net,output_file):\n",
    "    sentences = []\n",
    "    for i, l in enumerate(open(\"input.txt\"), 1):\n",
    "        sentences.append(re.split(' ', l))\n",
    "    # make predictions\n",
    "    predictions = []\n",
    "\n",
    "    for i in range(len(sentences)):\n",
    "        s = torch.tensor([TEXT.vocab.stoi[j] for j in sentences[i]]).cuda()\n",
    "        prob, hidden = net(torch.unsqueeze(s, 0))\n",
    "        top_idx = torch.squeeze(torch.argsort(prob[:,-1,:], descending=True))[:20]\n",
    "        l_  = [TEXT.vocab.itos[j] for j in top_idx]\n",
    "        predictions.append(' '.join(l_))\n",
    "      \n",
    "    if i % 100 == 0:\n",
    "        print(i, '/', len(sentences),end=\"\\r\",flush=True)\n",
    "        \n",
    "    out = pd.DataFrame(index=range(len(predictions)))\n",
    "    out.index.names = ['id']\n",
    "    out['word'] = predictions\n",
    "    out.to_csv('predictions_model3.txt',sep=',')"
   ]
  },
  {
   "cell_type": "code",
   "execution_count": 48,
   "metadata": {},
   "outputs": [
    {
     "name": "stdout",
     "output_type": "stream",
     "text": [
      "tensor(408.5605, device='cuda:0')\n"
     ]
    }
   ],
   "source": [
    "train_loss = 0\n",
    "train_words = 0\n",
    "\n",
    "for b in iter(train_iter):\n",
    "  data = torch.transpose(b.text.values, dim0=0, dim1=1)\n",
    "  X = data[:,:-1]\n",
    "  y = data[:,1:]\n",
    "  prob, hidden = net(X)\n",
    "  train_loss += criterion(prob.transpose(1,2), y).detach()\n",
    "  train_words += X.shape[0] * X.shape[1]\n",
    "  \n",
    "train_ppl = torch.exp(train_loss / train_words)\n",
    "print(train_ppl)"
   ]
  },
  {
   "cell_type": "code",
   "execution_count": 40,
   "metadata": {},
   "outputs": [],
   "source": [
    "import pandas as pd\n"
   ]
  },
  {
   "cell_type": "code",
   "execution_count": 49,
   "metadata": {},
   "outputs": [
    {
     "data": {
      "text/plain": [
       "[tensor([[0., 0., 0.,  ..., 0., 0., 0.],\n",
       "         [0., 0., 0.,  ..., 0., 0., 0.],\n",
       "         [0., 0., 0.,  ..., 0., 0., 0.],\n",
       "         ...,\n",
       "         [0., 0., 0.,  ..., 0., 0., 0.],\n",
       "         [0., 0., 0.,  ..., 0., 0., 0.],\n",
       "         [0., 0., 0.,  ..., 0., 0., 0.]], device='cuda:0'),\n",
       " tensor([[0., 0., 0.,  ..., 0., 0., 0.],\n",
       "         [0., 0., 0.,  ..., 0., 0., 0.],\n",
       "         [0., 0., 0.,  ..., 0., 0., 0.],\n",
       "         ...,\n",
       "         [0., 0., 0.,  ..., 0., 0., 0.],\n",
       "         [0., 0., 0.,  ..., 0., 0., 0.],\n",
       "         [0., 0., 0.,  ..., 0., 0., 0.]], device='cuda:0'),\n",
       " tensor([[0., 0., 0.,  ..., 0., 0., 0.],\n",
       "         [0., 0., 0.,  ..., 0., 0., 0.],\n",
       "         [0., 0., 0.,  ..., 0., 0., 0.],\n",
       "         ...,\n",
       "         [0., 0., 0.,  ..., 0., 0., 0.],\n",
       "         [0., 0., 0.,  ..., 0., 0., 0.],\n",
       "         [0., 0., 0.,  ..., 0., 0., 0.]], device='cuda:0'),\n",
       " tensor([0., 0., 0.,  ..., 0., 0., 0.], device='cuda:0'),\n",
       " tensor([0., 0., 0.,  ..., 0., 0., 0.], device='cuda:0'),\n",
       " tensor([[0., 0., 0.,  ..., 0., 0., 0.],\n",
       "         [0., 0., 0.,  ..., 0., 0., 0.],\n",
       "         [0., 0., 0.,  ..., 0., 0., 0.],\n",
       "         ...,\n",
       "         [0., 0., 0.,  ..., 0., 0., 0.],\n",
       "         [0., 0., 0.,  ..., 0., 0., 0.],\n",
       "         [0., 0., 0.,  ..., 0., 0., 0.]], device='cuda:0'),\n",
       " tensor([[0., 0., 0.,  ..., 0., 0., 0.],\n",
       "         [0., 0., 0.,  ..., 0., 0., 0.],\n",
       "         [0., 0., 0.,  ..., 0., 0., 0.],\n",
       "         ...,\n",
       "         [0., 0., 0.,  ..., 0., 0., 0.],\n",
       "         [0., 0., 0.,  ..., 0., 0., 0.],\n",
       "         [0., 0., 0.,  ..., 0., 0., 0.]], device='cuda:0'),\n",
       " tensor([0., 0., 0.,  ..., 0., 0., 0.], device='cuda:0'),\n",
       " tensor([0., 0., 0.,  ..., 0., 0., 0.], device='cuda:0'),\n",
       " tensor([[0., 0., 0.,  ..., 0., 0., 0.],\n",
       "         [0., 0., 0.,  ..., 0., 0., 0.],\n",
       "         [0., 0., 0.,  ..., 0., 0., 0.],\n",
       "         ...,\n",
       "         [0., 0., 0.,  ..., 0., 0., 0.],\n",
       "         [0., 0., 0.,  ..., 0., 0., 0.],\n",
       "         [0., 0., 0.,  ..., 0., 0., 0.]], device='cuda:0'),\n",
       " tensor([0., 0., 0.,  ..., 0., 0., 0.], device='cuda:0')]"
      ]
     },
     "execution_count": 49,
     "metadata": {},
     "output_type": "execute_result"
    }
   ],
   "source": []
  },
  {
   "cell_type": "code",
   "execution_count": null,
   "metadata": {},
   "outputs": [],
   "source": []
  }
 ],
 "metadata": {
  "kernelspec": {
   "display_name": "Python 3",
   "language": "python",
   "name": "python3"
  },
  "language_info": {
   "codemirror_mode": {
    "name": "ipython",
    "version": 3
   },
   "file_extension": ".py",
   "mimetype": "text/x-python",
   "name": "python",
   "nbconvert_exporter": "python",
   "pygments_lexer": "ipython3",
   "version": "3.6.5"
  }
 },
 "nbformat": 4,
 "nbformat_minor": 2
}
