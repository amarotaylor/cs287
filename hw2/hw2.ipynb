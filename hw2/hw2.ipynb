{
 "cells": [
  {
   "cell_type": "code",
   "execution_count": 160,
   "metadata": {},
   "outputs": [],
   "source": [
    "import torch\n",
    "import torch.nn as nn\n",
    "import torch.nn.functional as F\n",
    "from torch.distributions import Dirichlet\n",
    "\n",
    "import re\n",
    "import math\n",
    "from collections import Counter\n",
    "from tqdm import tqdm\n",
    "from itertools import islice\n",
    "import numpy as np\n",
    "\n",
    "\n",
    "import torchtext\n",
    "from torchtext.vocab import Vectors\n",
    "from torchtext.data.iterator import BPTTIterator, Iterator\n",
    "from torchtext.data import Batch, Dataset, Field\n",
    "from torch.utils.data import DataLoader\n",
    "from namedtensor import ntorch\n",
    "from namedtensor.text import NamedField"
   ]
  },
  {
   "cell_type": "code",
   "execution_count": 194,
   "metadata": {},
   "outputs": [],
   "source": [
    "def make_dataloader(train,shuffle=True):\n",
    "    train_loader = BPTTIterator(train,50,32,device='cuda',repeat=False)\n",
    "    text = []\n",
    "    for i in train_loader:\n",
    "        text.append(i.text)\n",
    "    training_data = torch.cat(text[:-1],dim=1)\n",
    "    train_data = torch.utils.data.TensorDataset(training_data.transpose(1,0))\n",
    "    t_loader=DataLoader(train_data,batch_size=50,shuffle=shuffle)\n",
    "    return t_loader"
   ]
  },
  {
   "cell_type": "code",
   "execution_count": 195,
   "metadata": {},
   "outputs": [
    {
     "name": "stdout",
     "output_type": "stream",
     "text": [
      "len(TEXT.vocab) 10001\n"
     ]
    }
   ],
   "source": [
    "# Our input $x$\n",
    "TEXT = Field()\n",
    "# Data distributed with the assignment\n",
    "train, val, test = torchtext.datasets.LanguageModelingDataset.splits(\n",
    "    path=\".\", \n",
    "    train=\"train.txt\", validation=\"valid.txt\", test=\"valid.txt\",text_field=TEXT)\n",
    "TEXT.build_vocab(train)\n",
    "print('len(TEXT.vocab)', len(TEXT.vocab))\n",
    "\n",
    "train_loader = make_dataloader(train)\n",
    "valid_loader = make_dataloader(val,False)\n",
    "            "
   ]
  },
  {
   "cell_type": "code",
   "execution_count": 198,
   "metadata": {},
   "outputs": [
    {
     "name": "stdout",
     "output_type": "stream",
     "text": [
      "tensor([ 716,   10, 4469,    5, 5325, 7368,    7,  957, 3906,    8,    2, 1552,\n",
      "        8633, 4818,   98, 1484, 1254,    3,    2, 8311,   43,  403,    7,    0,\n",
      "        2859, 4040,    8,    2,  358,   19,    7,  362], device='cuda:0')\n",
      "tensor([1139,   14,   64,  846,    8,    0, 5873,    3,    2, 5941,  629, 1136,\n",
      "         763,  379, 5581, 6470, 8560,  314,    4,    4,    3,    2, 2318,    5,\n",
      "         581, 6482,  354,    6, 6860,  184,  329,   53], device='cuda:0')\n"
     ]
    }
   ],
   "source": [
    "### make sure its shuffling\n",
    "for i in train_loader:\n",
    "    print(i[0][0])\n",
    "    break\n",
    "for i in train_loader:\n",
    "    print(i[0][0])\n",
    "    break\n",
    "    "
   ]
  },
  {
   "cell_type": "code",
   "execution_count": 11,
   "metadata": {},
   "outputs": [],
   "source": [
    "LSM = nn.LogSoftmax(dim=1)\n",
    "from torch.nn.utils import weight_norm\n",
    "### adapted from https://github.com/locuslab/TCN/ ###\n",
    "class Chomp1d(torch.nn.Module):\n",
    "    '''Ensure causal convolutions by removing right most items'''\n",
    "    def __init__(self, chomp_size):\n",
    "        super(Chomp1d, self).__init__()\n",
    "        self.chomp_size = chomp_size\n",
    "    def forward(self, x):\n",
    "        return x[:, :, :-self.chomp_size].contiguous()\n",
    "    \n",
    "    \n",
    "class TC_block(torch.nn.Module):\n",
    "    def __init__(self, n_in, n_out, kernel, stride, dilation, padding, dropout=0.5):\n",
    "        super(TC_block, self).__init__()\n",
    "        self.conv1 = weight_norm(torch.nn.Conv1d(n_in, n_out, kernel,stride=stride,\n",
    "                                             padding=padding, dilation=dilation))\n",
    "      \n",
    "        self.conv2 = weight_norm(nn.Conv1d(n_out, n_out, kernel,stride=stride,\n",
    "                                           padding=padding, dilation=dilation))\n",
    "        self.relu1 = nn.ReLU()\n",
    "        self.relu2 = nn.ReLU()\n",
    "    \n",
    "        self.dropout1 = nn.Dropout(dropout)\n",
    "        self.dropout2 = nn.Dropout(dropout)\n",
    "    \n",
    "        self.chomp1 = Chomp1d(padding)\n",
    "        self.chomp2 = Chomp1d(padding)\n",
    "    \n",
    "        self.block = torch.nn.Sequential(self.conv1,self.chomp1,self.relu1,self.dropout1,\n",
    "                                          self.conv2,self.chomp2,self.relu2,self.dropout2)\n",
    "        self.relu = nn.ReLU()\n",
    "    \n",
    "        if n_in != n_out:\n",
    "            self.conv_re = nn.Conv1d(n_in,n_out,kernel_size=1,stride=1,padding=0)\n",
    "    def forward(self, x):\n",
    "        out = self.block(x)\n",
    "        # skip connection\n",
    "        if x.shape[1]!=out.shape[1]:\n",
    "            x = self.conv_re(x)\n",
    "        return self.relu(out + x)\n",
    "      \n",
    "      \n",
    "      \n",
    "class TCN(torch.nn.Module):\n",
    "    def __init__(self, n_layers, n_filters, kernel=2, dropout=0.2, embedding_size = 600, n_words = 10001):  \n",
    "        super(TCN, self).__init__()\n",
    "        blocks = []\n",
    "        self.embedding_size = embedding_size\n",
    "        self.n_words = n_words\n",
    "        self.embedding = nn.Embedding(self.n_words,self.embedding_size)\n",
    "    \n",
    "        self.n_filters = [self.embedding_size] + n_filters\n",
    "    \n",
    "        for i in range(1,n_layers):\n",
    "            dilation = 2 ** i\n",
    "            n_in = self.n_filters[i-1]\n",
    "            n_out = self.n_filters[i]\n",
    "            blocks.append(TC_block(n_in, n_out, kernel, stride=1, dilation=dilation, padding=(kernel-1) * dilation, dropout=0.2))\n",
    "            \n",
    "        self.network = nn.Sequential(*blocks)\n",
    "        self.receptive_field = 1 + 2*(kernel-1)*(2 ** n_layers-1) + 1\n",
    "        self.output_layer = nn.Linear(n_filters[-1], n_words)\n",
    "        self.relu = nn.ReLU()\n",
    "        \n",
    "    def forward(self, x):\n",
    "        embed = self.embedding(x)\n",
    "        hook = self.network(embed.transpose(1,2))\n",
    "        return self.output_layer(hook.transpose(1,2)).transpose(1,2)"
   ]
  },
  {
   "cell_type": "code",
   "execution_count": 12,
   "metadata": {},
   "outputs": [
    {
     "name": "stdout",
     "output_type": "stream",
     "text": [
      "Network with 14896001 parameters\n",
      "Receptive field of network is 16\n"
     ]
    }
   ],
   "source": [
    "tc_net = TCN(3,[600,600,600])\n",
    "model_parameters = filter(lambda p: p.requires_grad, tc_net.parameters())\n",
    "params = sum([np.prod(p.size()) for p in model_parameters])\n",
    "print('Network with {} parameters'.format(params))\n",
    "print('Receptive field of network is {}'.format(tc_net.receptive_field))"
   ]
  },
  {
   "cell_type": "code",
   "execution_count": 44,
   "metadata": {},
   "outputs": [],
   "source": [
    "tc_net.cuda()\n",
    "optimizer = torch.optim.Adam(tc_net.parameters(), lr=1e-3)\n",
    "criterion = torch.nn.CrossEntropyLoss(reduction='sum')\n",
    "scheduler = torch.optim.lr_scheduler.ReduceLROnPlateau(optimizer,mode=\"min\",patience=4,min_lr=1e-6)\n",
    "\n",
    "def training_loop(net,train_iter,optimizer,criterion,scheduler,e=0):\n",
    "    net.train()\n",
    "    for i,b in enumerate(train_iter):\n",
    "        optimizer.zero_grad()\n",
    "        data = torch.transpose(b.text.values, dim0=0, dim1=1)\n",
    "        X = data[:,:-1]\n",
    "        y = data[:,1:]\n",
    "        prob = net(X)\n",
    "        loss = criterion(prob,y)\n",
    "        loss.backward()\n",
    "        optimizer.step()\n",
    "        if np.mod(i,500)==0:\n",
    "            batch_size = X.shape[0]\n",
    "            ppl = np.exp(loss.cpu().detach() / (batch_size * 31)) # update\n",
    "            acc = torch.sum(torch.argmax(prob.cpu().detach(),dim=1) == y.cpu().detach()).float() / torch.FloatTensor([batch_size*31])\n",
    "            print('Epoch: %d, Batch: %d, loss: %.4f , Train PPL: %.4f, Train Acc: %.4f' % (e, i, loss.cpu().detach(), ppl, acc))\n",
    "            \n",
    "def validation_loop(net,val_iter,criterion,scheduler,e=0):\n",
    "    net.eval()\n",
    "    acc_val = []\n",
    "    ppl_val = []\n",
    "    print('Running validation')\n",
    "    for i,b in enumerate(val_iter):\n",
    "        data = torch.transpose(b.text.values, dim0=0, dim1=1)\n",
    "        X = data[:,:-1]\n",
    "        y = data[:,1:]\n",
    "        prob = net(X)\n",
    "        #h0 = tuple(h.detach() for h in hidden)\n",
    "        #h0 = [h.data for h in hidden]\n",
    "        batch_size = X.shape[0]\n",
    "        loss = criterion(prob,y)\n",
    "        ppl_val.append(torch.exp(loss.cpu().detach() / (batch_size * 31))) # update\n",
    "        acc_val.append(torch.sum(torch.argmax(prob.cpu().detach(),dim=1) == y.cpu().detach()).float() / torch.FloatTensor([batch_size*31]))\n",
    "    scheduler.step(torch.mean(torch.stack(ppl_val)))\n",
    "    print('Epoch: %d, Val PPL: %.4f, Val Acc: %.4f' % (e,torch.mean(torch.stack(ppl_val)), torch.mean(torch.stack(acc_val))))\n",
    "    return ppl_val,acc_val\n",
    "         "
   ]
  },
  {
   "cell_type": "code",
   "execution_count": 45,
   "metadata": {},
   "outputs": [
    {
     "name": "stdout",
     "output_type": "stream",
     "text": [
      "Epoch: 0, Batch: 0, loss: 1315.7861 , Train PPL: 69.7189, Train Acc: 0.2581\n",
      "Epoch: 0, Batch: 500, loss: 1551.8590 , Train PPL: 149.3058, Train Acc: 0.1194\n",
      "Epoch: 0, Batch: 1000, loss: 1920.3643 , Train PPL: 490.1559, Train Acc: 0.1613\n",
      "Epoch: 0, Batch: 1500, loss: 2353.6643 , Train PPL: 1983.1969, Train Acc: 0.1774\n",
      "Epoch: 0, Batch: 2000, loss: 2449.4138 , Train PPL: 2700.8850, Train Acc: 0.1323\n",
      "Epoch: 0, Batch: 2500, loss: 1842.5327 , Train PPL: 381.3258, Train Acc: 0.1613\n",
      "Running validation\n",
      "Epoch: 0, Val PPL: 33647610560512.0000, Val Acc: 0.1773\n"
     ]
    }
   ],
   "source": [
    "for e in range(1):\n",
    "    training_loop(tc_net,train_iter,optimizer,criterion,scheduler,e)\n",
    "    ppl_val,acc_val = validation_loop(tc_net,val_iter,criterion,scheduler,e)"
   ]
  },
  {
   "cell_type": "code",
   "execution_count": 44,
   "metadata": {},
   "outputs": [],
   "source": [
    "# load test set\n",
    "\n",
    "import pandas as pd\n",
    "    \n",
    "def write_predictions(net,output_file):\n",
    "    sentences = []\n",
    "    for i, l in enumerate(open(\"input.txt\"), 1):\n",
    "        sentences.append(re.split(' ', l))\n",
    "    # make predictions\n",
    "    predictions = []\n",
    "\n",
    "    for i in range(len(sentences)):\n",
    "        s = torch.tensor([TEXT.vocab.stoi[j] for j in sentences[i]]).cuda()\n",
    "        prob, hidden = net(torch.unsqueeze(s, 0))\n",
    "        top_idx = torch.squeeze(torch.argsort(prob[:,-1,:], descending=True))[:20]\n",
    "        l_  = [TEXT.vocab.itos[j] for j in top_idx]\n",
    "        predictions.append(' '.join(l_))\n",
    "      \n",
    "    if i % 100 == 0:\n",
    "        print(i, '/', len(sentences),end=\"\\r\",flush=True)\n",
    "        \n",
    "    out = pd.DataFrame(index=range(len(predictions)))\n",
    "    out.index.names = ['id']\n",
    "    out['word'] = predictions\n",
    "    out.to_csv('predictions_model3.txt',sep=',')"
   ]
  },
  {
   "cell_type": "code",
   "execution_count": 54,
   "metadata": {},
   "outputs": [
    {
     "name": "stdout",
     "output_type": "stream",
     "text": [
      "tensor(283.3504, device='cuda:0')\n"
     ]
    }
   ],
   "source": [
    "train_loss = 0\n",
    "train_words = 0\n",
    "\n",
    "for b in iter(train_iter):\n",
    "  data = torch.transpose(b.text.values, dim0=0, dim1=1)\n",
    "  X = data[:,:-1]\n",
    "  y = data[:,1:]\n",
    "  prob = tc_net(X)\n",
    "  train_loss += criterion(prob, y).detach()\n",
    "  train_words += X.shape[0] * X.shape[1]\n",
    "  \n",
    "train_ppl = torch.exp(train_loss / train_words)\n",
    "print(train_ppl)"
   ]
  },
  {
   "cell_type": "code",
   "execution_count": 97,
   "metadata": {},
   "outputs": [
    {
     "data": {
      "text/plain": [
       "<torchtext.datasets.language_modeling.LanguageModelingDataset at 0x7f393a406e48>"
      ]
     },
     "execution_count": 97,
     "metadata": {},
     "output_type": "execute_result"
    }
   ],
   "source": [
    "train"
   ]
  },
  {
   "cell_type": "code",
   "execution_count": 96,
   "metadata": {},
   "outputs": [
    {
     "ename": "TypeError",
     "evalue": "Traceback (most recent call last):\n  File \"/opt/anaconda/anaconda3/lib/python3.6/site-packages/torch/utils/data/dataloader.py\", line 138, in _worker_loop\n    samples = collate_fn([dataset[i] for i in batch_indices])\n  File \"/opt/anaconda/anaconda3/lib/python3.6/site-packages/torch/utils/data/dataloader.py\", line 234, in default_collate\n    raise TypeError((error_msg.format(type(batch[0]))))\nTypeError: batch must contain tensors, numbers, dicts or lists; found <class 'torchtext.data.example.Example'>\n",
     "output_type": "error",
     "traceback": [
      "\u001b[0;31m---------------------------------------------------------------------------\u001b[0m",
      "\u001b[0;31mTypeError\u001b[0m                                 Traceback (most recent call last)",
      "\u001b[0;32m<ipython-input-96-8427c36d78cb>\u001b[0m in \u001b[0;36m<module>\u001b[0;34m()\u001b[0m\n\u001b[0;32m----> 1\u001b[0;31m \u001b[0;32mfor\u001b[0m \u001b[0mi\u001b[0m \u001b[0;32min\u001b[0m \u001b[0mdataloader\u001b[0m\u001b[0;34m:\u001b[0m\u001b[0;34m\u001b[0m\u001b[0m\n\u001b[0m\u001b[1;32m      2\u001b[0m     \u001b[0mprint\u001b[0m\u001b[0;34m(\u001b[0m\u001b[0mi\u001b[0m\u001b[0;34m.\u001b[0m\u001b[0mtext\u001b[0m\u001b[0;34m.\u001b[0m\u001b[0mvalues\u001b[0m\u001b[0;34m)\u001b[0m\u001b[0;34m\u001b[0m\u001b[0m\n\u001b[1;32m      3\u001b[0m     \u001b[0;32mbreak\u001b[0m\u001b[0;34m\u001b[0m\u001b[0m\n",
      "\u001b[0;32m/opt/anaconda/anaconda3/lib/python3.6/site-packages/torch/utils/data/dataloader.py\u001b[0m in \u001b[0;36m__next__\u001b[0;34m(self)\u001b[0m\n\u001b[1;32m    635\u001b[0m                 \u001b[0mself\u001b[0m\u001b[0;34m.\u001b[0m\u001b[0mreorder_dict\u001b[0m\u001b[0;34m[\u001b[0m\u001b[0midx\u001b[0m\u001b[0;34m]\u001b[0m \u001b[0;34m=\u001b[0m \u001b[0mbatch\u001b[0m\u001b[0;34m\u001b[0m\u001b[0m\n\u001b[1;32m    636\u001b[0m                 \u001b[0;32mcontinue\u001b[0m\u001b[0;34m\u001b[0m\u001b[0m\n\u001b[0;32m--> 637\u001b[0;31m             \u001b[0;32mreturn\u001b[0m \u001b[0mself\u001b[0m\u001b[0;34m.\u001b[0m\u001b[0m_process_next_batch\u001b[0m\u001b[0;34m(\u001b[0m\u001b[0mbatch\u001b[0m\u001b[0;34m)\u001b[0m\u001b[0;34m\u001b[0m\u001b[0m\n\u001b[0m\u001b[1;32m    638\u001b[0m \u001b[0;34m\u001b[0m\u001b[0m\n\u001b[1;32m    639\u001b[0m     \u001b[0mnext\u001b[0m \u001b[0;34m=\u001b[0m \u001b[0m__next__\u001b[0m  \u001b[0;31m# Python 2 compatibility\u001b[0m\u001b[0;34m\u001b[0m\u001b[0m\n",
      "\u001b[0;32m/opt/anaconda/anaconda3/lib/python3.6/site-packages/torch/utils/data/dataloader.py\u001b[0m in \u001b[0;36m_process_next_batch\u001b[0;34m(self, batch)\u001b[0m\n\u001b[1;32m    656\u001b[0m         \u001b[0mself\u001b[0m\u001b[0;34m.\u001b[0m\u001b[0m_put_indices\u001b[0m\u001b[0;34m(\u001b[0m\u001b[0;34m)\u001b[0m\u001b[0;34m\u001b[0m\u001b[0m\n\u001b[1;32m    657\u001b[0m         \u001b[0;32mif\u001b[0m \u001b[0misinstance\u001b[0m\u001b[0;34m(\u001b[0m\u001b[0mbatch\u001b[0m\u001b[0;34m,\u001b[0m \u001b[0mExceptionWrapper\u001b[0m\u001b[0;34m)\u001b[0m\u001b[0;34m:\u001b[0m\u001b[0;34m\u001b[0m\u001b[0m\n\u001b[0;32m--> 658\u001b[0;31m             \u001b[0;32mraise\u001b[0m \u001b[0mbatch\u001b[0m\u001b[0;34m.\u001b[0m\u001b[0mexc_type\u001b[0m\u001b[0;34m(\u001b[0m\u001b[0mbatch\u001b[0m\u001b[0;34m.\u001b[0m\u001b[0mexc_msg\u001b[0m\u001b[0;34m)\u001b[0m\u001b[0;34m\u001b[0m\u001b[0m\n\u001b[0m\u001b[1;32m    659\u001b[0m         \u001b[0;32mreturn\u001b[0m \u001b[0mbatch\u001b[0m\u001b[0;34m\u001b[0m\u001b[0m\n\u001b[1;32m    660\u001b[0m \u001b[0;34m\u001b[0m\u001b[0m\n",
      "\u001b[0;31mTypeError\u001b[0m: Traceback (most recent call last):\n  File \"/opt/anaconda/anaconda3/lib/python3.6/site-packages/torch/utils/data/dataloader.py\", line 138, in _worker_loop\n    samples = collate_fn([dataset[i] for i in batch_indices])\n  File \"/opt/anaconda/anaconda3/lib/python3.6/site-packages/torch/utils/data/dataloader.py\", line 234, in default_collate\n    raise TypeError((error_msg.format(type(batch[0]))))\nTypeError: batch must contain tensors, numbers, dicts or lists; found <class 'torchtext.data.example.Example'>\n"
     ]
    }
   ],
   "source": [
    "for i in dataloader:\n",
    "    print(i.text.values)\n",
    "    break"
   ]
  },
  {
   "cell_type": "code",
   "execution_count": 91,
   "metadata": {},
   "outputs": [
    {
     "ename": "IndexError",
     "evalue": "list index out of range",
     "output_type": "error",
     "traceback": [
      "\u001b[0;31m---------------------------------------------------------------------------\u001b[0m",
      "\u001b[0;31mIndexError\u001b[0m                                Traceback (most recent call last)",
      "\u001b[0;32m<ipython-input-91-3465352c973c>\u001b[0m in \u001b[0;36m<module>\u001b[0;34m()\u001b[0m\n\u001b[0;32m----> 1\u001b[0;31m \u001b[0mtrain_iter\u001b[0m\u001b[0;34m.\u001b[0m\u001b[0mdataset\u001b[0m\u001b[0;34m.\u001b[0m\u001b[0mexamples\u001b[0m\u001b[0;34m[\u001b[0m\u001b[0;36m1\u001b[0m\u001b[0;34m]\u001b[0m\u001b[0;34m\u001b[0m\u001b[0m\n\u001b[0m",
      "\u001b[0;31mIndexError\u001b[0m: list index out of range"
     ]
    }
   ],
   "source": []
  },
  {
   "cell_type": "code",
   "execution_count": null,
   "metadata": {},
   "outputs": [],
   "source": []
  }
 ],
 "metadata": {
  "kernelspec": {
   "display_name": "Python 3",
   "language": "python",
   "name": "python3"
  },
  "language_info": {
   "codemirror_mode": {
    "name": "ipython",
    "version": 3
   },
   "file_extension": ".py",
   "mimetype": "text/x-python",
   "name": "python",
   "nbconvert_exporter": "python",
   "pygments_lexer": "ipython3",
   "version": "3.6.5"
  }
 },
 "nbformat": 4,
 "nbformat_minor": 2
}
