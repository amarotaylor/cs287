{
  "nbformat": 4,
  "nbformat_minor": 0,
  "metadata": {
    "colab": {
      "name": "Homework3.ipynb",
      "version": "0.3.2",
      "provenance": [],
      "collapsed_sections": []
    },
    "kernelspec": {
      "name": "python3",
      "display_name": "Python 3"
    },
    "accelerator": "GPU"
  },
  "cells": [
    {
      "metadata": {
        "id": "0kMy8khN8tvG",
        "colab_type": "text"
      },
      "cell_type": "markdown",
      "source": [
        "# HW 3: Neural Machine Translation"
      ]
    },
    {
      "metadata": {
        "id": "HAY0edmR8tvI",
        "colab_type": "text"
      },
      "cell_type": "markdown",
      "source": [
        "In this homework you will build a full neural machine translation system using an attention-based encoder-decoder network to translate from German to English. The encoder-decoder network with attention forms the backbone of many current text generation systems. See [Neural Machine Translation and Sequence-to-sequence Models: A Tutorial](https://arxiv.org/pdf/1703.01619.pdf) for an excellent tutorial that also contains many modern advances.\n",
        "\n",
        "## Goals\n",
        "\n",
        "\n",
        "1. Build a non-attentional baseline model (pure seq2seq as in [ref](https://papers.nips.cc/paper/5346-sequence-to-sequence-learning-with-neural-networks.pdf)). \n",
        "2. Incorporate attention into the baseline model ([ref](https://arxiv.org/abs/1409.0473) but with dot-product attention as in class notes).\n",
        "3. Implement beam search: review/tutorial [here](http://www.phontron.com/slides/nlp-programming-en-13-search.pdf)\n",
        "4. Visualize the attention distribution for a few examples. \n",
        "\n",
        "Consult the papers provided for hyperparameters, and the course notes for formal definitions.\n",
        "\n",
        "This will be the most time-consuming assignment in terms of difficulty/training time, so we recommend that you get started early!"
      ]
    },
    {
      "metadata": {
        "id": "Q2PbuMxo8tvI",
        "colab_type": "text"
      },
      "cell_type": "markdown",
      "source": [
        "## Setup\n",
        "\n",
        "This notebook provides a working definition of the setup of the problem itself. Feel free to construct your models inline, or use an external setup (preferred) to build your system."
      ]
    },
    {
      "metadata": {
        "id": "0FNVUhWw85ZW",
        "colab_type": "code",
        "outputId": "58285e3b-a8e4-4d8e-b037-6881d0c45046",
        "colab": {
          "base_uri": "https://localhost:8080/",
          "height": 332
        }
      },
      "cell_type": "code",
      "source": [
        "!pip install -q torch torchtext spacy opt_einsum\n",
        "!pip install -qU git+https://github.com/harvardnlp/namedtensor\n",
        "!python -m spacy download en\n",
        "!python -m spacy download de"
      ],
      "execution_count": 0,
      "outputs": [
        {
          "output_type": "stream",
          "text": [
            "  Building wheel for namedtensor (setup.py) ... \u001b[?25ldone\n",
            "\u001b[?25hRequirement already satisfied: en_core_web_sm==2.0.0 from https://github.com/explosion/spacy-models/releases/download/en_core_web_sm-2.0.0/en_core_web_sm-2.0.0.tar.gz#egg=en_core_web_sm==2.0.0 in /usr/local/lib/python3.6/dist-packages (2.0.0)\n",
            "\n",
            "\u001b[93m    Linking successful\u001b[0m\n",
            "    /usr/local/lib/python3.6/dist-packages/en_core_web_sm -->\n",
            "    /usr/local/lib/python3.6/dist-packages/spacy/data/en\n",
            "\n",
            "    You can now load the model via spacy.load('en')\n",
            "\n",
            "Requirement already satisfied: de_core_news_sm==2.0.0 from https://github.com/explosion/spacy-models/releases/download/de_core_news_sm-2.0.0/de_core_news_sm-2.0.0.tar.gz#egg=de_core_news_sm==2.0.0 in /usr/local/lib/python3.6/dist-packages (2.0.0)\n",
            "\n",
            "\u001b[93m    Linking successful\u001b[0m\n",
            "    /usr/local/lib/python3.6/dist-packages/de_core_news_sm -->\n",
            "    /usr/local/lib/python3.6/dist-packages/spacy/data/de\n",
            "\n",
            "    You can now load the model via spacy.load('de')\n",
            "\n"
          ],
          "name": "stdout"
        }
      ]
    },
    {
      "metadata": {
        "id": "Ea-ruBUP8tvJ",
        "colab_type": "code",
        "colab": {}
      },
      "cell_type": "code",
      "source": [
        "# Torch\n",
        "import torch\n",
        "# Text text processing library and methods for pretrained word embeddings\n",
        "from torchtext import data, datasets\n",
        "# Named Tensor wrappers\n",
        "from namedtensor import ntorch, NamedTensor\n",
        "from namedtensor.text import NamedField"
      ],
      "execution_count": 0,
      "outputs": []
    },
    {
      "metadata": {
        "id": "AGtH_W2-8tvM",
        "colab_type": "text"
      },
      "cell_type": "markdown",
      "source": [
        "We first need to process the raw data using a tokenizer. We are going to be using spacy, but you can use your own tokenization rules if you prefer (e.g. a simple `split()` in addition to some rules to acccount for punctuation), but we recommend sticking to the above."
      ]
    },
    {
      "metadata": {
        "id": "bPkWuOiV8tvN",
        "colab_type": "code",
        "colab": {}
      },
      "cell_type": "code",
      "source": [
        "import spacy\n",
        "spacy_de = spacy.load('de')\n",
        "spacy_en = spacy.load('en')\n",
        "\n",
        "def tokenize_de(text):\n",
        "    return [tok.text for tok in spacy_de.tokenizer(text)]\n",
        "\n",
        "def tokenize_en(text):\n",
        "    return [tok.text for tok in spacy_en.tokenizer(text)]\n"
      ],
      "execution_count": 0,
      "outputs": []
    },
    {
      "metadata": {
        "id": "teP-tJBp8tvP",
        "colab_type": "text"
      },
      "cell_type": "markdown",
      "source": [
        "Note that we need to add the beginning-of-sentence token `<s>` and the end-of-sentence token `</s>` to the \n",
        "target so we know when to begin/end translating. We do not need to do this on the source side."
      ]
    },
    {
      "metadata": {
        "id": "eq7IABHi8tvQ",
        "colab_type": "code",
        "colab": {}
      },
      "cell_type": "code",
      "source": [
        "BOS_WORD = '<s>'\n",
        "EOS_WORD = '</s>'\n",
        "DE = NamedField(names=('srcSeqlen',), tokenize=tokenize_de)\n",
        "EN = NamedField(names=('trgSeqlen',), tokenize=tokenize_en,\n",
        "                init_token = BOS_WORD, eos_token = EOS_WORD) # only target needs BOS/EOS"
      ],
      "execution_count": 0,
      "outputs": []
    },
    {
      "metadata": {
        "id": "PsFvHSZm8tvS",
        "colab_type": "text"
      },
      "cell_type": "markdown",
      "source": [
        "Let's download the data. This may take a few minutes.\n",
        "\n",
        "While this dataset of 200K sentence pairs is relatively small compared to others, it will still take some time to train. We only expect you to work with sentences of length at most 20 for this homework. You are expected to train on at least this reduced dataset for this homework, but are free to experiment with the rest of the training set as well.\n",
        "\n",
        "**We encourage you to start with `MAX_LEN=20` but encourage experimentation after getting reasonable results with the filtered data. The baseline scores are based on models train on the filtered data.**"
      ]
    },
    {
      "metadata": {
        "id": "j-s1HsaA8tvT",
        "colab_type": "code",
        "outputId": "7ae62297-059e-41c2-f322-69ea0aecdb03",
        "colab": {
          "base_uri": "https://localhost:8080/",
          "height": 89
        }
      },
      "cell_type": "code",
      "source": [
        "MAX_LEN = 20\n",
        "train, val, test = datasets.IWSLT.splits(exts=('.de', '.en'), fields=(DE, EN), \n",
        "                                         filter_pred=lambda x: len(vars(x)['src']) <= MAX_LEN and \n",
        "                                         len(vars(x)['trg']) <= MAX_LEN)\n",
        "print(train.fields)\n",
        "print(len(train))\n",
        "print(vars(train[0]))"
      ],
      "execution_count": 0,
      "outputs": [
        {
          "output_type": "stream",
          "text": [
            "{'src': <namedtensor.text.torch_text.NamedField object at 0x7f5748f8a978>, 'trg': <namedtensor.text.torch_text.NamedField object at 0x7f5748f8a908>}\n",
            "119076\n",
            "{'src': ['David', 'Gallo', ':', 'Das', 'ist', 'Bill', 'Lange', '.', 'Ich', 'bin', 'Dave', 'Gallo', '.'], 'trg': ['David', 'Gallo', ':', 'This', 'is', 'Bill', 'Lange', '.', 'I', \"'m\", 'Dave', 'Gallo', '.']}\n"
          ],
          "name": "stdout"
        }
      ]
    },
    {
      "metadata": {
        "id": "papOb0pJ8tvY",
        "colab_type": "code",
        "outputId": "284e365e-9bae-4663-8a7a-8f7a3207f0e5",
        "colab": {
          "base_uri": "https://localhost:8080/",
          "height": 52
        }
      },
      "cell_type": "code",
      "source": [
        "!head -n 1 .data/iwslt/de-en/train.de-en.de\n",
        "!head -n 1 .data/iwslt/de-en/train.de-en.en"
      ],
      "execution_count": 0,
      "outputs": [
        {
          "output_type": "stream",
          "text": [
            "David Gallo: Das ist Bill Lange. Ich bin Dave Gallo.\n",
            "David Gallo: This is Bill Lange. I'm Dave Gallo.\n"
          ],
          "name": "stdout"
        }
      ]
    },
    {
      "metadata": {
        "id": "lbYgaJKp8tvb",
        "colab_type": "code",
        "colab": {}
      },
      "cell_type": "code",
      "source": [
        "src = open(\"valid.src\", \"w\")\n",
        "trg = open(\"valid.trg\", \"w\")\n",
        "for example in val:\n",
        "    print(\" \".join(example.src), file=src)\n",
        "    print(\" \".join(example.trg), file=trg)\n",
        "src.close()\n",
        "trg.close()"
      ],
      "execution_count": 0,
      "outputs": []
    },
    {
      "metadata": {
        "id": "h_tpneCe8tvd",
        "colab_type": "text"
      },
      "cell_type": "markdown",
      "source": [
        "Now we build the vocabulary and convert the text corpus into indices. We are going to be replacing tokens that occurred less than 5 times with `<unk>` tokens, and take the rest as our vocab."
      ]
    },
    {
      "metadata": {
        "id": "oNJM96FA8tvd",
        "colab_type": "code",
        "outputId": "0924d2de-763e-4f33-a120-4995c82e6a22",
        "colab": {
          "base_uri": "https://localhost:8080/",
          "height": 124
        }
      },
      "cell_type": "code",
      "source": [
        "MIN_FREQ = 5\n",
        "DE.build_vocab(train.src, min_freq=MIN_FREQ)\n",
        "EN.build_vocab(train.trg, min_freq=MIN_FREQ)\n",
        "print(DE.vocab.freqs.most_common(10))\n",
        "print(\"Size of German vocab\", len(DE.vocab))\n",
        "print(EN.vocab.freqs.most_common(10))\n",
        "print(\"Size of English vocab\", len(EN.vocab))\n",
        "print(EN.vocab.stoi[\"<s>\"], EN.vocab.stoi[\"</s>\"]) #vocab index for <s>, </s>"
      ],
      "execution_count": 0,
      "outputs": [
        {
          "output_type": "stream",
          "text": [
            "[('.', 113253), (',', 67237), ('ist', 24189), ('die', 23778), ('das', 17102), ('der', 15727), ('und', 15622), ('Sie', 15085), ('es', 13197), ('ich', 12946)]\n",
            "Size of German vocab 13353\n",
            "[('.', 113433), (',', 59512), ('the', 46029), ('to', 29177), ('a', 27548), ('of', 26794), ('I', 24887), ('is', 21775), (\"'s\", 20630), ('that', 19814)]\n",
            "Size of English vocab 11560\n",
            "2 3\n"
          ],
          "name": "stdout"
        }
      ]
    },
    {
      "metadata": {
        "id": "-yGUwxpA8tvg",
        "colab_type": "text"
      },
      "cell_type": "markdown",
      "source": [
        "Now we split our data into batches as usual. Batching for MT is slightly tricky because source/target will be of different lengths. Fortunately, `torchtext` lets you do this by allowing you to pass in a `sort_key` function. This will minimizing the amount of padding on the source side, but since there is still some padding you will inadvertendly \"attend\" to these padding tokens. \n",
        "\n",
        "One way to get rid of padding is to pass a binary `mask` vector to your attention module so its attention score (before the softmax) is minus infinity for the padding token. Another way (which is how we do it for some of our projects) is to manually sort data into batches so that each batch has exactly the same source length (this means that some batches will be less than the desired batch size, though).\n",
        "\n",
        "However, for this homework padding won't matter too much, so it's fine to ignore it."
      ]
    },
    {
      "metadata": {
        "id": "aZuaLv298tvm",
        "colab_type": "code",
        "colab": {}
      },
      "cell_type": "code",
      "source": [
        "BATCH_SIZE = 32\n",
        "device = torch.device('cuda:0')\n",
        "train_iter, val_iter = data.BucketIterator.splits((train, val), batch_size=BATCH_SIZE, device=device,\n",
        "                                                  repeat=False, sort_key=lambda x: len(x.src))"
      ],
      "execution_count": 0,
      "outputs": []
    },
    {
      "metadata": {
        "id": "yrQ3QmQe8tvq",
        "colab_type": "text"
      },
      "cell_type": "markdown",
      "source": [
        "Let's check to see that the BOS/EOS token is indeed appended to the target (English) sentence."
      ]
    },
    {
      "metadata": {
        "id": "fJse2chy8tvq",
        "colab_type": "code",
        "outputId": "a4ed1d7c-6a3c-484a-f93f-38bd065e3c1f",
        "colab": {
          "base_uri": "https://localhost:8080/",
          "height": 2969
        }
      },
      "cell_type": "code",
      "source": [
        "batch = next(iter(train_iter))\n",
        "print(\"Source\")\n",
        "print(batch.src)\n",
        "print(\"Target\")\n",
        "print(batch.trg)\n"
      ],
      "execution_count": 0,
      "outputs": [
        {
          "output_type": "stream",
          "text": [
            "Source\n",
            "NamedTensor(\n",
            "\ttensor([[   77,    12,    28,    28,   820,    23,  7273,    20,   322,   221,\n",
            "             0,   104,    77,    12,    17,   148,    77,    20,    97,   868,\n",
            "            28,    99,    12,    23,    28,    12,   150,   112,    23,   804,\n",
            "           612,   212],\n",
            "        [    4,   236,    33,     2,    50,    35,   103,   679,  3154,    21,\n",
            "          1008,     3,     4,    11,   473,    70,    47,    67,     9,    24,\n",
            "           119,   528,   167,     4,    33,    44,   172,    30,     4,  2056,\n",
            "             3,    33],\n",
            "        [   29,  1294,   403,     1,    10,   409,    32,    51,     0,   624,\n",
            "            10,   898,     6,   203,   188,   678,    13,   647,    32,  5581,\n",
            "            53,  1191,    13,  1867,   114,  1337,    24,  4387,  4318,  1182,\n",
            "            13,    13],\n",
            "        [    7,   109,  6226,     1,  1040,   248,     5,  4650,     3,     3,\n",
            "            32,    11,  7606,     3, 11713,    42,    94,    19,    18,   618,\n",
            "          5737,     4,   292,     2,  2964,    78,    23,   245,     6,    59,\n",
            "           171,     5],\n",
            "        [ 2113,    41,     0,     1,   686,  2050,  9366,    49,     7,    52,\n",
            "            52,     3,   149,     5,     3,  6870,     3,   173,    85,    22,\n",
            "             3,   409,     3,    26,     3,    54,     4,   610,     3,     6,\n",
            "           810,  6191],\n",
            "        [    3,   467,     8,     1,     3,   784,   100,     2,    37,    10,\n",
            "            55,   200,     0, 10795,     8,    83,    52,    29,    48,  1461,\n",
            "            31,     6,    43,     4,    79,  1942,    19,    70,    43,   225,\n",
            "           166,    45],\n",
            "        [ 4759,     0,     6,     1,    58,     2, 10936,     1,    11,    80,\n",
            "          1042,  8099,    16,   135,   175,    71,     0,     0,     0, 10063,\n",
            "             0,     0,    29,    19,    10,     2,    17,    29,    42,    19,\n",
            "           279,  5668],\n",
            "        [   15,     3,   242,     1,   168,     1,     2,     1,   325,    15,\n",
            "         11777,     3,  1608,  5932,     5,   632,    15,     3,  1055,    15,\n",
            "            37,     7,   162,  1986,     4,     1,     0,    56, 10764,   374,\n",
            "             2,  1274],\n",
            "        [   54,    31,   394,     1,    11,     1,     1,     1,    67,   138,\n",
            "             3,     0,     2,    54,     0,    24,  2589,     5,     3,   260,\n",
            "            19,     0,   691,    36,    66,     1,    17,  2429,    72,   440,\n",
            "             1,  9664],\n",
            "        [   16,    61,   100,     1,    10,     1,     1,     1,     3,     3,\n",
            "            21,  9094,     1,     8,    68,    23,    16,  3297,    27,     3,\n",
            "          5181,  3396,     3,   248,    92,     1,     2,    15,  1254,     0,\n",
            "             1,     2],\n",
            "        [    1,   211,    41,     1,   350,     1,     1,     1,     7,    35,\n",
            "            63,    51,     1,   709,     0,  4099,    17,     0,     9,   382,\n",
            "           263,   598,   186,  4501,     0,     1,  2284,    94,    38,    69,\n",
            "             1,     1],\n",
            "        [    1,    83,    53,     1,     2,     1,     1,     1,  9723,    11,\n",
            "          1131, 13291,     1,   196,     2,    83,     1,     0,    48,    21,\n",
            "             2,    24,    13,     3,     2,     1,   299,    33,     7,     2,\n",
            "             1,     1],\n",
            "        [    1,  1907,     2,     1,     1,     1,     1,     1,   558,   890,\n",
            "           499,  4406,     1,  1439,     1,   522,     1,    36,  1897,  2853,\n",
            "             1,     0,   193,   137,     1,     1,    16,     2,     0,     1,\n",
            "             1,     1],\n",
            "        [    1,   888,     1,     1,     1,     1,     1,     1,   756, 12862,\n",
            "           151,   156,     1,     3,     1,     8,     1,   296,     0,     0,\n",
            "             1, 11887,    30,  3627,     1,     1,     1,     1,   111,     1,\n",
            "             1,     1],\n",
            "        [    1,   429,     1,     1,     1,     1,     1,     1,    86,     0,\n",
            "             2,  2425,     1,    43,     1,  2595,     1,  2556,     2,    63,\n",
            "             1,     2,   312,    14,     1,     1,     1,     1,     2,     1,\n",
            "             1,     1],\n",
            "        [    1,     2,     1,     1,     1,     1,     1,     1,   264,     2,\n",
            "             1,  1067,     1,  1540,     1,   595,     1,     0,     1,     2,\n",
            "             1,     1,    25,     7,     1,     1,     1,     1,     1,     1,\n",
            "             1,     1],\n",
            "        [    1,     1,     1,     1,     1,     1,     1,     1,     4,     1,\n",
            "             1,     2,     1,     4,     1,     2,     1,     2,     1,     1,\n",
            "             1,     1,  9152,  7892,     1,     1,     1,     1,     1,     1,\n",
            "             1,     1],\n",
            "        [    1,     1,     1,     1,     1,     1,     1,     1,     2,     1,\n",
            "             1,     1,     1,     2,     1,     1,     1,     1,     1,     1,\n",
            "             1,     1,  1724,    15,     1,     1,     1,     1,     1,     1,\n",
            "             1,     1],\n",
            "        [    1,     1,     1,     1,     1,     1,     1,     1,     1,     1,\n",
            "             1,     1,     1,     1,     1,     1,     1,     1,     1,     1,\n",
            "             1,     1,     2,  7466,     1,     1,     1,     1,     1,     1,\n",
            "             1,     1],\n",
            "        [    1,     1,     1,     1,     1,     1,     1,     1,     1,     1,\n",
            "             1,     1,     1,     1,     1,     1,     1,     1,     1,     1,\n",
            "             1,     1,     1,     2,     1,     1,     1,     1,     1,     1,\n",
            "             1,     1]], device='cuda:0'),\n",
            "\t('srcSeqlen', 'batch'))\n",
            "Target\n",
            "NamedTensor(\n",
            "\ttensor([[    2,     2,     2,     2,     2,     2,     2,     2,     2,     2,\n",
            "             2,     2,     2,     2,     2,     2,     2,     2,     2,     2,\n",
            "             2,     2,     2,     2,     2,     2,     2,     2,     2,     2,\n",
            "             2,     2],\n",
            "        [   89,    14,    14,     0,  1239,    70,   128,    10,   221,    14,\n",
            "            27,    14,    89,    14,    22,    48,    89,    10,    14,   227,\n",
            "            34,    48,    14,    27,    34,    14,    14,  3289,    76,    14,\n",
            "            24,    34],\n",
            "        [   35,   150,    19,     4,    12,    23,   911,    72,  1064,   113,\n",
            "            12,    10,    11,    10,  5525,    11,    36,    26,   113,    39,\n",
            "            62,   231,    29,    12,    28,   137,    67,    17,    13,    92,\n",
            "           800,    98],\n",
            "        [    6,   645,  5031,     3,   263,   334,  3049,    47,     0,    31,\n",
            "             8,    74,     6,    74,   332,   152,    19,    28,    15,  1531,\n",
            "            60,  1539,    94,  2683,    20,   435,    12,     6,    11,   391,\n",
            "            19,   157],\n",
            "        [ 3580,    77,   935,     1,   236,    66,     5,   347,     5,   238,\n",
            "            53,    92,   644,     6,   867,     0,    26,     8,    43,   406,\n",
            "             6,    11,     7,     4,  2052,    55,    58,   335,   438,     5,\n",
            "            84,     6],\n",
            "        [    9,    61,  6945,     1,    16,   132,     6,    44,   124,    17,\n",
            "           242,     0,   491,  1364,    18,    33,    18,   182,    71,     7,\n",
            "          1044,   334,   295,    27,     5,   321,   218,  3288,    32,    13,\n",
            "            30,  4877],\n",
            "        [  185,  3520,     5,     1,   243,  2146,  4198,     4,    12,     7,\n",
            "          2454,     5,     9,   719,    91,     8,  2748,    38,     9,   275,\n",
            "           554,     6,    32,    12,    93,  1169,    39,     5,  4650,    36,\n",
            "            28,    18],\n",
            "        [ 1607,     0,    18,     1,     5,     4,   460,     3,    73,   181,\n",
            "            83, 11257,  7642,    88,     0,     0,    78,  9589,     6,   124,\n",
            "            13,     0,   291,     8,    16,    55,    48,   103,    77,   156,\n",
            "           201,  2561],\n",
            "        [   21,    13,     6,     1,    61,     3,   245,     1,     5,    59,\n",
            "            91,  6474,    21,     7,   432,    39,   916,    13,     0,    25,\n",
            "             0,  1484,    38,  3062,    12,     4,    11,    47,   368,    40,\n",
            "           289,    68],\n",
            "        [    3,    81,   298,     1,    10,     1,  1638,     1,    51,     5,\n",
            "             5,   111,  1825,   741,     4,    42,  4784,  9736,     5,  2324,\n",
            "            95,     9,    68,     9,    37,     3,     8,  2413,    17,     8,\n",
            "             4,    71],\n",
            "        [    1,    79,   245,     1,    75,     1,     4,     1,    10,    10,\n",
            "            16,    73,     4,    69,     3,     0,    21,    45,    15,   185,\n",
            "           359,  3533,     5,    66,     8,     1,     0,     6,     8,   131,\n",
            "             3,    56],\n",
            "        [    1,     7,   448,     1,    65,     1,     3,     1,   101,    23,\n",
            "            12,   518,     3,    18,     1,     9,    22,  5344,    43,     0,\n",
            "            51,  1320,    19,  4837,  6453,     1,     5,  1904,   547,  2246,\n",
            "             1,  4388],\n",
            "        [    1,  1512,    51,     1,     7,     1,     1,     1,     5,    49,\n",
            "           337,     8,     1,   210,     1,     0,     3,  5139,    33,     9,\n",
            "             8,   517,    43,     7,   370,     1,   105,    38,  4564,     4,\n",
            "             1,  1211],\n",
            "        [    1,     7,    20,     1,   102,     1,     1,     1,     6,   132,\n",
            "            69,   168,     1,     7,     1,    18,     1,  2070,     6,  1265,\n",
            "          2457,     5,    65,   891,     4,     1,    21,     8,    49,     3,\n",
            "             1,     4],\n",
            "        [    1,  1827,     4,     1,    26,     1,     1,     1,  3124,     0,\n",
            "            33,   613,     1,    74,     1,  2870,     1,  1441,  1980,     4,\n",
            "             4,     0,     7,    68,     3,     1,     3,     0,  2725,     1,\n",
            "             1,     3],\n",
            "        [    1,     4,     3,     1,    16,     1,     1,     1,   590,     4,\n",
            "           539,     7,     1,    35,     1,  3016,     1,    29,  4363,     3,\n",
            "             3,     0,   822,    17,     1,     1,     1,  4661,  1603,     1,\n",
            "             1,     1],\n",
            "        [    1,     3,     1,     1,     4,     1,     1,     1,    20,     3,\n",
            "           117,     6,     1,    32,     1,     4,     1,  2240,   915,     1,\n",
            "             1,     4,  6575,     6,     1,     1,     1,     4,     4,     1,\n",
            "             1,     1],\n",
            "        [    1,     1,     1,     1,     3,     1,     1,     1,     4,     1,\n",
            "             4,  2087,     1,  1163,     1,     3,     1,     4,     4,     1,\n",
            "             1,     3,     4,  1866,     1,     1,     1,     3,     3,     1,\n",
            "             1,     1],\n",
            "        [    1,     1,     1,     1,     1,     1,     1,     1,     3,     1,\n",
            "             3,     4,     1,    11,     1,     1,     1,     3,     3,     1,\n",
            "             1,     1,     3,     4,     1,     1,     1,     1,     1,     1,\n",
            "             1,     1],\n",
            "        [    1,     1,     1,     1,     1,     1,     1,     1,     1,     1,\n",
            "             1,     3,     1,     4,     1,     1,     1,     1,     1,     1,\n",
            "             1,     1,     1,     3,     1,     1,     1,     1,     1,     1,\n",
            "             1,     1],\n",
            "        [    1,     1,     1,     1,     1,     1,     1,     1,     1,     1,\n",
            "             1,     1,     1,     3,     1,     1,     1,     1,     1,     1,\n",
            "             1,     1,     1,     1,     1,     1,     1,     1,     1,     1,\n",
            "             1,     1]], device='cuda:0'),\n",
            "\t('trgSeqlen', 'batch'))\n"
          ],
          "name": "stdout"
        }
      ]
    },
    {
      "metadata": {
        "id": "wEg6xGa38tvu",
        "colab_type": "text"
      },
      "cell_type": "markdown",
      "source": [
        "Success! Now that we've processed the data, we are ready to begin modeling."
      ]
    },
    {
      "metadata": {
        "id": "QEjFvvFg8tvw",
        "colab_type": "text"
      },
      "cell_type": "markdown",
      "source": [
        "## Assignment\n",
        "\n",
        "Now it is your turn to build the models described at the top of the assignment. \n",
        "\n",
        "When a model is trained, use the following test function to produce predictions, and then upload to the kaggle competition: https://www.kaggle.com/c/harvard-cs287-s19-hw3/\n",
        "\n",
        "For the final Kaggle test, we will provide the source sentence, and you are to predict the **first three words of the target sentence**. The source sentence can be found under `source_test.txt`"
      ]
    },
    {
      "metadata": {
        "id": "EXcYOO1H8tvx",
        "colab_type": "code",
        "outputId": "52671600-41df-4d32-aa19-e933cb0fbd02",
        "colab": {
          "base_uri": "https://localhost:8080/",
          "height": 243
        }
      },
      "cell_type": "code",
      "source": [
        "!curl -O https://raw.githubusercontent.com/harvard-ml-courses/cs287-s18/master/HW3/source_test.txt\n",
        "!head source_test.txt"
      ],
      "execution_count": 0,
      "outputs": [
        {
          "output_type": "stream",
          "text": [
            "  % Total    % Received % Xferd  Average Speed   Time    Time     Time  Current\n",
            "                                 Dload  Upload   Total   Spent    Left  Speed\n",
            "\r  0     0    0     0    0     0      0      0 --:--:-- --:--:-- --:--:--     0\r100 50587  100 50587    0     0   250k      0 --:--:-- --:--:-- --:--:--  250k\n",
            "Als ich in meinen 20ern war , hatte ich meine erste Psychotherapie-Patientin .\n",
            "Ich war Doktorandin und studierte Klinische Psychologie in Berkeley .\n",
            "Sie war eine 26-jährige Frau namens Alex .\n",
            "Und als ich das hörte , war ich erleichtert .\n",
            "Meine Kommilitonin bekam nämlich einen Brandstifter als ersten Patienten .\n",
            "Und ich bekam eine Frau in den 20ern , die über Jungs reden wollte .\n",
            "Das kriege ich hin , dachte ich mir .\n",
            "Aber ich habe es nicht hingekriegt .\n",
            "Arbeit kam später , Heiraten kam später , Kinder kamen später , selbst der Tod kam später .\n",
            "Leute in den 20ern wie Alex und ich hatten nichts als Zeit .\n"
          ],
          "name": "stdout"
        }
      ]
    },
    {
      "metadata": {
        "id": "VbMPYOCW8tv1",
        "colab_type": "text"
      },
      "cell_type": "markdown",
      "source": [
        "Similar to HW1, you are to predict the 100 most probable 3-gram that will begin the target sentence. The submission format will be as follows, where each word in the 3-gram will be separated by \"|\", and each 3-gram will be separated by space. For example, here is what an example submission might look like with 5 most-likely 3-grams (instead of 100)."
      ]
    },
    {
      "metadata": {
        "id": "gVSLUg5e8tv2",
        "colab_type": "text"
      },
      "cell_type": "markdown",
      "source": [
        "```\n",
        "id,word\n",
        "1,Newspapers|talk|about When|I|was Researchers|call|the Twentysomethings|like|Alex But|before|long\n",
        "2,That|'s|what Newspapers|talk|about You|have|robbed It|'s|realizing My|parents|wanted\n",
        "3,We|forget|how We|think|about Proust|actually|links Does|any|other This|is|something\n",
        "4,But|what|do And|it|'s They|'re|on My|name|is It|only|happens\n",
        "```"
      ]
    },
    {
      "metadata": {
        "id": "S8yp7q_D8tv2",
        "colab_type": "text"
      },
      "cell_type": "markdown",
      "source": [
        "When you print out your data, you will need to escape quotes and commas with the following command so that Kaggle does not complain. "
      ]
    },
    {
      "metadata": {
        "id": "lo0EGJRn8tv4",
        "colab_type": "code",
        "colab": {}
      },
      "cell_type": "code",
      "source": [
        "def escape(l):\n",
        "    return l.replace(\"\\\"\", \"<quote>\").replace(\",\", \"<comma>\")"
      ],
      "execution_count": 0,
      "outputs": []
    },
    {
      "metadata": {
        "id": "Z-3djaHv8tv6",
        "colab_type": "text"
      },
      "cell_type": "markdown",
      "source": [
        "You should perform your hyperparameter search/early stopping/write-up based on perplexity, not the above metric. In practice, people use a metric called [BLEU](https://www.aclweb.org/anthology/P02-1040.pdf), which is roughly a geometric average of 1-gram, 2-gram, 3-gram, 4-gram precision, with a brevity penalty for producing translations that are too short.\n",
        "\n",
        "The test data associated with `source_test.txt` can be found [here](https://gist.githubusercontent.com/justinchiu/c4340777fa86facd820c59ff4d84c078/raw/e6ec7daba76446bc1000813680f4722060e51900/gistfile1.txt). Compute the BLEU score of your conditional de-en model with the `multi-bleu.perl` script found [here](https://github.com/moses-smt/mosesdecoder/blob/master/scripts/generic/multi-bleu.perl). Please submit your BLEU scores on test with your final writeup using the template provided in the repository:  https://github.com/harvard-ml-courses/nlp-template. \n",
        "\n"
      ]
    }
  ]
}