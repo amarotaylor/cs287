{
 "cells": [
  {
   "cell_type": "markdown",
   "metadata": {},
   "source": [
    "# CS 287, Homework 3: Neural Machine Translation"
   ]
  },
  {
   "cell_type": "code",
   "execution_count": 190,
   "metadata": {},
   "outputs": [],
   "source": [
    "import torch\n",
    "from torch.nn.utils import clip_grad_norm_\n",
    "torch.__version__\n",
    "\n",
    "## Setup\n",
    "\n",
    "#!pip install --upgrade pip\n",
    "#!pip install -q numpy\n",
    "\n",
    "#!pip install -q torch torchtext spacy opt_einsum\n",
    "#!pip install -qU git+https://github.com/harvardnlp/namedtensor\n",
    "#!python -m spacy download en\n",
    "#!python -m spacy download de\n",
    "\n",
    "# Torch\n",
    "import torch.nn as nn\n",
    "import torch\n",
    "# Text text processing library and methods for pretrained word embeddings\n",
    "from torchtext import data, datasets\n",
    "# Named Tensor wrappers\n",
    "from namedtensor import ntorch, NamedTensor\n",
    "from namedtensor.text import NamedField\n",
    "import numpy as np"
   ]
  },
  {
   "cell_type": "code",
   "execution_count": 144,
   "metadata": {},
   "outputs": [
    {
     "name": "stdout",
     "output_type": "stream",
     "text": [
      "{'src': <namedtensor.text.torch_text.NamedField object at 0x7f77635ff5c0>, 'trg': <namedtensor.text.torch_text.NamedField object at 0x7f776088fbe0>}\n",
      "119076\n",
      "{'src': ['David', 'Gallo', ':', 'Das', 'ist', 'Bill', 'Lange', '.', 'Ich', 'bin', 'Dave', 'Gallo', '.'], 'trg': ['David', 'Gallo', ':', 'This', 'is', 'Bill', 'Lange', '.', 'I', \"'m\", 'Dave', 'Gallo', '.']}\n",
      "[('.', 113253), (',', 67237), ('ist', 24189), ('die', 23778), ('das', 17102), ('der', 15727), ('und', 15622), ('Sie', 15085), ('es', 13197), ('ich', 12946)]\n",
      "Size of German vocab 13353\n",
      "[('.', 113433), (',', 59512), ('the', 46029), ('to', 29177), ('a', 27548), ('of', 26794), ('I', 24887), ('is', 21775), (\"'s\", 20630), ('that', 19814)]\n",
      "Size of English vocab 11560\n",
      "2 3\n",
      "1 0\n"
     ]
    }
   ],
   "source": [
    "# split raw data into tokens\n",
    "import spacy\n",
    "spacy_de = spacy.load('de')\n",
    "spacy_en = spacy.load('en')\n",
    "\n",
    "def tokenize_de(text):\n",
    "    return [tok.text for tok in spacy_de.tokenizer(text)]\n",
    "\n",
    "def tokenize_en(text):\n",
    "    return [tok.text for tok in spacy_en.tokenizer(text)]\n",
    "\n",
    "# add beginning-of-sentence and end-of-sentence tokens to target\n",
    "BOS_WORD = '<s>'\n",
    "EOS_WORD = '</s>'\n",
    "DE = NamedField(names=('srcSeqlen',), tokenize=tokenize_de)\n",
    "EN = NamedField(names=('trgSeqlen',), tokenize=tokenize_en,\n",
    "                init_token = BOS_WORD, eos_token = EOS_WORD) # only target needs BOS/EOS\n",
    "\n",
    "# download dataset of 200K pairs of sentences\n",
    "# start with MAXLEN = 20\n",
    "MAX_LEN = 20\n",
    "train, val, test = datasets.IWSLT.splits(exts=('.de', '.en'), fields=(DE, EN), \n",
    "                                         filter_pred=lambda x: len(vars(x)['src']) <= MAX_LEN and \n",
    "                                         len(vars(x)['trg']) <= MAX_LEN)\n",
    "print(train.fields)\n",
    "print(len(train))\n",
    "print(vars(train[0]))\n",
    "\n",
    "# WHAT DOES THIS DO?\n",
    "'''src = open(\"valid.src\", \"w\")\n",
    "trg = open(\"valid.trg\", \"w\")\n",
    "for example in val:\n",
    "    print(\" \".join(example.src), file=src)\n",
    "    print(\" \".join(example.trg), file=trg)\n",
    "src.close()\n",
    "trg.close()'''\n",
    "\n",
    "# build vocab, convert words to indices\n",
    "MIN_FREQ = 5\n",
    "DE.build_vocab(train.src, min_freq=MIN_FREQ)\n",
    "EN.build_vocab(train.trg, min_freq=MIN_FREQ)\n",
    "print(DE.vocab.freqs.most_common(10))\n",
    "print(\"Size of German vocab\", len(DE.vocab))\n",
    "print(EN.vocab.freqs.most_common(10))\n",
    "print(\"Size of English vocab\", len(EN.vocab))\n",
    "print(EN.vocab.stoi[\"<s>\"], EN.vocab.stoi[\"</s>\"])\n",
    "\n",
    "print(EN.vocab.stoi[\"<pad>\"], EN.vocab.stoi[\"<unk>\"])"
   ]
  },
  {
   "cell_type": "code",
   "execution_count": 245,
   "metadata": {},
   "outputs": [],
   "source": [
    "# split data into batches\n",
    "BATCH_SIZE = 128\n",
    "device = torch.device('cuda:0')\n",
    "train_iter, val_iter = data.BucketIterator.splits((train, val), batch_size=BATCH_SIZE, device=device,\n",
    "                                                  repeat=False, sort_key=lambda x: len(x.src))"
   ]
  },
  {
   "cell_type": "markdown",
   "metadata": {},
   "source": [
    "## Sequence to Sequence Learning with Neural Networks"
   ]
  },
  {
   "cell_type": "markdown",
   "metadata": {},
   "source": [
    "- English to French translation, $p \\left( y_1, \\dots, y_{T'} \\ | \\ x_1, \\dots, x_T \\right) = \\prod_{t = 1}^{T'} p \\left( y_t \\ | \\ v, y_1, \\dots, y_{t-1} \\right)$\n",
    "- Each sentence ends in '<EOS\\>', out-of-vocab words denoted '<UNK\\>'\n",
    "- Model specs: \n",
    "    * Input vocabulary of 160,000 and output vocabulary of 80,000\n",
    "    * Deep LSTM to map (encode) input sequence to fixed-len vector\n",
    "    * Another deep LSTM to translate (decode) fixed-len vector to output sequence\n",
    "    * 4 layers per LSTM, 1000 cells per layer, 1000-dimensional word embeddings, softmax over 80,000 words\n",
    "    * Reversing order of words in source (but not target) improved performance\n",
    "        * Each word in the source is far from its corresponding word in the target (large minimal time lag); reversing the source reduces the minimal time lag, thereby allowing backprop to establish communication between source and target more easily\n",
    "- Training specs:\n",
    "    * Initialize all LSTM params $\\sim Unif[-0.08,0.08]$\n",
    "    * SGD w/o momentum, lr = 0.7\n",
    "        * After 5 epochs, halve the lr every half-epoch\n",
    "        * Train for 7.5 epochs\n",
    "    * Batch size = 128; divide gradient by batch size (denoted $g$)\n",
    "    * Hard constraint gradient norm; if $s = ||g||_2 > 5$, set $s = 5$\n",
    "    * Make sure all sentences within a minibatch are roughly the same length\n",
    "- Objective: $max \\frac{1}{|S|} \\sum_{(T,S) \\in \\mathcal{S}} log \\ p(T \\ | \\ S)$, where $\\mathcal{S}$ is the training set\n",
    "- Prediction: $\\hat{T} = argmax \\ p(T \\ | \\ S)$ via beam search, where beam size $B \\in {1,2}$"
   ]
  },
  {
   "cell_type": "code",
   "execution_count": 274,
   "metadata": {},
   "outputs": [],
   "source": [
    "class SequenceModel(nn.Module):\n",
    "    def __init__(self, src_vocab_size, context_size,weight_init = 0.08):\n",
    "        super(SequenceModel, self).__init__()\n",
    "        # embedding\n",
    "        self.embedding = nn.Embedding(src_vocab_size, context_size)\n",
    "        # langauge summarization\n",
    "        self.lstm = nn.LSTM(input_size=context_size, hidden_size=context_size, num_layers=6, batch_first=True)\n",
    "        for p in self.lstm.parameters():\n",
    "            torch.nn.init.uniform_(p, a=weight_init, b=weight_init)\n",
    "\n",
    "    def forward(self, inputs, h0=None):\n",
    "        # embed the words \n",
    "        embedded = self.embedding(inputs)\n",
    "        # summarize context\n",
    "        context, hidden = self.lstm(embedded,h0)\n",
    "        return context, hidden\n",
    "    \n",
    "class LanguageModel(nn.Module):\n",
    "    def __init__(self, target_vocab_size, hidden_size, context_size, weight_init = 0.08 ):\n",
    "        super(LanguageModel, self).__init__()\n",
    "        # context is batch_size x seq_len x context_size\n",
    "        # context to hidden\n",
    "        self.embedding = nn.Embedding(target_vocab_size, hidden_size)\n",
    "        # hidden to hidden \n",
    "        self.lstm = nn.LSTM(input_size=hidden_size, hidden_size=hidden_size, num_layers=1, batch_first=True)\n",
    "        # decode hidden state for y_t\n",
    "        for p in self.lstm.parameters():\n",
    "            torch.nn.init.uniform_(p, a=weight_init, b=weight_init)\n",
    "            \n",
    "        self.translate = nn.Linear(hidden_size, target_vocab_size)\n",
    "\n",
    "    def forward(self, inputs, h0=None):\n",
    "        # embed the trg words\n",
    "        embedded = self.embedding(inputs)\n",
    "        # setting hidden state to context at t=0\n",
    "        # otherwise context = prev hidden state\n",
    "        output, hidden = self.lstm(embedded, h0)\n",
    "        output = self.translate(output)\n",
    "        return output,hidden\n"
   ]
  },
  {
   "cell_type": "code",
   "execution_count": 308,
   "metadata": {},
   "outputs": [],
   "source": [
    "context_size = 1500\n",
    "seq2context = SequenceModel(len(DE.vocab),context_size)\n",
    "context2trg = LanguageModel(len(EN.vocab),hidden_size=1500,context_size=context_size)\n",
    "seq2context,context2trg = seq2context.cuda(),context2trg.cuda()\n",
    "seq2context_optimizer = torch.optim.Adam(seq2context.parameters(), lr=1e-5)\n",
    "context2trg_optimizer = torch.optim.Adam(context2trg.parameters(), lr=1e-5)"
   ]
  },
  {
   "cell_type": "code",
   "execution_count": 309,
   "metadata": {},
   "outputs": [],
   "source": [
    "criterion = nn.CrossEntropyLoss(reduction='none')"
   ]
  },
  {
   "cell_type": "code",
   "execution_count": 310,
   "metadata": {},
   "outputs": [],
   "source": [
    "def repackage_hidden(h):\n",
    "    return tuple(v.detach() for v in h)\n",
    "def repackage_layer(hidden_s2c,hidden=100):\n",
    "    return tuple([hidden_s2c[0][-1].detach().view(1,BATCH_SIZE,hidden),hidden_s2c[1][-1].detach().view(1,BATCH_SIZE,hidden)])\n",
    "    "
   ]
  },
  {
   "cell_type": "code",
   "execution_count": 311,
   "metadata": {},
   "outputs": [],
   "source": [
    "#src = batch.src.values.transpose(0,1)\n",
    "#trg = batch.trg.values.transpose(0,1)\n",
    "#trg_str = torch.tensor(EN.vocab.stoi[\"<s>\"],device='cuda').repeat(BATCH_SIZE).view(-1,1)\n",
    "## example forward pass\n",
    "#context, hidden_s2c = seq2context(src)\n",
    "#hidden = repackage_layer(hidden_s2c)\n",
    "#output, hidden_lm = context2trg(trg_str,hidden)\n",
    "#hidden = repackage_hidden(hidden_lm)"
   ]
  },
  {
   "cell_type": "code",
   "execution_count": 312,
   "metadata": {},
   "outputs": [],
   "source": [
    "def training_loop(e=0):\n",
    "    seq2context.train()\n",
    "    context2trg.train()\n",
    "    h0 = None\n",
    "    for ix,batch in enumerate(train_iter):\n",
    "        seq2context_optimizer.zero_grad()\n",
    "        context2trg_optimizer.zero_grad()\n",
    "        \n",
    "        src = batch.src.values.transpose(0,1)\n",
    "        trg = batch.trg.values.transpose(0,1)\n",
    "        if src.shape[0]!=BATCH_SIZE:\n",
    "            break\n",
    "        else:\n",
    "            # generate hidden state for decoder\n",
    "            context, hidden_s2c = seq2context(src,h0)\n",
    "            hidden = repackage_layer(hidden_s2c,context_size)\n",
    "            output, hidden_lm = context2trg(trg[:,:-1],hidden)\n",
    "            loss = criterion(output.transpose(2,1),trg[:,1:])\n",
    "            mask = trg[:,1:]!=1\n",
    "            loss = loss[mask].sum()\n",
    "            #clip_grad_norm_(seq2context.parameters(), max_norm=5)\n",
    "            #clip_grad_norm_(context2trg.parameters(), max_norm=5)\n",
    "            loss.backward()\n",
    "            seq2context_optimizer.step()\n",
    "            context2trg_optimizer.step()\n",
    "        if np.mod(ix,100) == 0:\n",
    "            print('Epoch: {}, Batch: {}, loss: {}'.format(e, ix, loss.cpu().detach()))\n",
    "            \n",
    "            "
   ]
  },
  {
   "cell_type": "code",
   "execution_count": null,
   "metadata": {
    "scrolled": false
   },
   "outputs": [
    {
     "name": "stdout",
     "output_type": "stream",
     "text": [
      "Epoch: 0, Batch: 0, loss: 16886.04296875\n",
      "Epoch: 0, Batch: 100, loss: 13038.07421875\n",
      "Epoch: 0, Batch: 200, loss: 11312.76953125\n",
      "Epoch: 0, Batch: 300, loss: 10550.916015625\n",
      "Epoch: 0, Batch: 400, loss: 9419.884765625\n",
      "Epoch: 0, Batch: 500, loss: 9613.4921875\n",
      "Epoch: 0, Batch: 600, loss: 10366.25\n"
     ]
    }
   ],
   "source": [
    "for e in range(3):\n",
    "    training_loop(e)"
   ]
  },
  {
   "cell_type": "code",
   "execution_count": 282,
   "metadata": {},
   "outputs": [
    {
     "data": {
      "text/plain": [
       "(['<s>',\n",
       "  'The',\n",
       "  'oxygen',\n",
       "  'tanks',\n",
       "  'did',\n",
       "  \"n't\",\n",
       "  'quite',\n",
       "  'work',\n",
       "  'right',\n",
       "  '.',\n",
       "  '</s>',\n",
       "  '<pad>',\n",
       "  '<pad>',\n",
       "  '<pad>',\n",
       "  '<pad>',\n",
       "  '<pad>',\n",
       "  '<pad>',\n",
       "  '<pad>',\n",
       "  '<pad>',\n",
       "  '<pad>',\n",
       "  '<pad>',\n",
       "  '<pad>'],\n",
       " ['Die',\n",
       "  '<unk>',\n",
       "  'funktionierten',\n",
       "  'nicht',\n",
       "  'richtig',\n",
       "  '.',\n",
       "  '<pad>',\n",
       "  '<pad>',\n",
       "  '<pad>',\n",
       "  '<pad>',\n",
       "  '<pad>',\n",
       "  '<pad>',\n",
       "  '<pad>',\n",
       "  '<pad>',\n",
       "  '<pad>',\n",
       "  '<pad>',\n",
       "  '<pad>',\n",
       "  '<pad>',\n",
       "  '<pad>',\n",
       "  '<pad>'])"
      ]
     },
     "execution_count": 282,
     "metadata": {},
     "output_type": "execute_result"
    }
   ],
   "source": [
    "[EN.vocab.itos[i] for i in trg[3,:]],[DE.vocab.itos[i] for i in src[3,:]]"
   ]
  },
  {
   "cell_type": "code",
   "execution_count": 300,
   "metadata": {},
   "outputs": [],
   "source": [
    "h0=None\n",
    "context, hidden_s2c = seq2context(src,h0)\n",
    "hidden = repackage_layer(hidden_s2c,context_size)\n",
    "output, hidden_lm = context2trg(trg[:,:-1],hidden)\n",
    "lsm = torch.nn.LogSoftmax(dim=2)"
   ]
  },
  {
   "cell_type": "code",
   "execution_count": 307,
   "metadata": {},
   "outputs": [
    {
     "data": {
      "text/plain": [
       "tensor([[[  5.8818, -14.0210, -13.9399,  ...,  -5.9548,  -8.9341,  -9.0062],\n",
       "         [  5.8818, -14.0210, -13.9399,  ...,  -5.9548,  -8.9341,  -9.0062],\n",
       "         [  5.8818, -14.0210, -13.9399,  ...,  -5.9548,  -8.9341,  -9.0062],\n",
       "         ...,\n",
       "         [  5.8818, -14.0210, -13.9399,  ...,  -5.9548,  -8.9341,  -9.0062],\n",
       "         [  5.8818, -14.0210, -13.9399,  ...,  -5.9548,  -8.9341,  -9.0062],\n",
       "         [  5.8818, -14.0210, -13.9399,  ...,  -5.9548,  -8.9341,  -9.0062]],\n",
       "\n",
       "        [[  5.8818, -14.0210, -13.9399,  ...,  -5.9548,  -8.9341,  -9.0062],\n",
       "         [  5.8818, -14.0210, -13.9399,  ...,  -5.9548,  -8.9341,  -9.0062],\n",
       "         [  5.8818, -14.0210, -13.9399,  ...,  -5.9548,  -8.9341,  -9.0062],\n",
       "         ...,\n",
       "         [  5.8818, -14.0210, -13.9399,  ...,  -5.9548,  -8.9341,  -9.0062],\n",
       "         [  5.8818, -14.0210, -13.9399,  ...,  -5.9548,  -8.9341,  -9.0062],\n",
       "         [  5.8818, -14.0210, -13.9399,  ...,  -5.9548,  -8.9341,  -9.0062]],\n",
       "\n",
       "        [[  5.8818, -14.0210, -13.9399,  ...,  -5.9548,  -8.9341,  -9.0062],\n",
       "         [  5.8818, -14.0210, -13.9399,  ...,  -5.9548,  -8.9341,  -9.0062],\n",
       "         [  5.8818, -14.0210, -13.9399,  ...,  -5.9548,  -8.9341,  -9.0062],\n",
       "         ...,\n",
       "         [  5.8818, -14.0210, -13.9399,  ...,  -5.9548,  -8.9341,  -9.0062],\n",
       "         [  5.8818, -14.0210, -13.9399,  ...,  -5.9548,  -8.9341,  -9.0062],\n",
       "         [  5.8818, -14.0210, -13.9399,  ...,  -5.9548,  -8.9341,  -9.0062]],\n",
       "\n",
       "        ...,\n",
       "\n",
       "        [[  5.8818, -14.0210, -13.9399,  ...,  -5.9548,  -8.9341,  -9.0062],\n",
       "         [  5.8818, -14.0210, -13.9399,  ...,  -5.9548,  -8.9341,  -9.0062],\n",
       "         [  5.8818, -14.0210, -13.9399,  ...,  -5.9548,  -8.9341,  -9.0062],\n",
       "         ...,\n",
       "         [  5.8818, -14.0210, -13.9399,  ...,  -5.9548,  -8.9341,  -9.0062],\n",
       "         [  5.8818, -14.0210, -13.9399,  ...,  -5.9548,  -8.9341,  -9.0062],\n",
       "         [  5.8818, -14.0210, -13.9399,  ...,  -5.9548,  -8.9341,  -9.0062]],\n",
       "\n",
       "        [[  5.8818, -14.0210, -13.9399,  ...,  -5.9548,  -8.9341,  -9.0062],\n",
       "         [  5.8818, -14.0210, -13.9399,  ...,  -5.9548,  -8.9341,  -9.0062],\n",
       "         [  5.8818, -14.0210, -13.9399,  ...,  -5.9548,  -8.9341,  -9.0062],\n",
       "         ...,\n",
       "         [  5.8818, -14.0210, -13.9399,  ...,  -5.9548,  -8.9341,  -9.0062],\n",
       "         [  5.8818, -14.0210, -13.9399,  ...,  -5.9548,  -8.9341,  -9.0062],\n",
       "         [  5.8818, -14.0210, -13.9399,  ...,  -5.9548,  -8.9341,  -9.0062]],\n",
       "\n",
       "        [[  5.8818, -14.0210, -13.9399,  ...,  -5.9548,  -8.9341,  -9.0062],\n",
       "         [  5.8818, -14.0210, -13.9399,  ...,  -5.9548,  -8.9341,  -9.0062],\n",
       "         [  5.8818, -14.0210, -13.9399,  ...,  -5.9548,  -8.9341,  -9.0062],\n",
       "         ...,\n",
       "         [  5.8818, -14.0210, -13.9399,  ...,  -5.9548,  -8.9341,  -9.0062],\n",
       "         [  5.8818, -14.0210, -13.9399,  ...,  -5.9548,  -8.9341,  -9.0062],\n",
       "         [  5.8818, -14.0210, -13.9399,  ...,  -5.9548,  -8.9341,  -9.0062]]],\n",
       "       device='cuda:0', grad_fn=<AddBackward0>)"
      ]
     },
     "execution_count": 307,
     "metadata": {},
     "output_type": "execute_result"
    }
   ],
   "source": [
    "output"
   ]
  },
  {
   "cell_type": "markdown",
   "metadata": {},
   "source": [
    "## Submission"
   ]
  },
  {
   "cell_type": "code",
   "execution_count": null,
   "metadata": {},
   "outputs": [],
   "source": [
    "# load test set\n",
    "sentences = []\n",
    "for i, l in enumerate(open(\"source_test.txt\"), 1):\n",
    "  sentences.append(re.split(' ', l))"
   ]
  }
 ],
 "metadata": {
  "kernelspec": {
   "display_name": "Python 3",
   "language": "python",
   "name": "python3"
  }
 },
 "nbformat": 4,
 "nbformat_minor": 2
}
