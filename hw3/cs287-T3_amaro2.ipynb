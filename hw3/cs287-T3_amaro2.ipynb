{
 "cells": [
  {
   "cell_type": "markdown",
   "metadata": {},
   "source": [
    "# CS 287, Homework 3: Neural Machine Translation"
   ]
  },
  {
   "cell_type": "code",
   "execution_count": 1,
   "metadata": {},
   "outputs": [],
   "source": [
    "import torch\n",
    "import torch.nn as nn\n",
    "import torch.nn.functional as F\n",
    "from torch.nn.utils import clip_grad_norm_\n",
    "\n",
    "from common import *\n",
    "\n",
    "import re\n",
    "from torchtext import data, datasets\n",
    "from namedtensor import ntorch, NamedTensor\n",
    "from namedtensor.text import NamedField\n",
    "import numpy as np\n",
    "\n",
    "%reload_ext autoreload\n",
    "%autoreload 2"
   ]
  },
  {
   "cell_type": "code",
   "execution_count": 2,
   "metadata": {},
   "outputs": [
    {
     "name": "stdout",
     "output_type": "stream",
     "text": [
      "Size of German vocab 13353\n",
      "Size of English vocab 11560\n",
      "2 3\n",
      "1 0\n"
     ]
    }
   ],
   "source": [
    "# split raw data into tokens\n",
    "import spacy\n",
    "spacy_de = spacy.load('de')\n",
    "spacy_en = spacy.load('en')\n",
    "\n",
    "def tokenize_de(text):\n",
    "    return [tok.text for tok in spacy_de.tokenizer(text)]\n",
    "\n",
    "def tokenize_en(text):\n",
    "    return [tok.text for tok in spacy_en.tokenizer(text)]\n",
    "\n",
    "# add beginning-of-sentence and end-of-sentence tokens to target\n",
    "BOS_WORD = '<s>'\n",
    "EOS_WORD = '</s>'\n",
    "DE = NamedField(names=('srcSeqlen',), tokenize=tokenize_de)\n",
    "EN = NamedField(names=('trgSeqlen',), tokenize=tokenize_en,\n",
    "                init_token = BOS_WORD, eos_token = EOS_WORD) # only target needs BOS/EOS\n",
    "\n",
    "# download dataset of 200K pairs of sentences\n",
    "# start with MAXLEN = 20\n",
    "MAX_LEN = 20\n",
    "train, val, test = datasets.IWSLT.splits(exts=('.de', '.en'), fields=(DE, EN), \n",
    "                                         filter_pred=lambda x: len(vars(x)['src']) <= MAX_LEN and \n",
    "                                         len(vars(x)['trg']) <= MAX_LEN)\n",
    "\n",
    "# build vocab, convert words to indices\n",
    "MIN_FREQ = 5\n",
    "DE.build_vocab(train.src, min_freq=MIN_FREQ)\n",
    "EN.build_vocab(train.trg, min_freq=MIN_FREQ)\n",
    "print(\"Size of German vocab\", len(DE.vocab))\n",
    "print(\"Size of English vocab\", len(EN.vocab))\n",
    "print(EN.vocab.stoi[\"<s>\"], EN.vocab.stoi[\"</s>\"])\n",
    "print(EN.vocab.stoi[\"<pad>\"], EN.vocab.stoi[\"<unk>\"])"
   ]
  },
  {
   "cell_type": "code",
   "execution_count": 5,
   "metadata": {},
   "outputs": [],
   "source": [
    "# split data into batches\n",
    "BATCH_SIZE = 32\n",
    "device = torch.device('cuda:0')\n",
    "train_iter, val_iter = data.BucketIterator.splits((train, val), batch_size=BATCH_SIZE, device=device,\n",
    "                                                  repeat=False, sort_key=lambda x: len(x.src))"
   ]
  },
  {
   "cell_type": "code",
   "execution_count": 3,
   "metadata": {},
   "outputs": [],
   "source": [
    "context_size = 1000\n",
    "num_layers = 4\n",
    "\n",
    "BEAM_WIDTH = 50\n",
    "max_len = 3\n",
    "\n",
    "attn_seq2context = SequenceModel(len(DE.vocab),context_size,num_layers=num_layers)\n",
    "state_dict = torch.load('best_seq2seq_withattn_seq2context_big_network.pt')\n",
    "attn_seq2context.load_state_dict(state_dict)\n",
    "attn_seq2context = attn_seq2context.cuda()\n",
    "\n",
    "attn_context2trg = attn_RNNet_batched(input_size=len(EN.vocab),hidden_size=context_size,num_layers=num_layers)\n",
    "state_dict = torch.load('best_seq2seq_withattn_context2trg_big_network.pt')\n",
    "attn_context2trg.load_state_dict(state_dict)\n",
    "attn_context2trg = attn_context2trg.cuda()"
   ]
  },
  {
   "cell_type": "code",
   "execution_count": 4,
   "metadata": {},
   "outputs": [],
   "source": [
    "# load test set\n",
    "sentences = []\n",
    "for i, l in enumerate(open(\"source_test.txt\")):\n",
    "    sentences.append(re.split(' ', l))\n",
    "\n",
    "max_sent_len = 0\n",
    "for i in range(len(sentences)):\n",
    "    if len(sentences[i]) > max_sent_len:\n",
    "        max_sent_len = len(sentences[i])\n",
    "\n",
    "batch = torch.tensor([], device='cuda')\n",
    "for b in range(len(sentences)):\n",
    "    m = nn.ConstantPad1d((0, max_sent_len - len(sentences[b])), EN.vocab.stoi['<pad>'])\n",
    "    src = m(torch.tensor([DE.vocab.stoi[i] for i in sentences[b]], device='cuda').unsqueeze(0)).float()\n",
    "    batch = torch.cat((batch,src), dim=0)\n",
    "batch_rev = reverse_sequence(batch)"
   ]
  },
  {
   "cell_type": "code",
   "execution_count": 5,
   "metadata": {},
   "outputs": [],
   "source": [
    "batch_rev_data = torch.utils.data.TensorDataset(batch_rev)"
   ]
  },
  {
   "cell_type": "code",
   "execution_count": 6,
   "metadata": {},
   "outputs": [],
   "source": [
    "BATCH_SIZE = 50\n",
    "batch_rev_data_loader = torch.utils.data.DataLoader(batch_rev_data, batch_size=BATCH_SIZE, shuffle=False)\n",
    "#BATCH_SIZE = src.shape[0]"
   ]
  },
  {
   "cell_type": "code",
   "execution_count": 50,
   "metadata": {},
   "outputs": [],
   "source": [
    "def beam_search_first3(src, attn_seq2context, attn_context2trg, BEAM_WIDTH = 2, BATCH_SIZE=32, max_len=3,context_size=500,EN=None):\n",
    "    top_p = {}\n",
    "    top_s = {}\n",
    "    stopped = torch.zeros((BATCH_SIZE,BEAM_WIDTH), device='cuda') #==1\n",
    "    items = []\n",
    "    for i in range(BATCH_SIZE):\n",
    "        top_p[i] = []\n",
    "        top_s[i] = []\n",
    "        items.append(i)\n",
    "\n",
    "\n",
    "\n",
    "    encoder_outputs, encoder_hidden = attn_seq2context(src)\n",
    "    decoder_context = torch.zeros(BATCH_SIZE, context_size, device='cuda') # 32 x 500\n",
    "    decoder_hidden = encoder_hidden\n",
    "    outputs = []\n",
    "    word_input = (torch.zeros(BATCH_SIZE, device='cuda') + EN.vocab.stoi['<s>']).long()\n",
    "    decoder_output, decoder_context, decoder_hidden, decoder_attention = attn_context2trg(word_input, decoder_context, decoder_hidden, encoder_outputs)\n",
    "    outputs.append(decoder_output)\n",
    "    next_words = torch.argsort(lsm2(decoder_output),dim=1, descending=True)[:,0:BEAM_WIDTH].detach()\n",
    "    p_words_init = torch.stack([torch.index_select(decoder_output[i,:],-1,next_words[i,:]) for i in range(BATCH_SIZE)]).detach()\n",
    "    p_words_running = torch.stack([p_words_init[:,b].repeat(1,BEAM_WIDTH) for b in range(BEAM_WIDTH)]).view(BEAM_WIDTH**2,BATCH_SIZE).transpose(0,1)\n",
    "\n",
    "    update = []\n",
    "    for ix,p in enumerate(next_words):\n",
    "        update.append([torch.stack(([torch.tensor(EN.vocab.stoi['<s>'], device='cuda')])+([next_words[ix,b]])) for b in range(BEAM_WIDTH)])\n",
    "\n",
    "    next_words = torch.argsort(lsm2(decoder_output),dim=1, descending=True)[:,0:BEAM_WIDTH].detach()\n",
    "    p_words_init = torch.stack([torch.index_select(decoder_output[i,:],-1,next_words[i,:]) for i in range(BATCH_SIZE)]).detach()\n",
    "    p_words_running = torch.stack([p_words_init[:,b].repeat(1,BEAM_WIDTH) for b in range(BEAM_WIDTH)]).view(BEAM_WIDTH**2,BATCH_SIZE).transpose(0,1)\n",
    "    update = []\n",
    "    for ix,p in enumerate(next_words):\n",
    "        update.append([torch.stack(([torch.tensor(EN.vocab.stoi['<s>'], device='cuda')])+([next_words[ix,b]])) for b in range(BEAM_WIDTH)])\n",
    "    top_s.update(dict(zip(items, update)))\n",
    "    top_p.update(dict(zip(items, p_words_init)))\n",
    "\n",
    "    next_words = next_words.transpose(0,1).flatten().long()\n",
    "    encoder_outputs = encoder_outputs.repeat(BEAM_WIDTH,1,1)\n",
    "    decoder_hidden = tuple([h.repeat(1,BEAM_WIDTH,1) for h in decoder_hidden])\n",
    "    decoder_context = decoder_context.repeat(BEAM_WIDTH,1)\n",
    "    \n",
    "    for j in range(2):\n",
    "            decoder_output, decoder_context, decoder_hidden, decoder_attention = attn_context2trg(next_words, decoder_context, decoder_hidden, encoder_outputs)\n",
    "            args = torch.argsort(lsm2(decoder_output),dim=1, descending=True)[:,0:BEAM_WIDTH].detach()\n",
    "            next_words = torch.cat([args[BATCH_SIZE*(b):BATCH_SIZE*(b+1),:] for b in range(BEAM_WIDTH)],dim=1).detach()\n",
    "            p_words = torch.stack([torch.index_select(decoder_output[i,:],-1,next_words[i,:]) for i in range(BATCH_SIZE)])\n",
    "            p_words_running += p_words.detach()\n",
    "            p_words_norm = p_words_running/(j+1)\n",
    "\n",
    "            word_selector = torch.argsort(p_words_norm,dim=1,descending=True)[:,:BEAM_WIDTH]        \n",
    "            beam_indicator = (word_selector/BEAM_WIDTH).float().long() #word_selector>=2\n",
    "\n",
    "            prev_words = list(top_s.values())\n",
    "            words = [torch.stack([prev_words[s][i] for i in beam_indicator[s,:]]) for s in range(BATCH_SIZE)]\n",
    "            #update = []\n",
    "            #for ix,p in enumerate(words):\n",
    "            #    update.append([torch.cat((p[b],next_words[ix,b].unsqueeze(0))) for b in range(BEAM_WIDTH)])\n",
    "            #top_s.update(dict(zip(items, update)))\n",
    "\n",
    "            #update_p = torch.stack([torch.index_select(p_words_running[b], 0, word_selector[b]) for b in range(BATCH_SIZE)])\n",
    "            #top_p.update(dict(zip(items, update_p)))\n",
    "\n",
    "            indexs = torch.zeros(BATCH_SIZE,BEAM_WIDTH,device='cuda')\n",
    "            for i in range(BATCH_SIZE):\n",
    "                indexs[i,:] += i+(BATCH_SIZE*beam_indicator[i,:].float())\n",
    "            indexs = indexs.long()\n",
    "            indexs = indexs.transpose(0,1).flatten()\n",
    "            decoder_hidden = tuple([torch.index_select(h,1,indexs) for h in decoder_hidden])\n",
    "            decoder_context = torch.index_select(decoder_context,0,indexs)\n",
    "            decoder_output = torch.index_select(decoder_output,0,indexs)\n",
    "            outputs.append(decoder_output)\n",
    "            next_words = torch.stack([torch.index_select(next_words[s,:],0,word_selector[s,:]) for s in range(BATCH_SIZE)]).transpose(0,1).flatten().long()\n",
    "            \n",
    "    return outputs"
   ]
  },
  {
   "cell_type": "markdown",
   "metadata": {},
   "source": [
    "## Submission"
   ]
  },
  {
   "cell_type": "code",
   "execution_count": 51,
   "metadata": {},
   "outputs": [],
   "source": [
    "outputs = beam_search_first3(src, attn_seq2context, attn_context2trg, BEAM_WIDTH = 8, BATCH_SIZE=BATCH_SIZE, max_len=3,EN=EN)\n",
    "preds = torch.stack([i[:BATCH_SIZE,:] for i in outputs]).transpose(0,1).transpose(1,2)"
   ]
  },
  {
   "cell_type": "code",
   "execution_count": 56,
   "metadata": {},
   "outputs": [
    {
     "data": {
      "text/plain": [
       "torch.Size([100, 11560, 3])"
      ]
     },
     "execution_count": 56,
     "metadata": {},
     "output_type": "execute_result"
    }
   ],
   "source": []
  },
  {
   "cell_type": "code",
   "execution_count": 7,
   "metadata": {},
   "outputs": [],
   "source": [
    "def ints_to_sentences(list_of_phrases):\n",
    "    sentences = []\n",
    "    for phrase in list_of_phrases:\n",
    "        sentences.append(\" \".join([\"|\".join([EN.vocab.itos[w] for w in phrase])]))\n",
    "    return sentences"
   ]
  },
  {
   "cell_type": "code",
   "execution_count": 45,
   "metadata": {},
   "outputs": [
    {
     "data": {
      "text/plain": [
       "\"I|was|an I|was|a I|was|going I|was|having I|was|talking <unk>|'ve|watching I|was|in I|was|looking I|was|running I|was|writing I|do|responsible I|miss|what I|was|wearing I|see|on A|'s|there I|was|supposed I|did|showing I|'m|doing I|was|willing I|is|taking I|was|holding And|want|putting I|think|entering I|just|teaching I|was|saying I|'m|the I|'ll|making I|miss|<unk> I|'m|able I|guess|wondering I|was|flying I|always|giving I|<unk>|losing I|was|just I|first|so I|have|trying I|was|creating I|was|reading I|would|like I|'d|standing I|get|seeing I|wrote|curious I|was|using I|call|playing I|live|building And|feel|leaving I|was|experiencing I|'m|thinking And|want|several I|was|here I|do|one I|was|hanging <unk>|'ve|then I|am|eating I|always|launching I|'m|, I|read|asking I|was|leading One|felt|to I|was|somebody And|feel|listening Well|go|this I|<unk>|sending I|negotiate|actually I|was|following <unk>|'ve|calling <unk>|like|being Voice|kind|offering I|do|glad I|wrote|that I|was|my I|look|some I|'m|all I|was|walking <unk>|'ve|at I|flew|put <unk>|ask|something I|was|challenging A|also|about <unk>|'ve|becoming I|consider|most I|must|really I|was|living A|gave|after <unk>|'ve|passionate I|<unk>|bald One|felt|given I|was|for I|think|texting I|wrote|not I|can|called <unk>|'ve|aware I|was|finding I|have|two what|found|telling I|was|very I|see|six I|was|n't I|was|visiting I|'m|sitting\""
      ]
     },
     "execution_count": 45,
     "metadata": {},
     "output_type": "execute_result"
    }
   ],
   "source": [
    "' '.join(ints_to_sentences(list_of_phrases))"
   ]
  },
  {
   "cell_type": "code",
   "execution_count": 24,
   "metadata": {},
   "outputs": [
    {
     "data": {
      "text/plain": [
       "'<unk>|I|<unk>'"
      ]
     },
     "execution_count": 24,
     "metadata": {},
     "output_type": "execute_result"
    }
   ],
   "source": [
    "preds = \" \".join(\"|\".join([EN.vocab.itos[j] for j in top_s[0][0][1:]]) for )\n",
    "preds"
   ]
  },
  {
   "cell_type": "code",
   "execution_count": 8,
   "metadata": {},
   "outputs": [],
   "source": [
    "# for kaggle\n",
    "def escape(l):\n",
    "    return l.replace(\"\\\"\", \"<quote>\").replace(\",\", \"<comma>\")\n",
    "\n",
    "# for kaggle\n",
    "line_counter = 0\n",
    "with open(\"pred_kaggle_best_model_no-split_large.txt\", \"w+\") as f:\n",
    "    f.write(\"Id,Predicted\\n\")\n",
    "    for b in batch_rev_data_loader:\n",
    "        \n",
    "        src = b[0].long()\n",
    "        top_s = beam_search(src, attn_seq2context, attn_context2trg, BEAM_WIDTH = 100, BATCH_SIZE=BATCH_SIZE, max_len=3,context_size=context_size,EN=EN)\n",
    "        lists_per_sample = [torch.stack(top_s[i])[:,1:] for i in range(BATCH_SIZE)]\n",
    "        for i in range(BATCH_SIZE):\n",
    "            list_of_phrases = lists_per_sample[i]\n",
    "            f.write(\"%d,%s\"%(line_counter,escape(' '.join(ints_to_sentences(list_of_phrases)))))\n",
    "            f.write('\\n')\n",
    "            line_counter+=1"
   ]
  },
  {
   "cell_type": "code",
   "execution_count": 29,
   "metadata": {},
   "outputs": [
    {
     "data": {
      "text/plain": [
       "['<pad>',\n",
       " '<pad>',\n",
       " '<pad>',\n",
       " '<pad>',\n",
       " '<unk>',\n",
       " '\"',\n",
       " '<unk>',\n",
       " '\"',\n",
       " 'für',\n",
       " 'steht',\n",
       " ',',\n",
       " 'hinausgeht',\n",
       " 'es',\n",
       " 'wo',\n",
       " ',',\n",
       " 'sagt',\n",
       " 'der',\n",
       " ',',\n",
       " 'Mund',\n",
       " 'Ein']"
      ]
     },
     "execution_count": 29,
     "metadata": {},
     "output_type": "execute_result"
    }
   ],
   "source": [
    "[DE.vocab.itos[i] for i in reverse_sequence(src.long())[0]]"
   ]
  },
  {
   "cell_type": "code",
   "execution_count": null,
   "metadata": {},
   "outputs": [],
   "source": [
    "# for bleu\n",
    "with open(\"pred_bleu.txt\", \"w\") as f:\n",
    "    for i, l in enumerate(open(\"source_test.txt\")):\n",
    "        stop_idx = torch.tensor([max_len], device='cuda') if (top_s[i][0] == 3).nonzero().size()[0]==0 else (top_s[i][0] == 3).nonzero()\n",
    "        f.write(\"%s\\n\"%(\" \".join([EN.vocab.itos[j] for j in top_s[i][0][1:stop_idx]])))"
   ]
  }
 ],
 "metadata": {
  "kernelspec": {
   "display_name": "Python 3",
   "language": "python",
   "name": "python3"
  },
  "language_info": {
   "codemirror_mode": {
    "name": "ipython",
    "version": 3
   },
   "file_extension": ".py",
   "mimetype": "text/x-python",
   "name": "python",
   "nbconvert_exporter": "python",
   "pygments_lexer": "ipython3",
   "version": "3.6.5"
  }
 },
 "nbformat": 4,
 "nbformat_minor": 2
}
