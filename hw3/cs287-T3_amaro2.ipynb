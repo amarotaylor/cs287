{
 "cells": [
  {
   "cell_type": "markdown",
   "metadata": {},
   "source": [
    "# CS 287, Homework 3: Neural Machine Translation"
   ]
  },
  {
   "cell_type": "code",
   "execution_count": 147,
   "metadata": {},
   "outputs": [],
   "source": [
    "import torch\n",
    "import torch.nn as nn\n",
    "import torch.nn.functional as F\n",
    "from torch.nn.utils import clip_grad_norm_\n",
    "\n",
    "from common import *\n",
    "\n",
    "import re\n",
    "from torchtext import data, datasets\n",
    "from namedtensor import ntorch, NamedTensor\n",
    "from namedtensor.text import NamedField\n",
    "import numpy as np\n",
    "\n",
    "%reload_ext autoreload\n",
    "%autoreload 2"
   ]
  },
  {
   "cell_type": "code",
   "execution_count": 2,
   "metadata": {},
   "outputs": [
    {
     "name": "stdout",
     "output_type": "stream",
     "text": [
      "Size of German vocab 13353\n",
      "Size of English vocab 11560\n",
      "2 3\n",
      "1 0\n"
     ]
    }
   ],
   "source": [
    "# split raw data into tokens\n",
    "import spacy\n",
    "spacy_de = spacy.load('de')\n",
    "spacy_en = spacy.load('en')\n",
    "\n",
    "def tokenize_de(text):\n",
    "    return [tok.text for tok in spacy_de.tokenizer(text)]\n",
    "\n",
    "def tokenize_en(text):\n",
    "    return [tok.text for tok in spacy_en.tokenizer(text)]\n",
    "\n",
    "# add beginning-of-sentence and end-of-sentence tokens to target\n",
    "BOS_WORD = '<s>'\n",
    "EOS_WORD = '</s>'\n",
    "DE = NamedField(names=('srcSeqlen',), tokenize=tokenize_de)\n",
    "EN = NamedField(names=('trgSeqlen',), tokenize=tokenize_en,\n",
    "                init_token = BOS_WORD, eos_token = EOS_WORD) # only target needs BOS/EOS\n",
    "\n",
    "# download dataset of 200K pairs of sentences\n",
    "# start with MAXLEN = 20\n",
    "MAX_LEN = 20\n",
    "train, val, test = datasets.IWSLT.splits(exts=('.de', '.en'), fields=(DE, EN), \n",
    "                                         filter_pred=lambda x: len(vars(x)['src']) <= MAX_LEN and \n",
    "                                         len(vars(x)['trg']) <= MAX_LEN)\n",
    "\n",
    "# build vocab, convert words to indices\n",
    "MIN_FREQ = 5\n",
    "DE.build_vocab(train.src, min_freq=MIN_FREQ)\n",
    "EN.build_vocab(train.trg, min_freq=MIN_FREQ)\n",
    "print(\"Size of German vocab\", len(DE.vocab))\n",
    "print(\"Size of English vocab\", len(EN.vocab))\n",
    "print(EN.vocab.stoi[\"<s>\"], EN.vocab.stoi[\"</s>\"])\n",
    "print(EN.vocab.stoi[\"<pad>\"], EN.vocab.stoi[\"<unk>\"])"
   ]
  },
  {
   "cell_type": "code",
   "execution_count": 3,
   "metadata": {},
   "outputs": [],
   "source": [
    "# split data into batches\n",
    "BATCH_SIZE = 32\n",
    "device = torch.device('cuda:0')\n",
    "train_iter, val_iter = data.BucketIterator.splits((train, val), batch_size=BATCH_SIZE, device=device,\n",
    "                                                  repeat=False, sort_key=lambda x: len(x.src))"
   ]
  },
  {
   "cell_type": "code",
   "execution_count": 148,
   "metadata": {},
   "outputs": [],
   "source": [
    "context_size = 1000\n",
    "num_layers = 4\n",
    "\n",
    "#BEAM_WIDTH = 100\n",
    "#max_len = 3\n",
    "\n",
    "attn_seq2context = SequenceModel(len(DE.vocab),context_size,num_layers=num_layers)\n",
    "state_dict = torch.load('best_seq2seq_withattn_seq2context_big_network_no_unk.pt')\n",
    "attn_seq2context.load_state_dict(state_dict)\n",
    "attn_seq2context = attn_seq2context.cuda()\n",
    "\n",
    "attn_context2trg = attn_RNNet_batched(input_size=len(EN.vocab),hidden_size=context_size,num_layers=num_layers)\n",
    "state_dict = torch.load('best_seq2seq_withattn_context2trg_big_network_no_unk.pt') \n",
    "attn_context2trg.load_state_dict(state_dict)\n",
    "attn_context2trg = attn_context2trg.cuda()"
   ]
  },
  {
   "cell_type": "code",
   "execution_count": 13,
   "metadata": {},
   "outputs": [],
   "source": [
    "# load test set\n",
    "sentences = []\n",
    "for i, l in enumerate(open(\"source_test.txt\")):\n",
    "    sentences.append(re.split(' ', l))\n",
    "\n",
    "max_sent_len = 0\n",
    "for i in range(len(sentences)):\n",
    "    sentences[i][-1] = '.'\n",
    "    if len(sentences[i]) > max_sent_len:\n",
    "        max_sent_len = len(sentences[i])\n",
    "\n",
    "batch = torch.tensor([], device='cuda')\n",
    "for b in range(len(sentences)):\n",
    "    m = nn.ConstantPad1d((0, max_sent_len - len(sentences[b])), EN.vocab.stoi['<pad>'])\n",
    "    src = m(torch.tensor([DE.vocab.stoi[i] for i in sentences[b]], device='cuda').unsqueeze(0)).float()\n",
    "    batch = torch.cat((batch,src), dim=0)\n",
    "batch_rev = reverse_sequence(batch)"
   ]
  },
  {
   "cell_type": "code",
   "execution_count": 27,
   "metadata": {},
   "outputs": [
    {
     "data": {
      "text/plain": [
       "'.'"
      ]
     },
     "execution_count": 27,
     "metadata": {},
     "output_type": "execute_result"
    }
   ],
   "source": [
    "sentences[10][-1]"
   ]
  },
  {
   "cell_type": "code",
   "execution_count": 17,
   "metadata": {},
   "outputs": [
    {
     "data": {
      "text/plain": [
       "tensor([   1,    1,    1,    1,    1,    2,  343,   15,  182,   14,    0,  339,\n",
       "        6466,    3,    0,  146,   62,    0, 1131,   40], device='cuda:0')"
      ]
     },
     "execution_count": 17,
     "metadata": {},
     "output_type": "execute_result"
    }
   ],
   "source": [
    "#[DE.vocab.itos[i] for i in .long()]\n",
    "batch_rev[10].long()"
   ]
  },
  {
   "cell_type": "code",
   "execution_count": 18,
   "metadata": {},
   "outputs": [],
   "source": [
    "batch_rev_data = torch.utils.data.TensorDataset(batch_rev)\n",
    "#for i in batch_rev_data_loader:\n",
    "#    src = i[0]\n",
    "#    break"
   ]
  },
  {
   "cell_type": "code",
   "execution_count": 19,
   "metadata": {},
   "outputs": [],
   "source": [
    "BATCH_SIZE = 32\n",
    "batch_rev_data_loader = torch.utils.data.DataLoader(batch_rev_data, batch_size=BATCH_SIZE, shuffle=False)\n",
    "#BATCH_SIZE = src.shape[0]"
   ]
  },
  {
   "cell_type": "code",
   "execution_count": 18,
   "metadata": {},
   "outputs": [
    {
     "data": {
      "text/plain": [
       "torch.Size([50, 2500])"
      ]
     },
     "execution_count": 18,
     "metadata": {},
     "output_type": "execute_result"
    }
   ],
   "source": [
    "p_words_running.shape"
   ]
  },
  {
   "cell_type": "markdown",
   "metadata": {},
   "source": [
    "## Submission"
   ]
  },
  {
   "cell_type": "code",
   "execution_count": 51,
   "metadata": {},
   "outputs": [],
   "source": [
    "outputs = beam_search(src, attn_seq2context, attn_context2trg, BEAM_WIDTH = 8, BATCH_SIZE=BATCH_SIZE, max_len=3,EN=EN)\n",
    "preds = torch.stack([i[:BATCH_SIZE,:] for i in outputs]).transpose(0,1).transpose(1,2)"
   ]
  },
  {
   "cell_type": "code",
   "execution_count": 45,
   "metadata": {},
   "outputs": [
    {
     "data": {
      "text/plain": [
       "\"I|was|an I|was|a I|was|going I|was|having I|was|talking <unk>|'ve|watching I|was|in I|was|looking I|was|running I|was|writing I|do|responsible I|miss|what I|was|wearing I|see|on A|'s|there I|was|supposed I|did|showing I|'m|doing I|was|willing I|is|taking I|was|holding And|want|putting I|think|entering I|just|teaching I|was|saying I|'m|the I|'ll|making I|miss|<unk> I|'m|able I|guess|wondering I|was|flying I|always|giving I|<unk>|losing I|was|just I|first|so I|have|trying I|was|creating I|was|reading I|would|like I|'d|standing I|get|seeing I|wrote|curious I|was|using I|call|playing I|live|building And|feel|leaving I|was|experiencing I|'m|thinking And|want|several I|was|here I|do|one I|was|hanging <unk>|'ve|then I|am|eating I|always|launching I|'m|, I|read|asking I|was|leading One|felt|to I|was|somebody And|feel|listening Well|go|this I|<unk>|sending I|negotiate|actually I|was|following <unk>|'ve|calling <unk>|like|being Voice|kind|offering I|do|glad I|wrote|that I|was|my I|look|some I|'m|all I|was|walking <unk>|'ve|at I|flew|put <unk>|ask|something I|was|challenging A|also|about <unk>|'ve|becoming I|consider|most I|must|really I|was|living A|gave|after <unk>|'ve|passionate I|<unk>|bald One|felt|given I|was|for I|think|texting I|wrote|not I|can|called <unk>|'ve|aware I|was|finding I|have|two what|found|telling I|was|very I|see|six I|was|n't I|was|visiting I|'m|sitting\""
      ]
     },
     "execution_count": 45,
     "metadata": {},
     "output_type": "execute_result"
    }
   ],
   "source": [
    "' '.join(ints_to_sentences(list_of_phrases))"
   ]
  },
  {
   "cell_type": "code",
   "execution_count": 23,
   "metadata": {},
   "outputs": [
    {
     "data": {
      "text/plain": [
       "207"
      ]
     },
     "execution_count": 23,
     "metadata": {},
     "output_type": "execute_result"
    }
   ],
   "source": [
    "#preds = \" \".join(\"|\".join([EN.vocab.itos[j] for j in top_s[0][0][1:]]) for )\n",
    "#preds\n",
    "EN.vocab.stoi['thought']"
   ]
  },
  {
   "cell_type": "code",
   "execution_count": 28,
   "metadata": {},
   "outputs": [],
   "source": [
    "# for kaggle\n",
    "line_counter = 0\n",
    "with open(\"pred_kaggle_best_model_no-split_big.txt\", \"w+\") as f:\n",
    "    f.write(\"Id,Predicted\\n\")\n",
    "    for b in batch_rev_data_loader:\n",
    "        src = b[0].long()\n",
    "        top_s = beam_search(src, attn_seq2context, attn_context2trg, BEAM_WIDTH=BEAM_WIDTH, BATCH_SIZE=BATCH_SIZE, max_len=max_len, context_size=context_size, EN=EN)\n",
    "        lists_per_sample = [torch.stack(top_s[i])[:,1:4] for i in range(BATCH_SIZE)] \n",
    "        for i in range(BATCH_SIZE):\n",
    "            #temp = pd.DataFrame(torch.stack(top_s[i])[:,1:4].cpu().numpy())\n",
    "            #list_of_phrases = torch.tensor(temp.drop_duplicates().values)[:100,]\n",
    "            list_of_phrases = lists_per_sample[i]\n",
    "            f.write(\"%d,%s\"%(line_counter,escape(' '.join(ints_to_sentences(list_of_phrases,EN)))))\n",
    "            f.write('\\n')\n",
    "            line_counter+=1"
   ]
  },
  {
   "cell_type": "code",
   "execution_count": 30,
   "metadata": {},
   "outputs": [
    {
     "data": {
      "text/plain": [
       "torch.Size([87, 3])"
      ]
     },
     "execution_count": 30,
     "metadata": {},
     "output_type": "execute_result"
    }
   ],
   "source": [
    "import pandas as pd\n",
    "temp = pd.DataFrame(torch.stack(top_s[0])[:,1:4].cpu().numpy())\n",
    "#temp.shape\n",
    "torch.tensor(temp.drop_duplicates().values)[:100,].shape"
   ]
  },
  {
   "cell_type": "code",
   "execution_count": null,
   "metadata": {},
   "outputs": [],
   "source": [
    "# for bleu\n",
    "for i, l in enumerate(open(\"source_test.txt\")):\n",
    "    stop_idx = torch.tensor([max_len], device='cuda') if (top_s[i][0] == 3).nonzero().size()[0]==0 else (top_s[i][0] == 3).nonzero()\n",
    "    f.write(\"%s\\n\"%(\" \".join([EN.vocab.itos[j] for j in top_s[i][0][1:stop_idx]])))"
   ]
  },
  {
   "cell_type": "code",
   "execution_count": 60,
   "metadata": {},
   "outputs": [],
   "source": [
    "p_words_running = torch.stack([update_p[:,b].repeat(1,BEAM_WIDTH) for b in range(BEAM_WIDTH)]).view(BEAM_WIDTH**2,BATCH_SIZE).transpose(0,1)"
   ]
  },
  {
   "cell_type": "code",
   "execution_count": 74,
   "metadata": {},
   "outputs": [],
   "source": [
    "#max_len=20\n",
    "line_counter = 0\n",
    "with open(\"pred_bleu_update.txt\", \"w+\") as f:\n",
    "    for b in batch_rev_data_loader:     \n",
    "        src = b[0].long()\n",
    "        top_s = beam_search(src, attn_seq2context, attn_context2trg, BEAM_WIDTH = 8, BATCH_SIZE=BATCH_SIZE, max_len=max_len,context_size=context_size,EN=EN)\n",
    "        for i in range(BATCH_SIZE):\n",
    "            stop_idx = torch.min(torch.tensor([max_len], device='cuda') if (top_s[i][0] == 3).nonzero().size()[0]==0 else (top_s[i][0] == 3).nonzero())\n",
    "            f.write(\"%s\\n\"%(\" \".join([EN.vocab.itos[j] for j in top_s[i][0][1:stop_idx]])))"
   ]
  },
  {
   "cell_type": "code",
   "execution_count": 94,
   "metadata": {},
   "outputs": [
    {
     "data": {
      "text/plain": [
       "torch.Size([21])"
      ]
     },
     "execution_count": 94,
     "metadata": {},
     "output_type": "execute_result"
    }
   ],
   "source": [
    "top_s[0][0]"
   ]
  },
  {
   "cell_type": "code",
   "execution_count": 98,
   "metadata": {},
   "outputs": [
    {
     "data": {
      "text/plain": [
       "torch.Size([500, 11560])"
      ]
     },
     "execution_count": 98,
     "metadata": {},
     "output_type": "execute_result"
    }
   ],
   "source": [
    "decoder_output"
   ]
  },
  {
   "cell_type": "code",
   "execution_count": 29,
   "metadata": {},
   "outputs": [
    {
     "data": {
      "text/plain": [
       "torch.Size([800, 20])"
      ]
     },
     "execution_count": 29,
     "metadata": {},
     "output_type": "execute_result"
    }
   ],
   "source": [
    "batch_rev.shape"
   ]
  },
  {
   "cell_type": "code",
   "execution_count": 50,
   "metadata": {},
   "outputs": [],
   "source": [
    "BATCH_SIZE = 1\n",
    "context_size = 500\n",
    "#src = batch_rev.long()"
   ]
  },
  {
   "cell_type": "code",
   "execution_count": 98,
   "metadata": {},
   "outputs": [],
   "source": [
    "for i in range(batch_rev.shape[0]):\n",
    "    src = batch_rev[i].long().unsqueeze(0)\n",
    "    decoder_context = torch.zeros(BATCH_SIZE, context_size, device='cuda') # 32 x 500\n",
    "    encoder_outputs, encoder_hidden = attn_seq2context(src)    \n",
    "    decoder_hidden = encoder_hidden\n",
    "\n",
    "    word_input_0 = torch.zeros(BATCH_SIZE, device='cuda') + EN.vocab.stoi['<s>']\n",
    "    decoder_output, decoder_context, decoder_hidden, decoder_attention = attn_context2trg(word_input_0.long(), decoder_context, decoder_hidden, encoder_outputs)\n",
    "\n",
    "    word_input_0 = torch.argsort(decoder_output, dim=1, descending=True)[:,:10]\n",
    "    probs = torch.stack([torch.index_select(decoder_output[b,:], 0, word_input_0[b,:]) for b in range(BATCH_SIZE)])\n",
    "    break"
   ]
  },
  {
   "cell_type": "code",
   "execution_count": 59,
   "metadata": {},
   "outputs": [
    {
     "data": {
      "text/plain": [
       "['When', 'And', 'I', 'As', 'If', 'In', 'So', 'Now', 'when', 'Because']"
      ]
     },
     "execution_count": 59,
     "metadata": {},
     "output_type": "execute_result"
    }
   ],
   "source": [
    "[EN.vocab.itos[i] for i in word_input.squeeze().long()]"
   ]
  },
  {
   "cell_type": "code",
   "execution_count": 99,
   "metadata": {},
   "outputs": [],
   "source": [
    "decoder_hidden = tuple([h.repeat(1,10,1) for h in decoder_hidden])\n",
    "decoder_context = decoder_context.repeat(10,1)"
   ]
  },
  {
   "cell_type": "code",
   "execution_count": 100,
   "metadata": {},
   "outputs": [],
   "source": [
    "encoder_outputs = encoder_outputs.repeat(10,1,1)"
   ]
  },
  {
   "cell_type": "code",
   "execution_count": 101,
   "metadata": {},
   "outputs": [],
   "source": [
    "decoder_output, decoder_context, decoder_hidden, decoder_attention = attn_context2trg(word_input_0.squeeze(0).long(), decoder_context, decoder_hidden, encoder_outputs)"
   ]
  },
  {
   "cell_type": "code",
   "execution_count": 103,
   "metadata": {},
   "outputs": [],
   "source": [
    "word_input_1 = torch.argsort(decoder_output, dim=1, descending=True)[:,:10] # BEAM1 x BEAM2\n",
    "temp = torch.stack([torch.index_select(decoder_output[b,:], 0, word_input_1[b,:]) for b in range(10)]) # BEAM1 x BEAM2\n",
    "probs = probs.transpose(0,1).repeat(1,10) + temp # BEAM1 x BEAM2"
   ]
  },
  {
   "cell_type": "code",
   "execution_count": 106,
   "metadata": {},
   "outputs": [
    {
     "data": {
      "text/plain": [
       "('When', ['I', 'my', 'me', 'he', 'in', 'you', 'most', 'we', 'it', ','])"
      ]
     },
     "execution_count": 106,
     "metadata": {},
     "output_type": "execute_result"
    }
   ],
   "source": [
    "EN.vocab.itos[word_input_0.squeeze()[0].long()], [EN.vocab.itos[word_input_1[0,i].long()] for i in range(10)]"
   ]
  },
  {
   "cell_type": "code",
   "execution_count": 113,
   "metadata": {},
   "outputs": [],
   "source": [
    "word_input_2 = torch.zeros((10,10), device='cuda')\n",
    "prob_2 = torch.zeros((10,10), device='cuda')\n",
    "for i in range(10):\n",
    "    word_input = word_input_1[i,:]\n",
    "    decoder_output, decoder_context_temp, decoder_hidden_temp, decoder_attention_temp = attn_context2trg(word_input.long(), decoder_context, decoder_hidden, encoder_outputs)\n",
    "    word_input_2[:,i] = torch.argsort(decoder_output, dim=1, descending=True)[:,0]\n",
    "    prob_2[:,i], _ = torch.max(decoder_output, dim=1)"
   ]
  },
  {
   "cell_type": "code",
   "execution_count": 136,
   "metadata": {},
   "outputs": [
    {
     "data": {
      "text/plain": [
       "tensor(15.2501, device='cuda:0', grad_fn=<SelectBackward>)"
      ]
     },
     "execution_count": 136,
     "metadata": {},
     "output_type": "execute_result"
    }
   ],
   "source": [
    "final_prob = probs + prob_2\n",
    "final_prob[1,1]"
   ]
  },
  {
   "cell_type": "code",
   "execution_count": 118,
   "metadata": {},
   "outputs": [],
   "source": [
    "word = word_input_0.transpose(0,1).repeat(1,10)"
   ]
  },
  {
   "cell_type": "code",
   "execution_count": 119,
   "metadata": {},
   "outputs": [
    {
     "data": {
      "text/plain": [
       "(torch.Size([10, 10]),\n",
       " torch.Size([1, 10]),\n",
       " torch.Size([10, 10]),\n",
       " torch.Size([10, 10]))"
      ]
     },
     "execution_count": 119,
     "metadata": {},
     "output_type": "execute_result"
    }
   ],
   "source": [
    "word.shape, word_input_0.shape, word_input_1.shape, word_input_2.shape"
   ]
  },
  {
   "cell_type": "code",
   "execution_count": 126,
   "metadata": {},
   "outputs": [],
   "source": [
    "final_words = torch.stack((word.long(),word_input_1.long(),word_input_2.long())).view(3,100).transpose(0,1)"
   ]
  },
  {
   "cell_type": "code",
   "execution_count": 135,
   "metadata": {},
   "outputs": [
    {
     "data": {
      "text/plain": [
       "['And', 'I', 'was']"
      ]
     },
     "execution_count": 135,
     "metadata": {},
     "output_type": "execute_result"
    }
   ],
   "source": [
    "[EN.vocab.itos[i] for i in final_words[11]]"
   ]
  },
  {
   "cell_type": "code",
   "execution_count": 133,
   "metadata": {},
   "outputs": [
    {
     "data": {
      "text/plain": [
       "('And', 'I', 'was')"
      ]
     },
     "execution_count": 133,
     "metadata": {},
     "output_type": "execute_result"
    }
   ],
   "source": [
    "EN.vocab.itos[word[1,1].long()],EN.vocab.itos[word_input_1[1,1].long()],EN.vocab.itos[word_input_2[1,1].long()]"
   ]
  },
  {
   "cell_type": "code",
   "execution_count": 138,
   "metadata": {},
   "outputs": [
    {
     "data": {
      "text/plain": [
       "tensor(15.2501, device='cuda:0', grad_fn=<SelectBackward>)"
      ]
     },
     "execution_count": 138,
     "metadata": {},
     "output_type": "execute_result"
    }
   ],
   "source": [
    "fp = final_prob.view(1,100)\n",
    "fp[0,11]"
   ]
  },
  {
   "cell_type": "code",
   "execution_count": 144,
   "metadata": {},
   "outputs": [],
   "source": [
    "with open(\"pred_kaggle_best_model_no-split_big.txt\", \"w+\") as f:\n",
    "    list_of_phrases = final_words[torch.argsort(fp.squeeze(), descending=True),:]\n",
    "    f.write(\"%d,%s\"%(line_counter,escape(' '.join(ints_to_sentences(list_of_phrases,EN)))))\n",
    "    f.write('\\n')"
   ]
  },
  {
   "cell_type": "code",
   "execution_count": 143,
   "metadata": {},
   "outputs": [
    {
     "data": {
      "text/plain": [
       "['When', 'me', 'in']"
      ]
     },
     "execution_count": 143,
     "metadata": {},
     "output_type": "execute_result"
    }
   ],
   "source": [
    "[EN.vocab.itos[i] for i in final_words[2,:]]"
   ]
  },
  {
   "cell_type": "code",
   "execution_count": 149,
   "metadata": {},
   "outputs": [],
   "source": [
    "BATCH_SIZE = 1\n",
    "context_size = 1000\n",
    "\n",
    "with open(\"pred_kaggle_best_model_no-split_large.txt\", \"w+\") as f:\n",
    "    f.write(\"Id,Predicted\\n\")\n",
    "    for i in range(batch_rev.shape[0]):\n",
    "        src = batch_rev[i].long().unsqueeze(0)\n",
    "        decoder_context = torch.zeros(BATCH_SIZE, context_size, device='cuda') # 32 x 500\n",
    "        encoder_outputs, encoder_hidden = attn_seq2context(src)    \n",
    "        decoder_hidden = encoder_hidden\n",
    "\n",
    "        word_input_0 = torch.zeros(BATCH_SIZE, device='cuda') + EN.vocab.stoi['<s>']\n",
    "        decoder_output, decoder_context, decoder_hidden, decoder_attention = attn_context2trg(word_input_0.long(), decoder_context, decoder_hidden, encoder_outputs)\n",
    "\n",
    "        word_input_0 = torch.argsort(decoder_output, dim=1, descending=True)[:,:10]\n",
    "        probs = torch.stack([torch.index_select(decoder_output[b,:], 0, word_input_0[b,:]) for b in range(BATCH_SIZE)])\n",
    "\n",
    "        decoder_hidden = tuple([h.repeat(1,10,1) for h in decoder_hidden])\n",
    "        decoder_context = decoder_context.repeat(10,1)\n",
    "        encoder_outputs = encoder_outputs.repeat(10,1,1)\n",
    "        decoder_output, decoder_context, decoder_hidden, decoder_attention = attn_context2trg(word_input_0.squeeze(0).long(), decoder_context, decoder_hidden, encoder_outputs)\n",
    "\n",
    "        word_input_1 = torch.argsort(decoder_output, dim=1, descending=True)[:,:10] # BEAM1 x BEAM2\n",
    "        temp = torch.stack([torch.index_select(decoder_output[b,:], 0, word_input_1[b,:]) for b in range(10)]) # BEAM1 x BEAM2\n",
    "        probs = probs.transpose(0,1).repeat(1,10) + temp # BEAM1 x BEAM2\n",
    "\n",
    "        word_input_2 = torch.zeros((10,10), device='cuda')\n",
    "        prob_2 = torch.zeros((10,10), device='cuda')\n",
    "        for j in range(10):\n",
    "            word_input = word_input_1[j,:]\n",
    "            decoder_output, decoder_context_temp, decoder_hidden_temp, decoder_attention_temp = attn_context2trg(word_input.long(), decoder_context, decoder_hidden, encoder_outputs)\n",
    "            word_input_2[:,j] = torch.argsort(decoder_output, dim=1, descending=True)[:,0]\n",
    "            prob_2[:,j], _ = torch.max(decoder_output, dim=1)\n",
    "\n",
    "        final_prob = probs + prob_2\n",
    "        fp = final_prob.view(1,100)\n",
    "\n",
    "        word = word_input_0.transpose(0,1).repeat(1,10)\n",
    "        final_words = torch.stack((word.long(),word_input_1.long(),word_input_2.long())).view(3,100).transpose(0,1)\n",
    "\n",
    "        list_of_phrases = final_words[torch.argsort(fp.squeeze(), descending=True),:]\n",
    "        f.write(\"%d,%s\"%(i,escape(' '.join(ints_to_sentences(list_of_phrases,EN)))))\n",
    "        f.write('\\n')"
   ]
  },
  {
   "cell_type": "code",
   "execution_count": null,
   "metadata": {},
   "outputs": [],
   "source": []
  }
 ],
 "metadata": {
  "kernelspec": {
   "display_name": "Python 3",
   "language": "python",
   "name": "python3"
  },
  "language_info": {
   "codemirror_mode": {
    "name": "ipython",
    "version": 3
   },
   "file_extension": ".py",
   "mimetype": "text/x-python",
   "name": "python",
   "nbconvert_exporter": "python",
   "pygments_lexer": "ipython3",
   "version": "3.6.5"
  }
 },
 "nbformat": 4,
 "nbformat_minor": 2
}
