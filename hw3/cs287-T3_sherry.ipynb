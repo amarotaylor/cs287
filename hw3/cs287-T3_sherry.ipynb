{
 "cells": [
  {
   "cell_type": "markdown",
   "metadata": {},
   "source": [
    "# CS 287, Homework 3: Neural Machine Translation"
   ]
  },
  {
   "cell_type": "code",
   "execution_count": 2,
   "metadata": {},
   "outputs": [],
   "source": [
    "from common import *\n",
    "\n",
    "import torch\n",
    "from torch.nn.utils import clip_grad_norm_\n",
    "import torch.nn as nn\n",
    "from torchtext import data, datasets\n",
    "from namedtensor import ntorch, NamedTensor\n",
    "from namedtensor.text import NamedField\n",
    "import numpy as np\n",
    "\n",
    "%reload_ext autoreload\n",
    "%autoreload 2"
   ]
  },
  {
   "cell_type": "code",
   "execution_count": 3,
   "metadata": {},
   "outputs": [
    {
     "name": "stdout",
     "output_type": "stream",
     "text": [
      "2 3\n",
      "1 0\n"
     ]
    }
   ],
   "source": [
    "# split raw data into tokens\n",
    "import spacy\n",
    "spacy_de = spacy.load('de')\n",
    "spacy_en = spacy.load('en')\n",
    "\n",
    "def tokenize_de(text):\n",
    "    return [tok.text for tok in spacy_de.tokenizer(text)]\n",
    "\n",
    "def tokenize_en(text):\n",
    "    return [tok.text for tok in spacy_en.tokenizer(text)]\n",
    "\n",
    "# add beginning-of-sentence and end-of-sentence tokens to target\n",
    "BOS_WORD = '<s>'\n",
    "EOS_WORD = '</s>'\n",
    "DE = NamedField(names=('srcSeqlen',), tokenize=tokenize_de)\n",
    "EN = NamedField(names=('trgSeqlen',), tokenize=tokenize_en,\n",
    "                init_token = BOS_WORD, eos_token = EOS_WORD) # only target needs BOS/EOS\n",
    "\n",
    "# download dataset of 200K pairs of sentences\n",
    "# start with MAXLEN = 20\n",
    "MAX_LEN = 20\n",
    "train, val, test = datasets.IWSLT.splits(exts=('.de', '.en'), fields=(DE, EN), \n",
    "                                         filter_pred=lambda x: len(vars(x)['src']) <= MAX_LEN and \n",
    "                                         len(vars(x)['trg']) <= MAX_LEN)\n",
    "#print(train.fields)\n",
    "#print(len(train))\n",
    "#print(vars(train[0]))\n",
    "\n",
    "# build vocab, convert words to indices\n",
    "MIN_FREQ = 5\n",
    "DE.build_vocab(train.src, min_freq=MIN_FREQ)\n",
    "EN.build_vocab(train.trg, min_freq=MIN_FREQ)\n",
    "#print(DE.vocab.freqs.most_common(10))\n",
    "#print(\"Size of German vocab\", len(DE.vocab))\n",
    "#print(EN.vocab.freqs.most_common(10))\n",
    "#print(\"Size of English vocab\", len(EN.vocab))\n",
    "print(EN.vocab.stoi[\"<s>\"], EN.vocab.stoi[\"</s>\"])\n",
    "print(EN.vocab.stoi[\"<pad>\"], EN.vocab.stoi[\"<unk>\"])"
   ]
  },
  {
   "cell_type": "code",
   "execution_count": 4,
   "metadata": {},
   "outputs": [],
   "source": [
    "# split data into batches\n",
    "BATCH_SIZE = 32\n",
    "device = torch.device('cuda:0')\n",
    "train_iter, val_iter = data.BucketIterator.splits((train, val), batch_size=BATCH_SIZE, device=device,\n",
    "                                                  repeat=False, sort_key=lambda x: len(x.src))"
   ]
  },
  {
   "cell_type": "markdown",
   "metadata": {},
   "source": [
    "## Sequence to Sequence Learning with Neural Networks"
   ]
  },
  {
   "cell_type": "markdown",
   "metadata": {},
   "source": [
    "- English to French translation, $p \\left( y_1, \\dots, y_{T'} \\ | \\ x_1, \\dots, x_T \\right) = \\prod_{t = 1}^{T'} p \\left( y_t \\ | \\ v, y_1, \\dots, y_{t-1} \\right)$\n",
    "- Each sentence ends in '<EOS\\>', out-of-vocab words denoted '<UNK\\>'\n",
    "- Model specs: \n",
    "    * Input vocabulary of 160,000 and output vocabulary of 80,000\n",
    "    * Deep LSTM to map (encode) input sequence to fixed-len vector\n",
    "    * Another deep LSTM to translate (decode) fixed-len vector to output sequence\n",
    "    * 4 layers per LSTM, 1000 cells per layer, 1000-dimensional word embeddings, softmax over 80,000 words\n",
    "    * Reversing order of words in source (but not target) improved performance\n",
    "        * Each word in the source is far from its corresponding word in the target (large minimal time lag); reversing the source reduces the minimal time lag, thereby allowing backprop to establish communication between source and target more easily\n",
    "- Training specs:\n",
    "    * Initialize all LSTM params $\\sim Unif[-0.08,0.08]$\n",
    "    * SGD w/o momentum, lr = 0.7\n",
    "        * After 5 epochs, halve the lr every half-epoch\n",
    "        * Train for 7.5 epochs\n",
    "    * Batch size = 128; divide gradient by batch size (denoted $g$)\n",
    "    * Hard constraint gradient norm; if $s = ||g||_2 > 5$, set $s = 5$\n",
    "    * Make sure all sentences within a minibatch are roughly the same length\n",
    "- Objective: $max \\frac{1}{|S|} \\sum_{(T,S) \\in \\mathcal{S}} log \\ p(T \\ | \\ S)$, where $\\mathcal{S}$ is the training set\n",
    "- Prediction: $\\hat{T} = argmax \\ p(T \\ | \\ S)$ via beam search, where beam size $B \\in {1,2}$"
   ]
  },
  {
   "cell_type": "code",
   "execution_count": 5,
   "metadata": {},
   "outputs": [
    {
     "data": {
      "text/plain": [
       "'class SequenceModel(nn.Module):\\n    def __init__(self, src_vocab_size, context_size,weight_init = 0.08):\\n        super(SequenceModel, self).__init__()\\n        # embedding\\n        self.embedding = nn.Embedding(src_vocab_size, context_size)\\n        # langauge summarization\\n        self.lstm = nn.LSTM(input_size=context_size, hidden_size=context_size, num_layers=2, batch_first=True)\\n        for p in self.lstm.parameters():\\n            torch.nn.init.uniform_(p, a=weight_init, b=weight_init)\\n\\n    def forward(self, inputs, h0=None):\\n        # embed the words \\n        embedded = self.embedding(inputs)\\n        # summarize context\\n        context, hidden = self.lstm(embedded,h0)\\n        return context, hidden\\n    \\nclass LanguageModel(nn.Module):\\n    def __init__(self, target_vocab_size, hidden_size, context_size, weight_init = 0.08):\\n        super(LanguageModel, self).__init__()\\n        # context is batch_size x seq_len x context_size\\n        # context to hidden\\n        self.embedding = nn.Embedding(target_vocab_size, hidden_size)\\n        # hidden to hidden \\n        self.lstm = nn.LSTM(input_size=hidden_size, hidden_size=hidden_size, num_layers=1, batch_first=True)\\n        # decode hidden state for y_t\\n        for p in self.lstm.parameters():\\n            torch.nn.init.uniform_(p, a=weight_init, b=weight_init)\\n            \\n        self.translate = nn.Linear(hidden_size, target_vocab_size)\\n\\n    def forward(self, inputs, h0=None):\\n        # embed the trg words\\n        embedded = self.embedding(inputs)\\n        # setting hidden state to context at t=0\\n        # otherwise context = prev hidden state\\n        output, hidden = self.lstm(embedded, h0)\\n        output = self.translate(output)\\n        return output,hidden'"
      ]
     },
     "execution_count": 5,
     "metadata": {},
     "output_type": "execute_result"
    }
   ],
   "source": [
    "'''class SequenceModel(nn.Module):\n",
    "    def __init__(self, src_vocab_size, context_size,weight_init = 0.08):\n",
    "        super(SequenceModel, self).__init__()\n",
    "        # embedding\n",
    "        self.embedding = nn.Embedding(src_vocab_size, context_size)\n",
    "        # langauge summarization\n",
    "        self.lstm = nn.LSTM(input_size=context_size, hidden_size=context_size, num_layers=2, batch_first=True)\n",
    "        for p in self.lstm.parameters():\n",
    "            torch.nn.init.uniform_(p, a=weight_init, b=weight_init)\n",
    "\n",
    "    def forward(self, inputs, h0=None):\n",
    "        # embed the words \n",
    "        embedded = self.embedding(inputs)\n",
    "        # summarize context\n",
    "        context, hidden = self.lstm(embedded,h0)\n",
    "        return context, hidden\n",
    "    \n",
    "class LanguageModel(nn.Module):\n",
    "    def __init__(self, target_vocab_size, hidden_size, context_size, weight_init = 0.08):\n",
    "        super(LanguageModel, self).__init__()\n",
    "        # context is batch_size x seq_len x context_size\n",
    "        # context to hidden\n",
    "        self.embedding = nn.Embedding(target_vocab_size, hidden_size)\n",
    "        # hidden to hidden \n",
    "        self.lstm = nn.LSTM(input_size=hidden_size, hidden_size=hidden_size, num_layers=1, batch_first=True)\n",
    "        # decode hidden state for y_t\n",
    "        for p in self.lstm.parameters():\n",
    "            torch.nn.init.uniform_(p, a=weight_init, b=weight_init)\n",
    "            \n",
    "        self.translate = nn.Linear(hidden_size, target_vocab_size)\n",
    "\n",
    "    def forward(self, inputs, h0=None):\n",
    "        # embed the trg words\n",
    "        embedded = self.embedding(inputs)\n",
    "        # setting hidden state to context at t=0\n",
    "        # otherwise context = prev hidden state\n",
    "        output, hidden = self.lstm(embedded, h0)\n",
    "        output = self.translate(output)\n",
    "        return output,hidden'''"
   ]
  },
  {
   "cell_type": "code",
   "execution_count": 6,
   "metadata": {},
   "outputs": [
    {
     "data": {
      "text/plain": [
       "\"lsm = nn.LogSoftmax(dim=2)\\ncriterion = nn.CrossEntropyLoss(reduction='none')\""
      ]
     },
     "execution_count": 6,
     "metadata": {},
     "output_type": "execute_result"
    }
   ],
   "source": [
    "'''lsm = nn.LogSoftmax(dim=2)\n",
    "criterion = nn.CrossEntropyLoss(reduction='none')'''"
   ]
  },
  {
   "cell_type": "code",
   "execution_count": 7,
   "metadata": {},
   "outputs": [
    {
     "data": {
      "text/plain": [
       "'def repackage_hidden(h):\\n    return tuple(v.detach() for v in h)\\ndef repackage_layer(hidden_s2c,hidden=100):\\n    return tuple([hidden_s2c[0][-1].detach().view(1,BATCH_SIZE,hidden),hidden_s2c[1][-1].detach().view(1,BATCH_SIZE,hidden)])\\ndef reverse_sequence(src):\\n    length = list(src.shape)[1]\\n    idx = torch.linspace(length-1, 0, steps=length).long()\\n    rev_src = src[:,idx]\\n    return rev_src'"
      ]
     },
     "execution_count": 7,
     "metadata": {},
     "output_type": "execute_result"
    }
   ],
   "source": [
    "'''def repackage_hidden(h):\n",
    "    return tuple(v.detach() for v in h)\n",
    "def repackage_layer(hidden_s2c,hidden=100):\n",
    "    return tuple([hidden_s2c[0][-1].detach().view(1,BATCH_SIZE,hidden),hidden_s2c[1][-1].detach().view(1,BATCH_SIZE,hidden)])\n",
    "def reverse_sequence(src):\n",
    "    length = list(src.shape)[1]\n",
    "    idx = torch.linspace(length-1, 0, steps=length).long()\n",
    "    rev_src = src[:,idx]\n",
    "    return rev_src'''"
   ]
  },
  {
   "cell_type": "code",
   "execution_count": 8,
   "metadata": {},
   "outputs": [],
   "source": [
    "context_size = 500\n",
    "num_layers = 2\n",
    "seq2context = SequenceModel(len(DE.vocab),context_size,num_layers)\n",
    "context2trg = LanguageModel(len(EN.vocab),hidden_size=context_size,context_size=context_size)\n",
    "seq2context,context2trg = seq2context.cuda(),context2trg.cuda()\n",
    "seq2context_optimizer = torch.optim.Adam(seq2context.parameters(), lr=1e-5)\n",
    "context2trg_optimizer = torch.optim.Adam(context2trg.parameters(), lr=1e-5)"
   ]
  },
  {
   "cell_type": "code",
   "execution_count": 9,
   "metadata": {},
   "outputs": [
    {
     "data": {
      "text/plain": [
       "\"def training_loop(e=0):\\n    seq2context.train()\\n    context2trg.train()\\n    h0 = None\\n    for ix,batch in enumerate(train_iter):\\n        seq2context_optimizer.zero_grad()\\n        context2trg_optimizer.zero_grad()\\n        \\n        src = batch.src.values.transpose(0,1)\\n        src = reverse_sequence(src)\\n        trg = batch.trg.values.transpose(0,1)\\n        if src.shape[0]!=BATCH_SIZE:\\n            break\\n        else:\\n            # generate hidden state for decoder\\n            context, hidden_s2c = seq2context(src,h0)\\n            hidden = repackage_layer(hidden_s2c,context_size)\\n            output, hidden_lm = context2trg(trg[:,:-1],hidden)\\n            loss = criterion(output.transpose(2,1),trg[:,1:])\\n            mask = trg[:,1:]!=1\\n            loss = loss[mask].sum()\\n            #clip_grad_norm_(seq2context.parameters(), max_norm=5)\\n            #clip_grad_norm_(context2trg.parameters(), max_norm=5)\\n            loss.backward()\\n            seq2context_optimizer.step()\\n            context2trg_optimizer.step()\\n        if np.mod(ix,100) == 0:\\n            var = torch.var(torch.argmax(lsm(output).cpu().detach(),2).float())\\n            print('Epoch: {}, Batch: {}, loss: {}, var: {},'.format(e, ix, loss.cpu().detach()/BATCH_SIZE, var))\\n    loss = 0\\n    for b in iter(val_iter):\\n        src = b.src.values.transpose(0,1)\\n        src = reverse_sequence(src)\\n        trg = b.trg.values.transpose(0,1)\\n        if src.shape[0]!=BATCH_SIZE:\\n            break\\n        else:\\n            # generate hidden state for decoder\\n            context, hidden_s2c = seq2context(src,h0)\\n            hidden = repackage_layer(hidden_s2c,context_size)\\n            output, hidden_lm = context2trg(trg[:,:-1],hidden)\\n            bloss = criterion(output.transpose(2,1),trg[:,1:])\\n            mask = trg[:,1:]!=1\\n            loss += bloss[mask].sum()\\n    print('Epoch: {}, loss: {}, var: {},'.format(e, loss.cpu().detach()/(BATCH_SIZE*len(val_iter))))\""
      ]
     },
     "execution_count": 9,
     "metadata": {},
     "output_type": "execute_result"
    }
   ],
   "source": [
    "'''def training_loop(e=0):\n",
    "    seq2context.train()\n",
    "    context2trg.train()\n",
    "    h0 = None\n",
    "    for ix,batch in enumerate(train_iter):\n",
    "        seq2context_optimizer.zero_grad()\n",
    "        context2trg_optimizer.zero_grad()\n",
    "        \n",
    "        src = batch.src.values.transpose(0,1)\n",
    "        src = reverse_sequence(src)\n",
    "        trg = batch.trg.values.transpose(0,1)\n",
    "        if src.shape[0]!=BATCH_SIZE:\n",
    "            break\n",
    "        else:\n",
    "            # generate hidden state for decoder\n",
    "            context, hidden_s2c = seq2context(src,h0)\n",
    "            hidden = repackage_layer(hidden_s2c,context_size)\n",
    "            output, hidden_lm = context2trg(trg[:,:-1],hidden)\n",
    "            loss = criterion(output.transpose(2,1),trg[:,1:])\n",
    "            mask = trg[:,1:]!=1\n",
    "            loss = loss[mask].sum()\n",
    "            #clip_grad_norm_(seq2context.parameters(), max_norm=5)\n",
    "            #clip_grad_norm_(context2trg.parameters(), max_norm=5)\n",
    "            loss.backward()\n",
    "            seq2context_optimizer.step()\n",
    "            context2trg_optimizer.step()\n",
    "        if np.mod(ix,100) == 0:\n",
    "            var = torch.var(torch.argmax(lsm(output).cpu().detach(),2).float())\n",
    "            print('Epoch: {}, Batch: {}, loss: {}, var: {},'.format(e, ix, loss.cpu().detach()/BATCH_SIZE, var))\n",
    "    loss = 0\n",
    "    for b in iter(val_iter):\n",
    "        src = b.src.values.transpose(0,1)\n",
    "        src = reverse_sequence(src)\n",
    "        trg = b.trg.values.transpose(0,1)\n",
    "        if src.shape[0]!=BATCH_SIZE:\n",
    "            break\n",
    "        else:\n",
    "            # generate hidden state for decoder\n",
    "            context, hidden_s2c = seq2context(src,h0)\n",
    "            hidden = repackage_layer(hidden_s2c,context_size)\n",
    "            output, hidden_lm = context2trg(trg[:,:-1],hidden)\n",
    "            bloss = criterion(output.transpose(2,1),trg[:,1:])\n",
    "            mask = trg[:,1:]!=1\n",
    "            loss += bloss[mask].sum()\n",
    "    print('Epoch: {}, loss: {}, var: {},'.format(e, loss.cpu().detach()/(BATCH_SIZE*len(val_iter))))'''"
   ]
  },
  {
   "cell_type": "code",
   "execution_count": 10,
   "metadata": {
    "scrolled": false
   },
   "outputs": [
    {
     "data": {
      "text/plain": [
       "'for e in range(2):\\n    training_loop(e,train_iter,seq2context,context2trg,seq2context_optimizer,context2trg_optimizer,BATCH_SIZE)\\n    validation_loop(e,val_iter,seq2context,context2trg,BATCH_SIZE)'"
      ]
     },
     "execution_count": 10,
     "metadata": {},
     "output_type": "execute_result"
    }
   ],
   "source": [
    "'''for e in range(2):\n",
    "    training_loop(e,train_iter,seq2context,context2trg,seq2context_optimizer,context2trg_optimizer,BATCH_SIZE)\n",
    "    validation_loop(e,val_iter,seq2context,context2trg,BATCH_SIZE)'''"
   ]
  },
  {
   "cell_type": "code",
   "execution_count": 11,
   "metadata": {},
   "outputs": [
    {
     "data": {
      "text/plain": [
       "'for ix,batch in enumerate(train_iter):\\n    src = batch.src.values.transpose(0,1)\\n    trg = batch.trg.values.transpose(0,1)\\n    break\\n\\nh0 = None\\ncontext, hidden_s2c = seq2context(reverse_sequence(src),h0)\\nhidden = repackage_layer(hidden_s2c,context_size)\\noutput, hidden_lm = context2trg(trg[:,:-1],hidden)\\n\\n[EN.vocab.itos[i] for i in torch.argmax(lsm(output),2)[30,:]]'"
      ]
     },
     "execution_count": 11,
     "metadata": {},
     "output_type": "execute_result"
    }
   ],
   "source": [
    "'''for ix,batch in enumerate(train_iter):\n",
    "    src = batch.src.values.transpose(0,1)\n",
    "    trg = batch.trg.values.transpose(0,1)\n",
    "    break\n",
    "\n",
    "h0 = None\n",
    "context, hidden_s2c = seq2context(reverse_sequence(src),h0)\n",
    "hidden = repackage_layer(hidden_s2c,context_size)\n",
    "output, hidden_lm = context2trg(trg[:,:-1],hidden)\n",
    "\n",
    "[EN.vocab.itos[i] for i in torch.argmax(lsm(output),2)[30,:]]'''"
   ]
  },
  {
   "cell_type": "markdown",
   "metadata": {},
   "source": [
    "## Beam Search"
   ]
  },
  {
   "cell_type": "code",
   "execution_count": 12,
   "metadata": {},
   "outputs": [],
   "source": [
    "START_IDX = EN.vocab.stoi[\"<s>\"]\n",
    "END_IDX = EN.vocab.stoi[\"</s>\"]\n",
    "BEAM_WIDTH = 3\n",
    "lsm = torch.nn.LogSoftmax(dim=2)"
   ]
  },
  {
   "cell_type": "code",
   "execution_count": 13,
   "metadata": {},
   "outputs": [
    {
     "data": {
      "text/plain": [
       "torch.Size([1, 4])"
      ]
     },
     "execution_count": 13,
     "metadata": {},
     "output_type": "execute_result"
    }
   ],
   "source": [
    "it = iter(val_iter)\n",
    "b = next(it)\n",
    "ger = torch.unsqueeze(b.src.values.transpose(0,1)[0,:],0)\n",
    "#eng = b.trg.values.transpose(0,1)[0,:]\n",
    "ger.shape"
   ]
  },
  {
   "cell_type": "code",
   "execution_count": 14,
   "metadata": {},
   "outputs": [],
   "source": [
    "h0 = None\n",
    "context, hidden_s2c = seq2context(ger,h0)\n",
    "hidden = repackage_layer(hidden_s2c,context_size,BATCH_SIZE=1)"
   ]
  },
  {
   "cell_type": "code",
   "execution_count": 15,
   "metadata": {},
   "outputs": [
    {
     "data": {
      "text/plain": [
       "torch.Size([3, 1])"
      ]
     },
     "execution_count": 15,
     "metadata": {},
     "output_type": "execute_result"
    }
   ],
   "source": [
    "x = torch.tensor([START_IDX], device='cuda')\n",
    "x = torch.unsqueeze(x.repeat(BEAM_WIDTH),-1)\n",
    "x.shape"
   ]
  },
  {
   "cell_type": "code",
   "execution_count": 16,
   "metadata": {},
   "outputs": [
    {
     "data": {
      "text/plain": [
       "(torch.Size([1, 3, 500]), torch.Size([1, 3, 500]))"
      ]
     },
     "execution_count": 16,
     "metadata": {},
     "output_type": "execute_result"
    }
   ],
   "source": [
    "a = hidden[0]\n",
    "a_size = a.shape\n",
    "b = hidden[1]\n",
    "b_size = b.shape\n",
    "hidden = tuple((a.repeat(1,BEAM_WIDTH,1),b.repeat(1,BEAM_WIDTH,1)))\n",
    "hidden[0].shape, hidden[1].shape"
   ]
  },
  {
   "cell_type": "code",
   "execution_count": 17,
   "metadata": {},
   "outputs": [],
   "source": [
    "output, hidden_lm = context2trg(x,hidden)\n",
    "temp = lsm(output).squeeze()"
   ]
  },
  {
   "cell_type": "code",
   "execution_count": 18,
   "metadata": {},
   "outputs": [
    {
     "data": {
      "text/plain": [
       "torch.Size([3, 1])"
      ]
     },
     "execution_count": 18,
     "metadata": {},
     "output_type": "execute_result"
    }
   ],
   "source": [
    "top = torch.topk(temp.view(-1), BEAM_WIDTH, sorted=False)\n",
    "top[1].view(BEAM_WIDTH,-1).shape"
   ]
  },
  {
   "cell_type": "code",
   "execution_count": 19,
   "metadata": {},
   "outputs": [
    {
     "data": {
      "text/plain": [
       "torch.Size([3, 2])"
      ]
     },
     "execution_count": 19,
     "metadata": {},
     "output_type": "execute_result"
    }
   ],
   "source": [
    "x = torch.cat((x,top[1].view(BEAM_WIDTH,-1)),dim=1)\n",
    "x.shape"
   ]
  },
  {
   "cell_type": "code",
   "execution_count": 20,
   "metadata": {},
   "outputs": [
    {
     "data": {
      "text/plain": [
       "torch.Size([3, 2, 11560])"
      ]
     },
     "execution_count": 20,
     "metadata": {},
     "output_type": "execute_result"
    }
   ],
   "source": [
    "hidden = hidden_lm\n",
    "output, hidden_lm = context2trg(x,hidden)\n",
    "temp = lsm(output)\n",
    "temp.shape"
   ]
  },
  {
   "cell_type": "code",
   "execution_count": 21,
   "metadata": {},
   "outputs": [
    {
     "ename": "RuntimeError",
     "evalue": "cuda runtime error (59) : device-side assert triggered at /home/sager/pytorch/aten/src/THC/THCTensorCopy.cu:205",
     "output_type": "error",
     "traceback": [
      "\u001b[0;31m---------------------------------------------------------------------------\u001b[0m",
      "\u001b[0;31mRuntimeError\u001b[0m                              Traceback (most recent call last)",
      "\u001b[0;32m<ipython-input-21-f877308e84b0>\u001b[0m in \u001b[0;36m<module>\u001b[0;34m()\u001b[0m\n\u001b[0;32m----> 1\u001b[0;31m \u001b[0mtorch\u001b[0m\u001b[0;34m.\u001b[0m\u001b[0margmax\u001b[0m\u001b[0;34m(\u001b[0m\u001b[0mtemp\u001b[0m\u001b[0;34m[\u001b[0m\u001b[0;34m:\u001b[0m\u001b[0;34m,\u001b[0m\u001b[0;34m-\u001b[0m\u001b[0;36m1\u001b[0m\u001b[0;34m,\u001b[0m\u001b[0;34m:\u001b[0m\u001b[0;34m]\u001b[0m\u001b[0;34m)\u001b[0m\u001b[0;34m\u001b[0m\u001b[0m\n\u001b[0m",
      "\u001b[0;32m/opt/anaconda/anaconda3/lib/python3.6/site-packages/torch/functional.py\u001b[0m in \u001b[0;36margmax\u001b[0;34m(input, dim, keepdim)\u001b[0m\n\u001b[1;32m    530\u001b[0m     \"\"\"\n\u001b[1;32m    531\u001b[0m     \u001b[0;32mif\u001b[0m \u001b[0mdim\u001b[0m \u001b[0;32mis\u001b[0m \u001b[0;32mNone\u001b[0m\u001b[0;34m:\u001b[0m\u001b[0;34m\u001b[0m\u001b[0m\n\u001b[0;32m--> 532\u001b[0;31m         \u001b[0;32mreturn\u001b[0m \u001b[0mtorch\u001b[0m\u001b[0;34m.\u001b[0m\u001b[0m_argmax\u001b[0m\u001b[0;34m(\u001b[0m\u001b[0minput\u001b[0m\u001b[0;34m.\u001b[0m\u001b[0mcontiguous\u001b[0m\u001b[0;34m(\u001b[0m\u001b[0;34m)\u001b[0m\u001b[0;34m.\u001b[0m\u001b[0mview\u001b[0m\u001b[0;34m(\u001b[0m\u001b[0;34m-\u001b[0m\u001b[0;36m1\u001b[0m\u001b[0;34m)\u001b[0m\u001b[0;34m,\u001b[0m \u001b[0mdim\u001b[0m\u001b[0;34m=\u001b[0m\u001b[0;36m0\u001b[0m\u001b[0;34m,\u001b[0m \u001b[0mkeepdim\u001b[0m\u001b[0;34m=\u001b[0m\u001b[0;32mFalse\u001b[0m\u001b[0;34m)\u001b[0m\u001b[0;34m\u001b[0m\u001b[0m\n\u001b[0m\u001b[1;32m    533\u001b[0m     \u001b[0;32mreturn\u001b[0m \u001b[0mtorch\u001b[0m\u001b[0;34m.\u001b[0m\u001b[0m_argmax\u001b[0m\u001b[0;34m(\u001b[0m\u001b[0minput\u001b[0m\u001b[0;34m,\u001b[0m \u001b[0mdim\u001b[0m\u001b[0;34m,\u001b[0m \u001b[0mkeepdim\u001b[0m\u001b[0;34m)\u001b[0m\u001b[0;34m\u001b[0m\u001b[0m\n\u001b[1;32m    534\u001b[0m \u001b[0;34m\u001b[0m\u001b[0m\n",
      "\u001b[0;31mRuntimeError\u001b[0m: cuda runtime error (59) : device-side assert triggered at /home/sager/pytorch/aten/src/THC/THCTensorCopy.cu:205"
     ]
    }
   ],
   "source": [
    "#torch.argmax(temp[:,-1,:])"
   ]
  },
  {
   "cell_type": "code",
   "execution_count": null,
   "metadata": {},
   "outputs": [],
   "source": [
    "[EN.vocab.itos[i] for i in eng],[DE.vocab.itos[i] for i in ger]"
   ]
  },
  {
   "cell_type": "markdown",
   "metadata": {},
   "source": [
    "## Submission"
   ]
  },
  {
   "cell_type": "code",
   "execution_count": null,
   "metadata": {},
   "outputs": [],
   "source": [
    "'''# load test set\n",
    "sentences = []\n",
    "for i, l in enumerate(open(\"source_test.txt\"), 1):\n",
    "  sentences.append(re.split(' ', l))'''"
   ]
  }
 ],
 "metadata": {
  "kernelspec": {
   "display_name": "Python 3",
   "language": "python",
   "name": "python3"
  },
  "language_info": {
   "codemirror_mode": {
    "name": "ipython",
    "version": 3
   },
   "file_extension": ".py",
   "mimetype": "text/x-python",
   "name": "python",
   "nbconvert_exporter": "python",
   "pygments_lexer": "ipython3",
   "version": "3.6.5"
  }
 },
 "nbformat": 4,
 "nbformat_minor": 2
}
