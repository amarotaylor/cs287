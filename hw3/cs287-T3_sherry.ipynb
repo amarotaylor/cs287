{
 "cells": [
  {
   "cell_type": "markdown",
   "metadata": {},
   "source": [
    "# CS 287, Homework 3: Neural Machine Translation"
   ]
  },
  {
   "cell_type": "code",
   "execution_count": 3,
   "metadata": {},
   "outputs": [],
   "source": [
    "from common import *\n",
    "\n",
    "import torch\n",
    "from torch.nn.utils import clip_grad_norm_\n",
    "import torch.nn as nn\n",
    "import torch.nn.functional as F\n",
    "from torchtext import data, datasets\n",
    "from namedtensor import ntorch, NamedTensor\n",
    "from namedtensor.text import NamedField\n",
    "import numpy as np\n",
    "\n",
    "%reload_ext autoreload\n",
    "%autoreload 2"
   ]
  },
  {
   "cell_type": "code",
   "execution_count": 4,
   "metadata": {},
   "outputs": [
    {
     "name": "stdout",
     "output_type": "stream",
     "text": [
      "2 3\n",
      "1 0\n",
      "1 0\n"
     ]
    }
   ],
   "source": [
    "# split raw data into tokens\n",
    "import spacy\n",
    "spacy_de = spacy.load('de')\n",
    "spacy_en = spacy.load('en')\n",
    "\n",
    "def tokenize_de(text):\n",
    "    return [tok.text for tok in spacy_de.tokenizer(text)]\n",
    "\n",
    "def tokenize_en(text):\n",
    "    return [tok.text for tok in spacy_en.tokenizer(text)]\n",
    "\n",
    "# add beginning-of-sentence and end-of-sentence tokens to target\n",
    "BOS_WORD = '<s>'\n",
    "EOS_WORD = '</s>'\n",
    "DE = NamedField(names=('srcSeqlen',), tokenize=tokenize_de)\n",
    "EN = NamedField(names=('trgSeqlen',), tokenize=tokenize_en,\n",
    "                init_token = BOS_WORD, eos_token = EOS_WORD) # only target needs BOS/EOS\n",
    "\n",
    "# download dataset of 200K pairs of sentences\n",
    "# start with MAXLEN = 20\n",
    "MAX_LEN = 20\n",
    "train, val, test = datasets.IWSLT.splits(exts=('.de', '.en'), fields=(DE, EN), \n",
    "                                         filter_pred=lambda x: len(vars(x)['src']) <= MAX_LEN and \n",
    "                                         len(vars(x)['trg']) <= MAX_LEN)\n",
    "#print(train.fields)\n",
    "#print(len(train))\n",
    "#print(vars(train[0]))\n",
    "\n",
    "# build vocab, convert words to indices\n",
    "MIN_FREQ = 5\n",
    "DE.build_vocab(train.src, min_freq=MIN_FREQ)\n",
    "EN.build_vocab(train.trg, min_freq=MIN_FREQ)\n",
    "#print(DE.vocab.freqs.most_common(10))\n",
    "#print(\"Size of German vocab\", len(DE.vocab))\n",
    "#print(EN.vocab.freqs.most_common(10))\n",
    "#print(\"Size of English vocab\", len(EN.vocab))\n",
    "print(EN.vocab.stoi[\"<s>\"], EN.vocab.stoi[\"</s>\"])\n",
    "print(EN.vocab.stoi[\"<pad>\"], EN.vocab.stoi[\"<unk>\"])\n",
    "print(DE.vocab.stoi[\"<pad>\"], DE.vocab.stoi[\"<unk>\"])"
   ]
  },
  {
   "cell_type": "code",
   "execution_count": 5,
   "metadata": {},
   "outputs": [],
   "source": [
    "# split data into batches\n",
    "BATCH_SIZE = 32\n",
    "device = torch.device('cuda:0')\n",
    "train_iter, val_iter = data.BucketIterator.splits((train, val), batch_size=BATCH_SIZE, device=device,\n",
    "                                                  repeat=False, sort_key=lambda x: len(x.src))"
   ]
  },
  {
   "cell_type": "markdown",
   "metadata": {},
   "source": [
    "## Sequence to Sequence Learning with Neural Networks"
   ]
  },
  {
   "cell_type": "markdown",
   "metadata": {},
   "source": [
    "- English to French translation, $p \\left( y_1, \\dots, y_{T'} \\ | \\ x_1, \\dots, x_T \\right) = \\prod_{t = 1}^{T'} p \\left( y_t \\ | \\ v, y_1, \\dots, y_{t-1} \\right)$\n",
    "- Each sentence ends in '<EOS\\>', out-of-vocab words denoted '<UNK\\>'\n",
    "- Model specs: \n",
    "    * Input vocabulary of 160,000 and output vocabulary of 80,000\n",
    "    * Deep LSTM to map (encode) input sequence to fixed-len vector\n",
    "    * Another deep LSTM to translate (decode) fixed-len vector to output sequence\n",
    "    * 4 layers per LSTM, 1000 cells per layer, 1000-dimensional word embeddings, softmax over 80,000 words\n",
    "    * Reversing order of words in source (but not target) improved performance\n",
    "        * Each word in the source is far from its corresponding word in the target (large minimal time lag); reversing the source reduces the minimal time lag, thereby allowing backprop to establish communication between source and target more easily\n",
    "- Training specs:\n",
    "    * Initialize all LSTM params $\\sim Unif[-0.08,0.08]$\n",
    "    * SGD w/o momentum, lr = 0.7\n",
    "        * After 5 epochs, halve the lr every half-epoch\n",
    "        * Train for 7.5 epochs\n",
    "    * Batch size = 128; divide gradient by batch size (denoted $g$)\n",
    "    * Hard constraint gradient norm; if $s = ||g||_2 > 5$, set $s = 5$\n",
    "    * Make sure all sentences within a minibatch are roughly the same length\n",
    "- Objective: $max \\frac{1}{|S|} \\sum_{(T,S) \\in \\mathcal{S}} log \\ p(T \\ | \\ S)$, where $\\mathcal{S}$ is the training set\n",
    "- Prediction: $\\hat{T} = argmax \\ p(T \\ | \\ S)$ via beam search, where beam size $B \\in {1,2}$"
   ]
  },
  {
   "cell_type": "code",
   "execution_count": null,
   "metadata": {},
   "outputs": [],
   "source": [
    "class SequenceModel(nn.Module):\n",
    "    def __init__(self, src_vocab_size, context_size, num_layers, weight_init = 0.08):\n",
    "        super(SequenceModel, self).__init__()\n",
    "        # embedding\n",
    "        self.embedding = nn.Embedding(src_vocab_size, context_size)\n",
    "        # language summarization\n",
    "        self.lstm = nn.LSTM(input_size=context_size, hidden_size=context_size, num_layers=num_layers, batch_first=True)\n",
    "        for p in self.lstm.parameters():\n",
    "            torch.nn.init.uniform_(p, a=weight_init, b=weight_init)\n",
    "\n",
    "    def forward(self, inputs, h0=None):\n",
    "        # embed the words \n",
    "        embedded = self.embedding(inputs)\n",
    "        # summarize context\n",
    "        context, hidden = self.lstm(embedded,h0)\n",
    "        return context, hidden\n",
    "    \n",
    "class LanguageModel(nn.Module):\n",
    "    def __init__(self, target_vocab_size, hidden_size, context_size, num_layers, weight_init = 0.08):\n",
    "        super(LanguageModel, self).__init__()\n",
    "        # context is batch_size x seq_len x context_size\n",
    "        # context to hidden\n",
    "        self.embedding = nn.Embedding(target_vocab_size, hidden_size)\n",
    "        # hidden to hidden \n",
    "        self.lstm = nn.LSTM(input_size=hidden_size, hidden_size=hidden_size, num_layers=num_layers, batch_first=True)\n",
    "        # decode hidden state for y_t\n",
    "        for p in self.lstm.parameters():\n",
    "            torch.nn.init.uniform_(p, a=weight_init, b=weight_init)\n",
    "            \n",
    "        self.translate = nn.Linear(hidden_size, target_vocab_size)\n",
    "\n",
    "    def forward(self, inputs, h0=None):\n",
    "        # embed the trg words\n",
    "        embedded = self.embedding(inputs)\n",
    "        # setting hidden state to context at t=0\n",
    "        # otherwise context = prev hidden state\n",
    "        output, hidden = self.lstm(embedded, h0)\n",
    "        output = self.translate(output)\n",
    "        return output,hidden"
   ]
  },
  {
   "cell_type": "code",
   "execution_count": null,
   "metadata": {},
   "outputs": [],
   "source": [
    "criterion = nn.CrossEntropyLoss(reduction='none')"
   ]
  },
  {
   "cell_type": "code",
   "execution_count": null,
   "metadata": {},
   "outputs": [],
   "source": [
    "def repackage_hidden(h):\n",
    "    return tuple(v.detach() for v in h)\n",
    "def repackage_layer(hidden_s2c,hidden=100):\n",
    "    return tuple([hidden_s2c[0][-1].detach().view(1,BATCH_SIZE,hidden),hidden_s2c[1][-1].detach().view(1,BATCH_SIZE,hidden)])\n",
    "def reverse_sequence(src):\n",
    "    length = list(src.shape)[1]\n",
    "    idx = torch.linspace(length-1, 0, steps=length).long()\n",
    "    rev_src = src[:,idx]\n",
    "    return rev_src"
   ]
  },
  {
   "cell_type": "code",
   "execution_count": null,
   "metadata": {},
   "outputs": [],
   "source": [
    "context_size = 500\n",
    "num_layers = 1\n",
    "seq2context = SequenceModel(len(DE.vocab),context_size,num_layers)\n",
    "context2trg = LanguageModel(len(EN.vocab),hidden_size=context_size,context_size=context_size,num_layers=num_layers)\n",
    "seq2context,context2trg = seq2context.cuda(),context2trg.cuda()\n",
    "seq2context_optimizer = torch.optim.Adam(seq2context.parameters(), lr=1e-5)\n",
    "context2trg_optimizer = torch.optim.Adam(context2trg.parameters(), lr=1e-5)"
   ]
  },
  {
   "cell_type": "code",
   "execution_count": null,
   "metadata": {},
   "outputs": [],
   "source": [
    "def training_loop(e=0):\n",
    "    seq2context.train()\n",
    "    context2trg.train()\n",
    "    h0 = None\n",
    "    for ix,batch in enumerate(train_iter):\n",
    "        seq2context_optimizer.zero_grad()\n",
    "        context2trg_optimizer.zero_grad()\n",
    "        \n",
    "        src = batch.src.values.transpose(0,1)\n",
    "        src = reverse_sequence(src)\n",
    "        trg = batch.trg.values.transpose(0,1)\n",
    "        if src.shape[0]!=BATCH_SIZE:\n",
    "            break\n",
    "        else:\n",
    "            # generate hidden state for decoder\n",
    "            context, hidden_s2c = seq2context(src,h0)\n",
    "            hidden = repackage_layer(hidden_s2c,context_size)\n",
    "            output, hidden_lm = context2trg(trg[:,:-1],hidden)\n",
    "            loss = criterion(output.transpose(2,1),trg[:,1:])\n",
    "            mask = trg[:,1:]!=1\n",
    "            loss = loss[mask].sum()\n",
    "            #clip_grad_norm_(seq2context.parameters(), max_norm=5)\n",
    "            #clip_grad_norm_(context2trg.parameters(), max_norm=5)\n",
    "            loss.backward()\n",
    "            seq2context_optimizer.step()\n",
    "            context2trg_optimizer.step()\n",
    "        if np.mod(ix,100) == 0:\n",
    "            var = torch.var(torch.argmax(lsm(output).cpu().detach(),2).float())\n",
    "            print('Epoch: {}, Batch: {}, loss: {}, var: {},'.format(e, ix, loss.cpu().detach()/BATCH_SIZE, var))\n",
    "    loss = 0\n",
    "    for b in iter(val_iter):\n",
    "        src = b.src.values.transpose(0,1)\n",
    "        src = reverse_sequence(src)\n",
    "        trg = b.trg.values.transpose(0,1)\n",
    "        if src.shape[0]!=BATCH_SIZE:\n",
    "            break\n",
    "        else:\n",
    "            # generate hidden state for decoder\n",
    "            context, hidden_s2c = seq2context(src,h0)\n",
    "            hidden = repackage_layer(hidden_s2c,context_size)\n",
    "            output, hidden_lm = context2trg(trg[:,:-1],hidden)\n",
    "            bloss = criterion(output.transpose(2,1),trg[:,1:])\n",
    "            mask = trg[:,1:]!=1\n",
    "            loss += bloss[mask].sum()\n",
    "    print('Epoch: {}, loss: {}, var: {},'.format(e, loss.cpu().detach()/(BATCH_SIZE*len(val_iter))))"
   ]
  },
  {
   "cell_type": "code",
   "execution_count": null,
   "metadata": {
    "scrolled": false
   },
   "outputs": [],
   "source": [
    "for e in range(2):\n",
    "    training_loop(e)\n",
    "    #training_loop(e,train_iter,seq2context,context2trg,seq2context_optimizer,context2trg_optimizer,BATCH_SIZE)\n",
    "    #validation_loop(e,val_iter,seq2context,context2trg,BATCH_SIZE)"
   ]
  },
  {
   "cell_type": "code",
   "execution_count": null,
   "metadata": {},
   "outputs": [],
   "source": [
    "'''for ix,batch in enumerate(train_iter):\n",
    "    src = batch.src.values.transpose(0,1)\n",
    "    trg = batch.trg.values.transpose(0,1)\n",
    "    break\n",
    "\n",
    "h0 = None\n",
    "context, hidden_s2c = seq2context(reverse_sequence(src),h0)\n",
    "hidden = repackage_layer(hidden_s2c,context_size)\n",
    "output, hidden_lm = context2trg(trg[:,:-1],hidden)\n",
    "\n",
    "[EN.vocab.itos[i] for i in torch.argmax(lsm(output),2)[30,:]]'''"
   ]
  },
  {
   "cell_type": "markdown",
   "metadata": {},
   "source": [
    "## Beam Search"
   ]
  },
  {
   "cell_type": "code",
   "execution_count": 44,
   "metadata": {},
   "outputs": [],
   "source": [
    "class attn_RNNet_batched(torch.nn.Module):\n",
    "\n",
    "    def __init__(self, input_size, hidden_size, num_layers, dropout=0.5, weight_init=0.05):\n",
    "        super(attn_RNNet_batched, self).__init__()\n",
    "        self.emb = torch.nn.Sequential(torch.nn.Embedding(input_size, hidden_size), torch.nn.Dropout(dropout))\n",
    "        self.rnn = torch.nn.LSTM(input_size=2*hidden_size, hidden_size=hidden_size, num_layers=num_layers, bias=True, batch_first=True, dropout=dropout)\n",
    "        self.lnr = torch.nn.Sequential(torch.nn.Dropout(dropout), torch.nn.Linear(2*hidden_size, input_size))\n",
    "    \n",
    "        for f in self.parameters():\n",
    "            torch.nn.init.uniform_(f, a=-weight_init, b=weight_init)\n",
    "\n",
    "    def forward(self, word_input, last_context, last_hidden, encoder_outputs):\n",
    "        word_embedded = self.emb(word_input)\n",
    "        rnn_input = torch.cat([word_embedded, last_context], 1).unsqueeze(1) # batch x 1 x hiddenx2\n",
    "        rnn_output, hidden = self.rnn(rnn_input, last_hidden)\n",
    "        attn_weights = rnn_output.bmm(encoder_outputs.transpose(1,2))# batch x src_seqlen x 1\n",
    "        context = attn_weights.bmm(encoder_outputs)\n",
    "        rnn_output = rnn_output.squeeze(1)\n",
    "        context = context.squeeze(1)\n",
    "        output = self.lnr(torch.cat((rnn_output, context), 1))\n",
    "        # prediction, last_context, last_hidden, weights for vis\n",
    "        return output, context, hidden, attn_weights "
   ]
  },
  {
   "cell_type": "code",
   "execution_count": 45,
   "metadata": {},
   "outputs": [],
   "source": [
    "context_size = 500\n",
    "num_layers = 2\n",
    "attn_context2trg = attn_RNNet_batched(input_size=len(EN.vocab),hidden_size=context_size,num_layers=num_layers)\n",
    "attn_context2trg = attn_context2trg.cuda()\n",
    "#attn_context2trg_optimizer = torch.optim.Adam(attn_context2trg.parameters(), lr=1e-3)\n",
    "\n",
    "seq2context = SequenceModel(len(DE.vocab),context_size,num_layers=num_layers)\n",
    "#seq2context_optimizer = torch.optim.Adam(seq2context.parameters(), lr=1e-3)\n",
    "seq2context = seq2context.cuda()"
   ]
  },
  {
   "cell_type": "code",
   "execution_count": 46,
   "metadata": {},
   "outputs": [],
   "source": [
    "it = iter(train_iter)\n",
    "batch = next(it)\n",
    "src = batch.src.values.transpose(0,1)\n",
    "src = reverse_sequence(src)\n",
    "trg = batch.trg.values.transpose(0,1)\n",
    "max_len = trg.shape[1]\n",
    "encoder_outputs, encoder_hidden = seq2context(src)\n",
    "decoder_context = torch.zeros(BATCH_SIZE, context_size, device='cuda') # 32 x 500\n",
    "decoder_hidden = encoder_hidden"
   ]
  },
  {
   "cell_type": "code",
   "execution_count": 69,
   "metadata": {},
   "outputs": [],
   "source": [
    "START_TKN = EN.vocab.stoi[\"<s>\"]\n",
    "END_TKN = EN.vocab.stoi[\"</s>\"]\n",
    "BEAM_WIDTH = 3\n",
    "lsm = nn.LogSoftmax(dim=1)\n",
    "\n",
    "predictions = []\n",
    "b_string = torch.zeros((BATCH_SIZE, max_len, BEAM_WIDTH), device='cuda')\n",
    "b_string[:,0,:] = START_TKN\n",
    "\n",
    "b_probs = {}\n",
    "# key = (batch idx, beam idx)\n",
    "# val = (cum log prob, length)\n",
    "for b in range(BATCH_SIZE):\n",
    "    for c in range(BEAM_WIDTH):\n",
    "        b_probs[(b, c)] = [0, 1]"
   ]
  },
  {
   "cell_type": "code",
   "execution_count": 70,
   "metadata": {},
   "outputs": [],
   "source": [
    "# get initial set of predicted words following <s>\n",
    "i = 0 # position index \n",
    "word_input = b_string[:,i,0].long()\n",
    "decoder_output, decoder_context, decoder_hidden, decoder_attention = attn_context2trg(word_input, \n",
    "                                                                                          decoder_context, \n",
    "                                                                                          decoder_hidden, \n",
    "                                                                                          encoder_outputs)"
   ]
  },
  {
   "cell_type": "code",
   "execution_count": 71,
   "metadata": {},
   "outputs": [],
   "source": [
    "logprobs = lsm(decoder_output)\n",
    "toppreds = torch.argsort(logprobs, dim=1, descending=True)[:,0:BEAM_WIDTH]\n",
    "b_string[:, i+1, :] = toppreds\n",
    "for b in range(BATCH_SIZE):\n",
    "    for c in range(BEAM_WIDTH):\n",
    "        b_probs[tuple((b, c))][0] += logprobs[b, c].detach()\n",
    "        b_probs[tuple((b, c))][1] += 1"
   ]
  },
  {
   "cell_type": "code",
   "execution_count": 73,
   "metadata": {},
   "outputs": [],
   "source": [
    "# get subsequent sets of predicted words\n",
    "curr_probs = {}\n",
    "i = 1\n",
    "j = 0 # beam index\n",
    "word_input = b_string[:,i,j].long()\n",
    "decoder_output, decoder_context, decoder_hidden, decoder_attention = attn_context2trg(word_input, \n",
    "                                                                                          decoder_context, \n",
    "                                                                                          decoder_hidden, \n",
    "                                                                                          encoder_outputs)"
   ]
  },
  {
   "cell_type": "code",
   "execution_count": 74,
   "metadata": {},
   "outputs": [],
   "source": [
    "logprobs = lsm(decoder_output)\n",
    "toppreds = torch.argsort(logprobs, dim=1, descending=True)[:,0:BEAM_WIDTH]\n",
    "b_string[:, i+1, :] = toppreds\n",
    "for b in range(BATCH_SIZE):\n",
    "    for c in range(BEAM_WIDTH):\n",
    "        curr_probs[tuple((b, c))] = logprobs[b, c].detach()"
   ]
  },
  {
   "cell_type": "code",
   "execution_count": 76,
   "metadata": {},
   "outputs": [],
   "source": [
    "j = 1\n",
    "word_input = b_string[:,i,j].long()\n",
    "decoder_output, decoder_context, decoder_hidden, decoder_attention = attn_context2trg(word_input, \n",
    "                                                                                          decoder_context, \n",
    "                                                                                          decoder_hidden, \n",
    "                                                                                          encoder_outputs)"
   ]
  },
  {
   "cell_type": "code",
   "execution_count": null,
   "metadata": {},
   "outputs": [],
   "source": [
    "logprobs = lsm(decoder_output)\n",
    "toppreds = torch.argsort(logprobs, dim=1, descending=True)[:,0:BEAM_WIDTH]\n",
    "for b in range(BATCH_SIZE):\n",
    "    for c in range(BEAM_WIDTH):\n",
    "        replaced = False\n",
    "        for d in range(BEAM_WIDTH):            \n",
    "            if logprobs[b, c] > curr_probs[tuple((b, d))] and !replaced:\n",
    "                curr_probs[tuple((b, d))] = logprobs[b, c]\n",
    "                b_string[b, i+1, d] = toppreds[b, c]\n",
    "                replaced = True"
   ]
  },
  {
   "cell_type": "code",
   "execution_count": null,
   "metadata": {},
   "outputs": [],
   "source": [
    "#for j in range(max_len - 1):"
   ]
  },
  {
   "cell_type": "code",
   "execution_count": null,
   "metadata": {},
   "outputs": [],
   "source": [
    "h0 = None\n",
    "context, hidden_s2c = seq2context(ger,h0)\n",
    "hidden = repackage_layer(hidden_s2c,context_size,BATCH_SIZE=1)"
   ]
  },
  {
   "cell_type": "code",
   "execution_count": null,
   "metadata": {},
   "outputs": [],
   "source": [
    "x = torch.tensor([START_IDX], device='cuda')\n",
    "x = torch.unsqueeze(x.repeat(BEAM_WIDTH),-1)\n",
    "x.shape"
   ]
  },
  {
   "cell_type": "code",
   "execution_count": null,
   "metadata": {},
   "outputs": [],
   "source": [
    "a = hidden[0]\n",
    "a_size = a.shape\n",
    "b = hidden[1]\n",
    "b_size = b.shape\n",
    "hidden = tuple((a.repeat(1,BEAM_WIDTH,1),b.repeat(1,BEAM_WIDTH,1)))\n",
    "hidden[0].shape, hidden[1].shape"
   ]
  },
  {
   "cell_type": "code",
   "execution_count": null,
   "metadata": {},
   "outputs": [],
   "source": [
    "output, hidden_lm = context2trg(x,hidden)\n",
    "temp = lsm(output).squeeze()"
   ]
  },
  {
   "cell_type": "code",
   "execution_count": null,
   "metadata": {},
   "outputs": [],
   "source": [
    "top = torch.topk(temp.view(-1), BEAM_WIDTH, sorted=False)\n",
    "top[1].view(BEAM_WIDTH,-1).shape"
   ]
  },
  {
   "cell_type": "code",
   "execution_count": null,
   "metadata": {},
   "outputs": [],
   "source": [
    "x = torch.cat((x,top[1].view(BEAM_WIDTH,-1)),dim=1)\n",
    "x.shape"
   ]
  },
  {
   "cell_type": "code",
   "execution_count": null,
   "metadata": {},
   "outputs": [],
   "source": [
    "hidden = hidden_lm\n",
    "output, hidden_lm = context2trg(x,hidden)\n",
    "temp = lsm(output)\n",
    "temp.shape"
   ]
  },
  {
   "cell_type": "code",
   "execution_count": null,
   "metadata": {},
   "outputs": [],
   "source": [
    "#torch.argmax(temp[:,-1,:])"
   ]
  },
  {
   "cell_type": "code",
   "execution_count": null,
   "metadata": {},
   "outputs": [],
   "source": [
    "[EN.vocab.itos[i] for i in eng],[DE.vocab.itos[i] for i in ger]"
   ]
  },
  {
   "cell_type": "markdown",
   "metadata": {},
   "source": [
    "## Submission"
   ]
  },
  {
   "cell_type": "code",
   "execution_count": null,
   "metadata": {},
   "outputs": [],
   "source": [
    "'''# load test set\n",
    "sentences = []\n",
    "for i, l in enumerate(open(\"source_test.txt\"), 1):\n",
    "  sentences.append(re.split(' ', l))'''"
   ]
  }
 ],
 "metadata": {
  "kernelspec": {
   "display_name": "Python 3",
   "language": "python",
   "name": "python3"
  },
  "language_info": {
   "codemirror_mode": {
    "name": "ipython",
    "version": 3
   },
   "file_extension": ".py",
   "mimetype": "text/x-python",
   "name": "python",
   "nbconvert_exporter": "python",
   "pygments_lexer": "ipython3",
   "version": "3.6.5"
  }
 },
 "nbformat": 4,
 "nbformat_minor": 2
}
