{
 "cells": [
  {
   "cell_type": "markdown",
   "metadata": {
    "colab_type": "text",
    "id": "view-in-github"
   },
   "source": [
    "<a href=\"https://colab.research.google.com/github/amarotaylor/cs287/blob/master/hw3/example_Attention.ipynb\" target=\"_parent\"><img src=\"https://colab.research.google.com/assets/colab-badge.svg\" alt=\"Open In Colab\"/></a>"
   ]
  },
  {
   "cell_type": "markdown",
   "metadata": {
    "colab_type": "text",
    "id": "Nd1unuc7hr-p"
   },
   "source": [
    "# Attention"
   ]
  },
  {
   "cell_type": "markdown",
   "metadata": {
    "colab_type": "text",
    "id": "Wq4JxhxOhvO7"
   },
   "source": []
  },
  {
   "cell_type": "code",
   "execution_count": 0,
   "metadata": {
    "colab": {
     "base_uri": "https://localhost:8080/",
     "height": 72
    },
    "colab_type": "code",
    "id": "Kr6lZ7gDiCkI",
    "outputId": "2031243a-23fa-44f8-9ef1-f6e9a660311c"
   },
   "outputs": [
    {
     "name": "stdout",
     "output_type": "stream",
     "text": [
      "\u001b[?25l\r",
      "\u001b[K    17% |█████▌                          | 10kB 21.2MB/s eta 0:00:01\r",
      "\u001b[K    34% |███████████                     | 20kB 1.9MB/s eta 0:00:01\r",
      "\u001b[K    51% |████████████████▌               | 30kB 2.8MB/s eta 0:00:01\r",
      "\u001b[K    68% |██████████████████████          | 40kB 1.8MB/s eta 0:00:01\r",
      "\u001b[K    86% |███████████████████████████▌    | 51kB 2.2MB/s eta 0:00:01\r",
      "\u001b[K    100% |████████████████████████████████| 61kB 2.3MB/s \n",
      "\u001b[?25h  Building wheel for opt-einsum (setup.py) ... \u001b[?25ldone\n",
      "\u001b[?25h  Building wheel for namedtensor (setup.py) ... \u001b[?25ldone\n",
      "\u001b[?25h"
     ]
    }
   ],
   "source": [
    "!pip install -q torch torchtext opt_einsum\n",
    "!pip install -qU git+https://github.com/harvardnlp/namedtensor"
   ]
  },
  {
   "cell_type": "code",
   "execution_count": 0,
   "metadata": {
    "colab": {},
    "colab_type": "code",
    "id": "UR-36EuBiDHN"
   },
   "outputs": [],
   "source": [
    "from namedtensor import ntorch"
   ]
  },
  {
   "cell_type": "code",
   "execution_count": 0,
   "metadata": {
    "colab": {},
    "colab_type": "code",
    "id": "Sdqlrq6QiIPY"
   },
   "outputs": [],
   "source": [
    "src = ntorch.randn(10, 20, names=(\"srclen\", \"hidden\"))\n",
    "cur = ntorch.randn(20, names=(\"hidden\"))\n",
    "context = src.dot(\"hidden\", cur).softmax(\"srclen\").dot(\"srclen\", src)"
   ]
  },
  {
   "cell_type": "code",
   "execution_count": 0,
   "metadata": {
    "colab": {},
    "colab_type": "code",
    "id": "LgXZICyGtLAW"
   },
   "outputs": [],
   "source": [
    "src = ntorch.randn(10, 20, names=(\"srclen\", \"hidden\"))\n",
    "src2 = ntorch.randn(10, 20, names=(\"srclen2\", \"hidden\"))\n",
    "context = src.dot(\"hidden\", src2).softmax(\"srclen\").dot(\"srclen\", src)"
   ]
  },
  {
   "cell_type": "code",
   "execution_count": 0,
   "metadata": {
    "colab": {},
    "colab_type": "code",
    "id": "SNfwVEZfuxf9"
   },
   "outputs": [],
   "source": [
    "src = ntorch.randn(10, 20, names=(\"srclen\", \"hidden\"))\n",
    "tgt = ntorch.randn(15, 20, names=(\"tgtlen\", \"hidden\"))\n",
    "context = src.dot(\"hidden\", tgt).softmax(\"srclen\").dot(\"srclen\", src)"
   ]
  },
  {
   "cell_type": "code",
   "execution_count": 0,
   "metadata": {
    "colab": {},
    "colab_type": "code",
    "id": "FtIRTGE_w112"
   },
   "outputs": [],
   "source": [
    "import torch"
   ]
  },
  {
   "cell_type": "code",
   "execution_count": 0,
   "metadata": {
    "colab": {},
    "colab_type": "code",
    "id": "8Qws7kkcvx8H"
   },
   "outputs": [],
   "source": [
    "tgt = ntorch.randn(10, 20, names=(\"tgtlen\", \"hidden\"))\n",
    "tgt2 = ntorch.randn(10, 20, names=(\"tgtlen2\", \"hidden\"))\n",
    "context = tgt.dot(\"hidden\", tgt2).softmax(\"tgtlen\").dot(\"tgtlen\", tgt)"
   ]
  },
  {
   "cell_type": "code",
   "execution_count": 0,
   "metadata": {
    "colab": {},
    "colab_type": "code",
    "id": "OAFZez_k8QXZ"
   },
   "outputs": [],
   "source": [
    "tgt = ntorch.randn(10, 20, requires_grad=True, names=(\"tgtlen\", \"hidden\"))\n",
    "tgt2 = ntorch.randn(10, 20, names=(\"tgtlen2\", \"hidden\"))\n",
    "context = tgt.dot(\"hidden\", tgt2)\n",
    "mask = ntorch.tensor(torch.ones(10, 10).tril(diagonal=1), names=(\"tgtlen\", \"tgtlen2\")) * -1e9\n",
    "context = (context + mask).softmax(\"tgtlen\").dot(\"tgtlen\", tgt)"
   ]
  },
  {
   "cell_type": "code",
   "execution_count": 0,
   "metadata": {
    "colab": {
     "base_uri": "https://localhost:8080/",
     "height": 33
    },
    "colab_type": "code",
    "id": "7AKIHASW8rDC",
    "outputId": "dd8875d2-14d8-4e66-b545-b6d04a00a17a"
   },
   "outputs": [
    {
     "data": {
      "text/plain": [
       "OrderedDict([('tgtlen2', 10), ('hidden', 20)])"
      ]
     },
     "execution_count": 49,
     "metadata": {
      "tags": []
     },
     "output_type": "execute_result"
    }
   ],
   "source": [
    "context.shape"
   ]
  },
  {
   "cell_type": "code",
   "execution_count": 0,
   "metadata": {
    "colab": {},
    "colab_type": "code",
    "id": "_3LJm2M29KKl"
   },
   "outputs": [],
   "source": [
    "context[{\"tgtlen2\": 5, \"hidden\": 2}].backward()\n",
    "tgt.values.grad"
   ]
  },
  {
   "cell_type": "code",
   "execution_count": 0,
   "metadata": {
    "colab": {
     "base_uri": "https://localhost:8080/",
     "height": 683
    },
    "colab_type": "code",
    "id": "wOd6dDLC9ZZV",
    "outputId": "443b171f-ccc4-4d72-b820-b670eb0b8230"
   },
   "outputs": [
    {
     "data": {
      "text/plain": [
       "tensor([[ 5.8718e-04, -1.3804e-04,  1.4758e-03,  2.4450e-04,  9.3490e-04,\n",
       "          5.5300e-04,  4.3123e-04, -6.1599e-04, -2.5344e-04,  3.2736e-04,\n",
       "         -2.6511e-04, -3.3629e-04,  4.1443e-05, -1.1566e-04, -1.0021e-04,\n",
       "         -1.3355e-04, -8.2099e-04,  1.8628e-04,  7.6669e-04, -1.7265e-04],\n",
       "        [-2.3161e-08,  5.4451e-09, -1.4100e-08, -9.6444e-09, -3.6877e-08,\n",
       "         -2.1813e-08, -1.7010e-08,  2.4298e-08,  9.9971e-09, -1.2913e-08,\n",
       "          1.0457e-08,  1.3265e-08, -1.6347e-09,  4.5622e-09,  3.9527e-09,\n",
       "          5.2678e-09,  3.2384e-08, -7.3477e-09, -3.0242e-08,  6.8101e-09],\n",
       "        [-5.8710e-04,  1.3802e-04,  9.9852e-01, -2.4447e-04, -9.3477e-04,\n",
       "         -5.5293e-04, -4.3118e-04,  6.1591e-04,  2.5341e-04, -3.2732e-04,\n",
       "          2.6508e-04,  3.3624e-04, -4.1438e-05,  1.1564e-04,  1.0020e-04,\n",
       "          1.3353e-04,  8.2088e-04, -1.8625e-04, -7.6659e-04,  1.7263e-04],\n",
       "        [-2.4346e-08,  5.7236e-09, -1.4404e-08, -1.0138e-08, -3.8764e-08,\n",
       "         -2.2929e-08, -1.7880e-08,  2.5541e-08,  1.0508e-08, -1.3573e-08,\n",
       "          1.0992e-08,  1.3943e-08, -1.7184e-09,  4.7956e-09,  4.1550e-09,\n",
       "          5.5373e-09,  3.4040e-08, -7.7236e-09, -3.1789e-08,  7.1585e-09],\n",
       "        [ 0.0000e+00,  0.0000e+00,  0.0000e+00,  0.0000e+00,  0.0000e+00,\n",
       "          0.0000e+00,  0.0000e+00,  0.0000e+00,  0.0000e+00,  0.0000e+00,\n",
       "          0.0000e+00,  0.0000e+00,  0.0000e+00,  0.0000e+00,  0.0000e+00,\n",
       "          0.0000e+00,  0.0000e+00,  0.0000e+00,  0.0000e+00,  0.0000e+00],\n",
       "        [ 0.0000e+00,  0.0000e+00,  0.0000e+00,  0.0000e+00,  0.0000e+00,\n",
       "          0.0000e+00,  0.0000e+00,  0.0000e+00,  0.0000e+00,  0.0000e+00,\n",
       "          0.0000e+00,  0.0000e+00,  0.0000e+00,  0.0000e+00,  0.0000e+00,\n",
       "          0.0000e+00,  0.0000e+00,  0.0000e+00,  0.0000e+00,  0.0000e+00],\n",
       "        [ 0.0000e+00,  0.0000e+00,  0.0000e+00,  0.0000e+00,  0.0000e+00,\n",
       "          0.0000e+00,  0.0000e+00,  0.0000e+00,  0.0000e+00,  0.0000e+00,\n",
       "          0.0000e+00,  0.0000e+00,  0.0000e+00,  0.0000e+00,  0.0000e+00,\n",
       "          0.0000e+00,  0.0000e+00,  0.0000e+00,  0.0000e+00,  0.0000e+00],\n",
       "        [ 0.0000e+00,  0.0000e+00,  0.0000e+00,  0.0000e+00,  0.0000e+00,\n",
       "          0.0000e+00,  0.0000e+00,  0.0000e+00,  0.0000e+00,  0.0000e+00,\n",
       "          0.0000e+00,  0.0000e+00,  0.0000e+00,  0.0000e+00,  0.0000e+00,\n",
       "          0.0000e+00,  0.0000e+00,  0.0000e+00,  0.0000e+00,  0.0000e+00],\n",
       "        [ 0.0000e+00,  0.0000e+00,  0.0000e+00,  0.0000e+00,  0.0000e+00,\n",
       "          0.0000e+00,  0.0000e+00,  0.0000e+00,  0.0000e+00,  0.0000e+00,\n",
       "          0.0000e+00,  0.0000e+00,  0.0000e+00,  0.0000e+00,  0.0000e+00,\n",
       "          0.0000e+00,  0.0000e+00,  0.0000e+00,  0.0000e+00,  0.0000e+00],\n",
       "        [ 0.0000e+00,  0.0000e+00,  0.0000e+00,  0.0000e+00,  0.0000e+00,\n",
       "          0.0000e+00,  0.0000e+00,  0.0000e+00,  0.0000e+00,  0.0000e+00,\n",
       "          0.0000e+00,  0.0000e+00,  0.0000e+00,  0.0000e+00,  0.0000e+00,\n",
       "          0.0000e+00,  0.0000e+00,  0.0000e+00,  0.0000e+00,  0.0000e+00]])"
      ]
     },
     "execution_count": 51,
     "metadata": {
      "tags": []
     },
     "output_type": "execute_result"
    }
   ],
   "source": []
  },
  {
   "cell_type": "code",
   "execution_count": 0,
   "metadata": {
    "colab": {
     "base_uri": "https://localhost:8080/",
     "height": 383
    },
    "colab_type": "code",
    "id": "hswJCk2I8dG5",
    "outputId": "0ce3b58e-9370-40fb-ab7f-84d9d8a5bcaa"
   },
   "outputs": [
    {
     "name": "stdout",
     "output_type": "stream",
     "text": [
      "NamedTensor(\n",
      "\ttensor([[9.6554e-05, 1.4386e-02, 2.0962e-03, 7.0165e-03, 2.9713e-02, 4.9446e-04,\n",
      "         3.7709e-08, 3.1396e-02, 6.3724e-05, 3.1673e-03],\n",
      "        [0.0000e+00, 1.0329e-02, 2.5853e-05, 1.2205e-03, 4.1392e-01, 3.5104e-05,\n",
      "         9.8856e-01, 8.3441e-06, 2.2022e-04, 2.2589e-01],\n",
      "        [0.0000e+00, 0.0000e+00, 2.2051e-03, 1.7158e-05, 4.3798e-03, 3.2013e-02,\n",
      "         6.8869e-07, 1.5559e-01, 2.7790e-02, 2.5025e-03],\n",
      "        [0.0000e+00, 0.0000e+00, 0.0000e+00, 4.6062e-02, 3.0280e-02, 6.6874e-01,\n",
      "         9.9529e-07, 1.7513e-02, 1.3289e-06, 4.6147e-03],\n",
      "        [0.0000e+00, 0.0000e+00, 0.0000e+00, 0.0000e+00, 4.6096e-02, 6.2947e-02,\n",
      "         8.7192e-04, 7.3074e-01, 4.6425e-07, 4.2793e-03],\n",
      "        [0.0000e+00, 0.0000e+00, 0.0000e+00, 0.0000e+00, 0.0000e+00, 5.1989e-02,\n",
      "         5.4682e-05, 1.6220e-02, 8.2720e-05, 1.3928e-02],\n",
      "        [0.0000e+00, 0.0000e+00, 0.0000e+00, 0.0000e+00, 0.0000e+00, 0.0000e+00,\n",
      "         8.2341e-06, 7.3589e-03, 9.6290e-01, 2.7766e-01],\n",
      "        [0.0000e+00, 0.0000e+00, 0.0000e+00, 0.0000e+00, 0.0000e+00, 0.0000e+00,\n",
      "         0.0000e+00, 1.3671e-04, 2.0652e-11, 4.5875e-01],\n",
      "        [0.0000e+00, 0.0000e+00, 0.0000e+00, 0.0000e+00, 0.0000e+00, 0.0000e+00,\n",
      "         0.0000e+00, 0.0000e+00, 3.2911e-06, 2.6851e-04],\n",
      "        [0.0000e+00, 0.0000e+00, 0.0000e+00, 0.0000e+00, 0.0000e+00, 0.0000e+00,\n",
      "         0.0000e+00, 0.0000e+00, 0.0000e+00, 8.9353e-03]]),\n",
      "\t('tgtlen', 'tgtlen2'))\n"
     ]
    }
   ],
   "source": [
    "print(mask)"
   ]
  }
 ],
 "metadata": {
  "colab": {
   "collapsed_sections": [],
   "include_colab_link": true,
   "name": "Attention.ipynb",
   "provenance": [],
   "version": "0.3.2"
  },
  "kernelspec": {
   "display_name": "Python 3",
   "language": "python",
   "name": "python3"
  },
  "language_info": {
   "codemirror_mode": {
    "name": "ipython",
    "version": 3
   },
   "file_extension": ".py",
   "mimetype": "text/x-python",
   "name": "python",
   "nbconvert_exporter": "python",
   "pygments_lexer": "ipython3",
   "version": "3.6.5"
  }
 },
 "nbformat": 4,
 "nbformat_minor": 1
}
