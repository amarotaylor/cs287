{
 "cells": [
  {
   "cell_type": "markdown",
   "metadata": {},
   "source": [
    "# CS 287 - HW 4"
   ]
  },
  {
   "cell_type": "code",
   "execution_count": 1,
   "metadata": {},
   "outputs": [],
   "source": [
    "!pip install -q torch torchtext opt_einsum git+https://github.com/harvardnlp/namedtensor"
   ]
  },
  {
   "cell_type": "code",
   "execution_count": 2,
   "metadata": {},
   "outputs": [],
   "source": [
    "import random\n",
    "import torch\n",
    "import torch.nn as nn \n",
    "import torch.nn.functional as F\n",
    "import torchtext\n",
    "from torchtext.vocab import Vectors, GloVe\n",
    "from namedtensor import ntorch, NamedTensor\n",
    "from namedtensor.text import NamedField"
   ]
  },
  {
   "cell_type": "code",
   "execution_count": 3,
   "metadata": {},
   "outputs": [
    {
     "name": "stdout",
     "output_type": "stream",
     "text": [
      "len(train) 549367\n",
      "len(TEXT.vocab) 62998\n",
      "len(LABEL.vocab) 4\n"
     ]
    }
   ],
   "source": [
    "# load data\n",
    "TEXT = NamedField(names=('seqlen',)) # Our input $x$\n",
    "LABEL = NamedField(sequential=False, names=()) # Our labels $y$\n",
    "train, val, test = torchtext.datasets.SNLI.splits(TEXT, LABEL)\n",
    "print('len(train)', len(train))\n",
    "TEXT.build_vocab(train)\n",
    "LABEL.build_vocab(train)\n",
    "print('len(TEXT.vocab)', len(TEXT.vocab))\n",
    "print('len(LABEL.vocab)', len(LABEL.vocab))\n",
    "train_iter, val_iter, test_iter = torchtext.data.BucketIterator.splits(\n",
    "    (train, val, test), batch_size=16, device=torch.device(\"cuda\"), repeat=False)"
   ]
  },
  {
   "cell_type": "code",
   "execution_count": 4,
   "metadata": {},
   "outputs": [
    {
     "name": "stdout",
     "output_type": "stream",
     "text": [
      "word embeddings shape: OrderedDict([('word', 62998), ('embedding', 300)])\n"
     ]
    }
   ],
   "source": [
    "# build the vocabulary with word embeddings\n",
    "# out-of-vocabulary words are hashed to one of 100 random embeddings each initialized to mean 0, stdev 1 (Sec 5.1)\n",
    "unk_vectors = [torch.randn(300) for _ in range(100)]\n",
    "TEXT.vocab.load_vectors(vectors='glove.6B.300d', unk_init=lambda x:random.choice(unk_vectors))\n",
    "vectors = TEXT.vocab.vectors\n",
    "vectors = vectors / vectors.norm(dim=1, keepdim=True) # normalized to have l_2 norm of 1\n",
    "vectors = NamedTensor(vectors, ('word', 'embedding'))\n",
    "TEXT.vocab.vectors = vectors\n",
    "print(\"word embeddings shape:\", TEXT.vocab.vectors.shape)"
   ]
  },
  {
   "cell_type": "code",
   "execution_count": 5,
   "metadata": {},
   "outputs": [
    {
     "name": "stdout",
     "output_type": "stream",
     "text": [
      "Size of premise batch: OrderedDict([('seqlen', 35), ('batch', 16)])\n",
      "Size of hypothesis batch: OrderedDict([('seqlen', 14), ('batch', 16)])\n",
      "Size of label batch: OrderedDict([('batch', 16)])\n"
     ]
    }
   ],
   "source": [
    "# here's an example of a training example\n",
    "batch = next(iter(train_iter))\n",
    "print(\"Size of premise batch:\", batch.premise.shape)\n",
    "print(\"Size of hypothesis batch:\", batch.hypothesis.shape)\n",
    "print(\"Size of label batch:\", batch.label.shape)"
   ]
  },
  {
   "cell_type": "markdown",
   "metadata": {},
   "source": [
    "## Vanilla Decomposable Attention Model"
   ]
  },
  {
   "cell_type": "code",
   "execution_count": 6,
   "metadata": {},
   "outputs": [],
   "source": [
    "class EmbedProject(torch.nn.Module):\n",
    "    def __init__(self, weights, embed_size, project_size):\n",
    "        super(EmbedProject, self).__init__()\n",
    "        self.embed = nn.Embedding.from_pretrained(weights, freeze=True) # weights: input_size x embed_size\n",
    "        self.linear = nn.Linear(embed_size, project_size)\n",
    "        torch.nn.init.normal_(self.linear.weight, mean=0, std=0.01)\n",
    "    def forward(self, inputs):\n",
    "        embedding = self.embed(inputs)\n",
    "        output = self.linear(embedding)\n",
    "        return output"
   ]
  },
  {
   "cell_type": "code",
   "execution_count": 7,
   "metadata": {},
   "outputs": [],
   "source": [
    "class FeedForwardF(torch.nn.Module):\n",
    "    def __init__(self, input_size, hidden_size, output_size, dropout=0.2):\n",
    "        super(FeedForwardF, self).__init__()\n",
    "        self.d = nn.Dropout(dropout)\n",
    "        self.m = nn.ReLU()\n",
    "        self.linear1 = nn.Linear(input_size, hidden_size)\n",
    "        self.linear2 = nn.Linear(hidden_size, output_size)\n",
    "        for param in self.parameters():\n",
    "            torch.nn.init.normal_(param, mean=0, std=0.01)\n",
    "    def forward(self, inputs):\n",
    "        hidden = self.m(self.linear1(self.d(inputs)))\n",
    "        output = self.m(self.linear2(self.d(hidden)))\n",
    "        return output"
   ]
  },
  {
   "cell_type": "code",
   "execution_count": 8,
   "metadata": {},
   "outputs": [],
   "source": [
    "class FeedForwardG(torch.nn.Module):\n",
    "    def __init__(self, input_size, hidden_size, output_size, dropout=0.2):\n",
    "        super(FeedForwardG, self).__init__()\n",
    "        self.d = nn.Dropout(dropout)\n",
    "        self.m = nn.ReLU()\n",
    "        self.linear1 = nn.Linear(input_size, hidden_size)\n",
    "        self.linear2 = nn.Linear(hidden_size, output_size)\n",
    "        for param in self.parameters():\n",
    "            torch.nn.init.normal_(param, mean=0, std=0.01)\n",
    "    def forward(self, inputs):\n",
    "        hidden = self.m(self.linear1(self.d(inputs)))\n",
    "        output = self.m(self.linear2(self.d(hidden)))\n",
    "        return output"
   ]
  },
  {
   "cell_type": "code",
   "execution_count": 9,
   "metadata": {},
   "outputs": [],
   "source": [
    "class FeedForwardH(torch.nn.Module):\n",
    "    def __init__(self, input_size, hidden_size, output_size, dropout=0.2):\n",
    "        super(FeedForwardH, self).__init__()\n",
    "        self.d = nn.Dropout(dropout)\n",
    "        self.m = nn.ReLU()\n",
    "        self.linear1 = nn.Linear(input_size, hidden_size)\n",
    "        self.linear2 = nn.Linear(hidden_size, hidden_size)\n",
    "        self.linear3 = nn.Linear(hidden_size, output_size)\n",
    "        for param in self.parameters():\n",
    "            torch.nn.init.normal_(param, mean=0, std=0.01)\n",
    "    def forward(self, inputs):\n",
    "        hidden1 = self.m(self.linear1(self.d(inputs)))\n",
    "        hidden2 = self.m(self.linear2(self.d(hidden1)))\n",
    "        output = self.linear3(hidden2)\n",
    "        return output"
   ]
  },
  {
   "cell_type": "markdown",
   "metadata": {},
   "source": [
    "## Global Vars"
   ]
  },
  {
   "cell_type": "code",
   "execution_count": 10,
   "metadata": {},
   "outputs": [
    {
     "name": "stdout",
     "output_type": "stream",
     "text": [
      "DIMS - input: 62998, embed: 300, hidden1: 200, hidden2: 400, output: 4\n"
     ]
    }
   ],
   "source": [
    "# dimensions\n",
    "input_size = TEXT.vocab.vectors.shape['word']\n",
    "embed_size = TEXT.vocab.vectors.shape['embedding']\n",
    "hidden_size1 = 200\n",
    "hidden_size2 = hidden_size1 * 2\n",
    "output_size = len(LABEL.vocab)\n",
    "print('DIMS - input: %d, embed: %d, hidden1: %d, hidden2: %d, output: %d'%(input_size, embed_size, hidden_size1, hidden_size2, output_size))"
   ]
  },
  {
   "cell_type": "code",
   "execution_count": 11,
   "metadata": {},
   "outputs": [
    {
     "name": "stdout",
     "output_type": "stream",
     "text": [
      "DIMS - pre-trained: torch.Size([62998, 300])\n"
     ]
    }
   ],
   "source": [
    "# pre-trained embeddings\n",
    "weights = TEXT.vocab.vectors.values.cuda()\n",
    "print('DIMS - pre-trained:', weights.shape)"
   ]
  },
  {
   "cell_type": "code",
   "execution_count": 12,
   "metadata": {},
   "outputs": [
    {
     "name": "stdout",
     "output_type": "stream",
     "text": [
      "<pad>: 1 , null: tensor(56690, device='cuda:0')\n"
     ]
    }
   ],
   "source": [
    "# tokens\n",
    "pad_tkn = TEXT.vocab.stoi['<pad>']\n",
    "null_tkn = torch.tensor(TEXT.vocab.stoi['null'], device='cuda')\n",
    "print('<pad>:', pad_tkn, ', null:', null_tkn)"
   ]
  },
  {
   "cell_type": "markdown",
   "metadata": {},
   "source": [
    "## Development"
   ]
  },
  {
   "cell_type": "code",
   "execution_count": null,
   "metadata": {},
   "outputs": [],
   "source": [
    "EP1 = EmbedProject(weights, embed_size, hidden_size1).cuda()\n",
    "EP1"
   ]
  },
  {
   "cell_type": "code",
   "execution_count": null,
   "metadata": {},
   "outputs": [],
   "source": [
    "F1 = FeedForwardF(hidden_size1, hidden_size1, hidden_size1).cuda()\n",
    "F1"
   ]
  },
  {
   "cell_type": "code",
   "execution_count": null,
   "metadata": {},
   "outputs": [],
   "source": [
    "G1 = FeedForwardG(hidden_size2, hidden_size1, hidden_size1).cuda()\n",
    "G1"
   ]
  },
  {
   "cell_type": "code",
   "execution_count": null,
   "metadata": {},
   "outputs": [],
   "source": [
    "H1 = FeedForwardH(hidden_size2, hidden_size1, output_size).cuda()\n",
    "H1"
   ]
  },
  {
   "cell_type": "code",
   "execution_count": null,
   "metadata": {},
   "outputs": [],
   "source": [
    "parameters = [param for param in EP1.parameters()] # embed, lnr, bias\n",
    "print(len(parameters))\n",
    "parameters.extend([param for param in F1.parameters()]) # lnr1, bias1, lnr2, bias2\n",
    "print(len(parameters))\n",
    "parameters.extend([param for param in G1.parameters()]) # lnr1, bias1, lnr2, bias2\n",
    "print(len(parameters))\n",
    "parameters.extend([param for param in H1.parameters()]) # lnr1, bias1, lnr2, bias2, lnr3, bias3\n",
    "print(len(parameters))"
   ]
  },
  {
   "cell_type": "code",
   "execution_count": null,
   "metadata": {},
   "outputs": [],
   "source": [
    "raw_sent1 = batch.premise.values.transpose(0,1)#[0,:-1].unsqueeze(0)\n",
    "raw_sent2 = batch.hypothesis.values.transpose(0,1)#[0,:-1].unsqueeze(0)\n",
    "raw_sent1.shape, raw_sent2.shape"
   ]
  },
  {
   "cell_type": "code",
   "execution_count": null,
   "metadata": {},
   "outputs": [],
   "source": [
    "null_tkns = null_tkn.repeat(raw_sent1.shape[0], 1)\n",
    "sent1 = torch.cat((null_tkns, raw_sent1), 1)\n",
    "sent2 = torch.cat((null_tkns, raw_sent2), 1)\n",
    "sent1.shape, sent2.shape"
   ]
  },
  {
   "cell_type": "code",
   "execution_count": null,
   "metadata": {},
   "outputs": [],
   "source": [
    "proj1 = EP1(sent1)\n",
    "proj2 = EP1(sent2)\n",
    "proj1.shape, proj2.shape"
   ]
  },
  {
   "cell_type": "code",
   "execution_count": null,
   "metadata": {},
   "outputs": [],
   "source": [
    "f1 = F1(proj1)\n",
    "f2 = F1(proj2)\n",
    "f1.shape, f2.shape"
   ]
  },
  {
   "cell_type": "code",
   "execution_count": null,
   "metadata": {},
   "outputs": [],
   "source": [
    "score1 = torch.bmm(f1, f2.transpose(1,2))\n",
    "score2 = torch.bmm(f2, f1.transpose(1,2))\n",
    "score1.shape, score2.shape"
   ]
  },
  {
   "cell_type": "code",
   "execution_count": null,
   "metadata": {},
   "outputs": [],
   "source": [
    "mask1 = (sent1 == pad_tkn)\n",
    "mask2 = (sent2 == pad_tkn)\n",
    "mask1.shape, mask2.shape"
   ]
  },
  {
   "cell_type": "code",
   "execution_count": null,
   "metadata": {},
   "outputs": [],
   "source": [
    "mask1a = mask1.unsqueeze(1).expand(-1, sent2.shape[1], -1).float()\n",
    "mask2a = mask2.unsqueeze(1).expand(-1, sent1.shape[1], -1).float()\n",
    "mask1a.shape, mask2a.shape"
   ]
  },
  {
   "cell_type": "code",
   "execution_count": null,
   "metadata": {},
   "outputs": [],
   "source": [
    "#score1 = score1.masked_fill_(mask2a, -1e8)\n",
    "#score2 = score2.masked_fill_(mask1a, -1e8)\n",
    "score1 = score1 * (1 - mask2a) + (mask2a * -1e8)\n",
    "score2 = score2 * (1 - mask1a) + (mask1a * -1e8)\n",
    "score1.shape, score2.shape"
   ]
  },
  {
   "cell_type": "code",
   "execution_count": null,
   "metadata": {},
   "outputs": [],
   "source": [
    "# MASK\n",
    "#for i in range(sent1.shape[0]):\n",
    "#    score1[i,:,(sent2[i,:] == pad_tkn).nonzero()] = -1e8\n",
    "#    score2[i,:,(sent1[i,:] == pad_tkn).nonzero()] = -1e8"
   ]
  },
  {
   "cell_type": "code",
   "execution_count": null,
   "metadata": {},
   "outputs": [],
   "source": [
    "prob1 = F.softmax(score1, dim=2)\n",
    "prob2 = F.softmax(score2, dim=2)\n",
    "prob1.shape, prob2.shape"
   ]
  },
  {
   "cell_type": "code",
   "execution_count": null,
   "metadata": {},
   "outputs": [],
   "source": [
    "proj1_soft = torch.bmm(prob2, proj1)\n",
    "proj2_soft = torch.bmm(prob1, proj2)\n",
    "proj1_soft.shape, proj2_soft.shape"
   ]
  },
  {
   "cell_type": "code",
   "execution_count": null,
   "metadata": {},
   "outputs": [],
   "source": [
    "proj1_combined = torch.cat((proj1, proj2_soft), dim=2)\n",
    "proj2_combined = torch.cat((proj2, proj1_soft), dim=2)\n",
    "proj1_combined.shape, proj2_combined.shape"
   ]
  },
  {
   "cell_type": "code",
   "execution_count": null,
   "metadata": {},
   "outputs": [],
   "source": [
    "g1 = G1(proj1_combined)\n",
    "g2 = G1(proj2_combined)\n",
    "g1.shape, g2.shape"
   ]
  },
  {
   "cell_type": "code",
   "execution_count": null,
   "metadata": {},
   "outputs": [],
   "source": [
    "mask1b = mask1.unsqueeze(2).expand(-1, -1, hidden_size1).float()\n",
    "mask2b = mask2.unsqueeze(2).expand(-1, -1, hidden_size1).float()\n",
    "mask1b.shape, mask2b.shape"
   ]
  },
  {
   "cell_type": "code",
   "execution_count": null,
   "metadata": {},
   "outputs": [],
   "source": [
    "#g1 = g1.masked_fill_(mask1b, 0)\n",
    "#g2 = g2.masked_fill_(mask2b, 0)\n",
    "g1 = g1 * (1 - mask1b)\n",
    "g2 = g2 * (1 - mask2b)\n",
    "g1.shape, g2.shape"
   ]
  },
  {
   "cell_type": "code",
   "execution_count": null,
   "metadata": {},
   "outputs": [],
   "source": [
    "# MASK\n",
    "#for i in range(sent1.shape[0]):\n",
    "#    g1[i,(sent1[i,:] == pad_tkn).nonzero(),:] = 0\n",
    "#    g2[i,(sent2[i,:] == pad_tkn).nonzero(),:] = 0"
   ]
  },
  {
   "cell_type": "code",
   "execution_count": null,
   "metadata": {},
   "outputs": [],
   "source": [
    "g1_sum = g1.sum(dim=1)\n",
    "g2_sum = g2.sum(dim=1)\n",
    "g1_sum.shape, g2_sum.shape"
   ]
  },
  {
   "cell_type": "code",
   "execution_count": null,
   "metadata": {},
   "outputs": [],
   "source": [
    "g_all = torch.cat((g1_sum, g2_sum), dim=1)\n",
    "g_all.shape"
   ]
  },
  {
   "cell_type": "code",
   "execution_count": null,
   "metadata": {},
   "outputs": [],
   "source": [
    "h_all = H1(g_all)\n",
    "h_all.shape"
   ]
  },
  {
   "cell_type": "code",
   "execution_count": null,
   "metadata": {},
   "outputs": [],
   "source": [
    "# TEST\n",
    "#EP2 = EmbedProject(weights, 300, 4).cuda()"
   ]
  },
  {
   "cell_type": "code",
   "execution_count": null,
   "metadata": {},
   "outputs": [],
   "source": [
    "# TEST \n",
    "#out1 = EP2(sent1)\n",
    "#h_all = torch.sum(out1, dim=1)\n",
    "#h_all.shape"
   ]
  },
  {
   "cell_type": "code",
   "execution_count": null,
   "metadata": {},
   "outputs": [],
   "source": [
    "target = batch.label.values\n",
    "#target = torch.tensor([1], device='cuda')\n",
    "target.shape"
   ]
  },
  {
   "cell_type": "code",
   "execution_count": null,
   "metadata": {},
   "outputs": [],
   "source": [
    "criterion = nn.CrossEntropyLoss()\n",
    "loss = criterion(h_all, target)\n",
    "loss"
   ]
  },
  {
   "cell_type": "code",
   "execution_count": null,
   "metadata": {},
   "outputs": [],
   "source": [
    "loss.backward()\n",
    "i = 0\n",
    "for param in parameters:\n",
    "    if i != 1:\n",
    "        print(param.grad)\n",
    "        #param.grad.data.zero_()        \n",
    "    i += 1"
   ]
  },
  {
   "cell_type": "code",
   "execution_count": null,
   "metadata": {},
   "outputs": [],
   "source": [
    "# TEST\n",
    "EP2.zero_grad()"
   ]
  },
  {
   "cell_type": "code",
   "execution_count": null,
   "metadata": {},
   "outputs": [],
   "source": [
    "EP1.zero_grad()\n",
    "F1.zero_grad()\n",
    "G1.zero_grad()\n",
    "H1.zero_grad()"
   ]
  },
  {
   "cell_type": "code",
   "execution_count": null,
   "metadata": {},
   "outputs": [],
   "source": [
    "loss.backward()\n",
    "i = 0\n",
    "for param in parameters:\n",
    "    if i != 1:\n",
    "        print(param.grad)\n",
    "    i += 1"
   ]
  },
  {
   "cell_type": "code",
   "execution_count": null,
   "metadata": {},
   "outputs": [],
   "source": [
    "optimizer = torch.optim.Adagrad(parameters, lr=0.05, initial_accumulator_value=0.1)\n",
    "scheduler = torch.optim.lr_scheduler.ReduceLROnPlateau(optimizer, mode=\"min\", patience=4)"
   ]
  },
  {
   "cell_type": "code",
   "execution_count": null,
   "metadata": {},
   "outputs": [],
   "source": [
    "#for param in EP1.parameters():\n",
    "#    emb1 = param\n",
    "#    break\n",
    "i = 0\n",
    "for param in H1.parameters():\n",
    "    if i == 5:\n",
    "        print(param)\n",
    "    i += 1"
   ]
  },
  {
   "cell_type": "code",
   "execution_count": null,
   "metadata": {},
   "outputs": [],
   "source": [
    "EP1.train()\n",
    "F1.train()\n",
    "G1.train()\n",
    "H1.train()\n",
    "optimizer.zero_grad()\n",
    "\n",
    "sent1 = batch.premise.values.transpose(0,1)\n",
    "sent2 = batch.hypothesis.values.transpose(0,1)\n",
    "target = batch.label.values\n",
    "\n",
    "proj1 = EP1(sent1)\n",
    "proj2 = EP1(sent2)\n",
    "f1 = F1(proj1)\n",
    "f2 = F1(proj2)\n",
    "score1 = torch.bmm(f1, f2.transpose(1,2))\n",
    "score2 = torch.bmm(f2, f1.transpose(1,2))\n",
    "prob1 = F.softmax(score1, dim=2)\n",
    "prob2 = F.softmax(score2, dim=2)\n",
    "proj1_soft = torch.bmm(prob2, proj1)\n",
    "proj2_soft = torch.bmm(prob1, proj2)\n",
    "proj1_combined = torch.cat((proj1, proj2_soft), dim=2)\n",
    "proj2_combined = torch.cat((proj2, proj1_soft), dim=2)\n",
    "g1 = G1(proj1_combined)\n",
    "g2 = G1(proj2_combined)\n",
    "g1_sum = g1.sum(dim=1)\n",
    "g2_sum = g2.sum(dim=1)\n",
    "g_all = torch.cat((g1_sum, g2_sum), dim=1)\n",
    "h_all = H1(g_all)\n",
    "\n",
    "loss = criterion(h_all, target)\n",
    "loss.backward()\n",
    "optimizer.step()"
   ]
  },
  {
   "cell_type": "code",
   "execution_count": null,
   "metadata": {},
   "outputs": [],
   "source": [
    "for param in EP1.parameters():\n",
    "    emb2 = param\n",
    "    break\n",
    "i = 0\n",
    "for param in H1.parameters():\n",
    "    if i == 5:\n",
    "        print(param)\n",
    "    i += 1"
   ]
  },
  {
   "cell_type": "code",
   "execution_count": null,
   "metadata": {},
   "outputs": [],
   "source": [
    "torch.sum(emb1 != emb2)"
   ]
  },
  {
   "cell_type": "code",
   "execution_count": null,
   "metadata": {},
   "outputs": [],
   "source": [
    "acc = torch.sum(torch.argmax(h_all, dim=1) == target).item() / target.shape[0]\n",
    "acc"
   ]
  },
  {
   "cell_type": "code",
   "execution_count": null,
   "metadata": {},
   "outputs": [],
   "source": [
    "loss"
   ]
  },
  {
   "cell_type": "markdown",
   "metadata": {},
   "source": [
    "## Train"
   ]
  },
  {
   "cell_type": "code",
   "execution_count": 18,
   "metadata": {},
   "outputs": [],
   "source": [
    "def get_output(sent1, sent2, EP1, F1, G1, H1):\n",
    "    proj1 = EP1(sent1)\n",
    "    proj2 = EP1(sent2)\n",
    "    f1 = F1(proj1)\n",
    "    f2 = F1(proj2)\n",
    "    \n",
    "    score1 = torch.bmm(f1, f2.transpose(1,2))\n",
    "    score2 = torch.bmm(f2, f1.transpose(1,2))\n",
    "    mask1 = (sent1 == pad_tkn)\n",
    "    mask2 = (sent2 == pad_tkn)\n",
    "    mask1a = mask1.unsqueeze(1).expand(-1, sent2.shape[1], -1).float()\n",
    "    mask2a = mask2.unsqueeze(1).expand(-1, sent1.shape[1], -1).float()\n",
    "    score1 = score1 * (1 - mask2a) + (mask2a * -1e8)\n",
    "    score2 = score2 * (1 - mask1a) + (mask1a * -1e8)\n",
    "    \n",
    "    prob1 = F.softmax(score1, dim=2)\n",
    "    prob2 = F.softmax(score2, dim=2)\n",
    "    proj1_soft = torch.bmm(prob2, proj1)\n",
    "    proj2_soft = torch.bmm(prob1, proj2)\n",
    "    proj1_combined = torch.cat((proj1, proj2_soft), dim=2)\n",
    "    proj2_combined = torch.cat((proj2, proj1_soft), dim=2)\n",
    "    \n",
    "    g1 = G1(proj1_combined)\n",
    "    g2 = G1(proj2_combined)\n",
    "    mask1b = mask1.unsqueeze(2).expand(-1, -1, hidden_size1).float()\n",
    "    mask2b = mask2.unsqueeze(2).expand(-1, -1, hidden_size1).float()\n",
    "    g1 = g1 * (1 - mask1b)\n",
    "    g2 = g2 * (1 - mask2b)\n",
    "\n",
    "    g1_sum = g1.sum(dim=1)\n",
    "    g2_sum = g2.sum(dim=1)\n",
    "    g_all = torch.cat((g1_sum, g2_sum), dim=1)\n",
    "    h_all = H1(g_all)\n",
    "    return h_all"
   ]
  },
  {
   "cell_type": "code",
   "execution_count": 19,
   "metadata": {},
   "outputs": [],
   "source": [
    "def prepend_null(sent):\n",
    "    null_tkns = null_tkn.repeat(sent.shape[0], 1)\n",
    "    return torch.cat((null_tkns, sent), 1)"
   ]
  },
  {
   "cell_type": "code",
   "execution_count": 20,
   "metadata": {},
   "outputs": [],
   "source": [
    "def training_loop(e, train_iter, EP1, F1, G1, H1, criterion, optimizer):\n",
    "    EP1.train()\n",
    "    F1.train()\n",
    "    G1.train()\n",
    "    H1.train()\n",
    "    \n",
    "    for ix,batch in enumerate(train_iter):\n",
    "        optimizer.zero_grad()\n",
    "        sent1 = prepend_null(batch.premise.values.transpose(0,1))\n",
    "        sent2 = prepend_null(batch.hypothesis.values.transpose(0,1))\n",
    "        target = batch.label.values\n",
    "        output = get_output(sent1, sent2, EP1, F1, G1, H1)\n",
    "        loss = criterion(output, target)\n",
    "        loss.backward()\n",
    "        optimizer.step()\n",
    "        \n",
    "        if ix % 1000 == 0:\n",
    "            acc = torch.sum(torch.argmax(output, dim=1) == target).item() / target.shape[0]\n",
    "            print('Epoch: {0}, Batch: {1}, Train NLL: {2:0.4f}, Train Acc:{3:0.4f}'.format(e, ix, loss.cpu().detach(), acc))"
   ]
  },
  {
   "cell_type": "code",
   "execution_count": 21,
   "metadata": {},
   "outputs": [],
   "source": [
    "def validation_loop(e, val_iter, EP1, F1, G1, H1, criterion):\n",
    "    EP1.eval()\n",
    "    F1.eval()\n",
    "    G1.eval()\n",
    "    H1.eval()\n",
    "    \n",
    "    total_loss = 0\n",
    "    total_sent = 0\n",
    "    total_correct = 0\n",
    "    \n",
    "    for ix,batch in enumerate(val_iter):\n",
    "        sent1 = prepend_null(batch.premise.values.transpose(0,1))\n",
    "        sent2 = prepend_null(batch.hypothesis.values.transpose(0,1))\n",
    "        target = batch.label.values\n",
    "        output = get_output(sent1, sent2, EP1, F1, G1, H1)\n",
    "        \n",
    "        loss = criterion(output, target).item()\n",
    "        sent = sent1.shape[0]\n",
    "        correct = torch.sum(torch.argmax(output, dim=1) == target).item()\n",
    "        \n",
    "        total_loss += loss*sent\n",
    "        total_sent += sent\n",
    "        total_correct += correct\n",
    "    \n",
    "    print('Epoch: {0}, Val NLL: {1:0.4f}, Val Acc: {2:0.4f}'.format(e, total_loss/total_sent, total_correct/total_sent))\n",
    "    return total_loss"
   ]
  },
  {
   "cell_type": "code",
   "execution_count": null,
   "metadata": {},
   "outputs": [
    {
     "name": "stdout",
     "output_type": "stream",
     "text": [
      "Epoch: 0, Batch: 0, Train NLL: 1.3863, Train Acc:0.3125\n",
      "Epoch: 0, Batch: 1000, Train NLL: 1.1184, Train Acc:0.3750\n",
      "Epoch: 0, Batch: 2000, Train NLL: 1.1422, Train Acc:0.1875\n",
      "Epoch: 0, Batch: 3000, Train NLL: 1.1038, Train Acc:0.1875\n",
      "Epoch: 0, Batch: 4000, Train NLL: 1.1695, Train Acc:0.1250\n",
      "Epoch: 0, Batch: 5000, Train NLL: 0.9978, Train Acc:0.5000\n",
      "Epoch: 0, Batch: 6000, Train NLL: 1.0030, Train Acc:0.6250\n",
      "Epoch: 0, Batch: 7000, Train NLL: 0.9781, Train Acc:0.4375\n",
      "Epoch: 0, Batch: 8000, Train NLL: 1.1620, Train Acc:0.3750\n",
      "Epoch: 0, Batch: 9000, Train NLL: 0.8256, Train Acc:0.5625\n",
      "Epoch: 0, Batch: 10000, Train NLL: 0.9096, Train Acc:0.5000\n",
      "Epoch: 0, Batch: 11000, Train NLL: 1.0778, Train Acc:0.3125\n",
      "Epoch: 0, Batch: 12000, Train NLL: 0.9236, Train Acc:0.5625\n",
      "Epoch: 0, Batch: 13000, Train NLL: 0.9069, Train Acc:0.3750\n",
      "Epoch: 0, Batch: 14000, Train NLL: 1.0988, Train Acc:0.3125\n",
      "Epoch: 0, Batch: 15000, Train NLL: 0.8507, Train Acc:0.6875\n",
      "Epoch: 0, Batch: 16000, Train NLL: 0.9332, Train Acc:0.6250\n",
      "Epoch: 0, Batch: 17000, Train NLL: 1.0049, Train Acc:0.4375\n",
      "Epoch: 0, Batch: 18000, Train NLL: 0.8921, Train Acc:0.5625\n",
      "Epoch: 0, Batch: 19000, Train NLL: 1.0969, Train Acc:0.4375\n",
      "Epoch: 0, Batch: 20000, Train NLL: 0.9040, Train Acc:0.5625\n",
      "Epoch: 0, Batch: 21000, Train NLL: 0.7921, Train Acc:0.6875\n",
      "Epoch: 0, Batch: 22000, Train NLL: 0.9080, Train Acc:0.5625\n",
      "Epoch: 0, Batch: 23000, Train NLL: 0.8515, Train Acc:0.6875\n",
      "Epoch: 0, Batch: 24000, Train NLL: 1.1542, Train Acc:0.5000\n",
      "Epoch: 0, Batch: 25000, Train NLL: 0.9018, Train Acc:0.6875\n",
      "Epoch: 0, Batch: 26000, Train NLL: 0.9981, Train Acc:0.4375\n",
      "Epoch: 0, Batch: 27000, Train NLL: 1.0286, Train Acc:0.4375\n",
      "Epoch: 0, Batch: 28000, Train NLL: 0.9384, Train Acc:0.5625\n",
      "Epoch: 0, Batch: 29000, Train NLL: 0.9537, Train Acc:0.4375\n",
      "Epoch: 0, Batch: 30000, Train NLL: 0.9948, Train Acc:0.6250\n",
      "Epoch: 0, Batch: 31000, Train NLL: 0.6868, Train Acc:0.7500\n",
      "Epoch: 0, Batch: 32000, Train NLL: 0.8572, Train Acc:0.5000\n",
      "Epoch: 0, Batch: 33000, Train NLL: 0.8448, Train Acc:0.6250\n",
      "Epoch: 0, Batch: 34000, Train NLL: 1.0390, Train Acc:0.3750\n",
      "Epoch: 0, Val NLL: 0.8972, Val Acc: 0.5822\n",
      "LR = 0.05\n",
      "WROTE MODEL\n",
      "Epoch: 1, Batch: 0, Train NLL: 0.7676, Train Acc:0.6875\n",
      "Epoch: 1, Batch: 1000, Train NLL: 0.9280, Train Acc:0.5625\n",
      "Epoch: 1, Batch: 2000, Train NLL: 1.0373, Train Acc:0.4375\n",
      "Epoch: 1, Batch: 3000, Train NLL: 1.0039, Train Acc:0.5000\n",
      "Epoch: 1, Batch: 4000, Train NLL: 1.0232, Train Acc:0.5000\n",
      "Epoch: 1, Batch: 5000, Train NLL: 0.6554, Train Acc:0.7500\n",
      "Epoch: 1, Batch: 6000, Train NLL: 0.7082, Train Acc:0.6875\n",
      "Epoch: 1, Batch: 7000, Train NLL: 0.7315, Train Acc:0.5625\n",
      "Epoch: 1, Batch: 8000, Train NLL: 1.1055, Train Acc:0.5625\n",
      "Epoch: 1, Batch: 9000, Train NLL: 0.9145, Train Acc:0.5000\n",
      "Epoch: 1, Batch: 10000, Train NLL: 0.8177, Train Acc:0.8125\n",
      "Epoch: 1, Batch: 11000, Train NLL: 0.8405, Train Acc:0.6875\n",
      "Epoch: 1, Batch: 12000, Train NLL: 0.7715, Train Acc:0.7500\n",
      "Epoch: 1, Batch: 13000, Train NLL: 0.7390, Train Acc:0.7500\n",
      "Epoch: 1, Batch: 14000, Train NLL: 0.9532, Train Acc:0.5625\n",
      "Epoch: 1, Batch: 15000, Train NLL: 0.8586, Train Acc:0.5625\n",
      "Epoch: 1, Batch: 16000, Train NLL: 0.8734, Train Acc:0.5000\n",
      "Epoch: 1, Batch: 17000, Train NLL: 1.0037, Train Acc:0.5000\n",
      "Epoch: 1, Batch: 18000, Train NLL: 0.9978, Train Acc:0.4375\n",
      "Epoch: 1, Batch: 19000, Train NLL: 0.9383, Train Acc:0.5625\n",
      "Epoch: 1, Batch: 20000, Train NLL: 0.9181, Train Acc:0.6250\n",
      "Epoch: 1, Batch: 21000, Train NLL: 1.0179, Train Acc:0.5625\n",
      "Epoch: 1, Batch: 22000, Train NLL: 0.8182, Train Acc:0.6250\n",
      "Epoch: 1, Batch: 23000, Train NLL: 0.8541, Train Acc:0.6250\n",
      "Epoch: 1, Batch: 24000, Train NLL: 0.9004, Train Acc:0.5000\n",
      "Epoch: 1, Batch: 25000, Train NLL: 0.9607, Train Acc:0.6250\n",
      "Epoch: 1, Batch: 26000, Train NLL: 0.9031, Train Acc:0.6875\n",
      "Epoch: 1, Batch: 27000, Train NLL: 0.8441, Train Acc:0.6250\n",
      "Epoch: 1, Batch: 28000, Train NLL: 0.8068, Train Acc:0.6875\n",
      "Epoch: 1, Batch: 29000, Train NLL: 1.2123, Train Acc:0.5625\n",
      "Epoch: 1, Batch: 30000, Train NLL: 0.5707, Train Acc:0.8750\n",
      "Epoch: 1, Batch: 31000, Train NLL: 0.9321, Train Acc:0.4375\n",
      "Epoch: 1, Batch: 32000, Train NLL: 0.6615, Train Acc:0.6875\n",
      "Epoch: 1, Batch: 33000, Train NLL: 0.7645, Train Acc:0.6250\n",
      "Epoch: 1, Batch: 34000, Train NLL: 0.8441, Train Acc:0.5625\n",
      "Epoch: 1, Val NLL: 0.8096, Val Acc: 0.6389\n",
      "LR = 0.05\n",
      "WROTE MODEL\n",
      "Epoch: 2, Batch: 0, Train NLL: 0.6776, Train Acc:0.7500\n",
      "Epoch: 2, Batch: 1000, Train NLL: 0.8732, Train Acc:0.6250\n",
      "Epoch: 2, Batch: 2000, Train NLL: 0.9721, Train Acc:0.4375\n",
      "Epoch: 2, Batch: 3000, Train NLL: 0.9887, Train Acc:0.6250\n",
      "Epoch: 2, Batch: 4000, Train NLL: 0.8833, Train Acc:0.6250\n",
      "Epoch: 2, Batch: 5000, Train NLL: 1.2480, Train Acc:0.4375\n",
      "Epoch: 2, Batch: 6000, Train NLL: 0.7159, Train Acc:0.6875\n",
      "Epoch: 2, Batch: 7000, Train NLL: 0.7491, Train Acc:0.6875\n"
     ]
    }
   ],
   "source": [
    "best_loss = 1e8\n",
    "EP1 = EmbedProject(weights, embed_size, hidden_size1).cuda()\n",
    "F1 = FeedForwardF(hidden_size1, hidden_size1, hidden_size1).cuda()\n",
    "G1 = FeedForwardG(hidden_size2, hidden_size1, hidden_size1).cuda()\n",
    "H1 = FeedForwardH(hidden_size2, hidden_size1, output_size).cuda()\n",
    "\n",
    "parameters = [param for param in EP1.parameters()] # embed, lnr, bias\n",
    "parameters.extend([param for param in F1.parameters()]) # lnr1, bias1, lnr2, bias2\n",
    "parameters.extend([param for param in G1.parameters()]) # lnr1, bias1, lnr2, bias2\n",
    "parameters.extend([param for param in H1.parameters()]) # lnr1, bias1, lnr2, bias2, lnr3, bias3\n",
    "\n",
    "criterion = nn.CrossEntropyLoss()\n",
    "optimizer = torch.optim.Adagrad(parameters, lr=0.05, initial_accumulator_value=0.1)\n",
    "scheduler = torch.optim.lr_scheduler.ReduceLROnPlateau(optimizer, mode=\"min\", patience=4)\n",
    "\n",
    "for e in range(100):\n",
    "    training_loop(e, train_iter, EP1, F1, G1, H1, criterion, optimizer)\n",
    "    loss = validation_loop(e, val_iter, EP1, F1, G1, H1, criterion)\n",
    "    scheduler.step(loss)\n",
    "    print('LR = {}'.format(optimizer.state_dict()['param_groups'][0]['lr']))\n",
    "    if loss < best_loss:\n",
    "        torch.save(EP1.state_dict(),'best_EP1_v02.pt')\n",
    "        torch.save(F1.state_dict(),'best_F1_v02.pt')\n",
    "        torch.save(G1.state_dict(),'best_G1_v02.pt')\n",
    "        torch.save(H1.state_dict(),'best_H1_v02.pt')\n",
    "        best_loss = loss\n",
    "        print('WROTE MODEL')"
   ]
  },
  {
   "cell_type": "code",
   "execution_count": null,
   "metadata": {},
   "outputs": [],
   "source": [
    "#EP1 = EmbedProject(weights, embed_size, hidden_size1).cuda()\n",
    "#state_dict = torch.load('best_EP1.pt')\n",
    "#EP1.load_state_dict(state_dict)"
   ]
  }
 ],
 "metadata": {
  "kernelspec": {
   "display_name": "Python 3",
   "language": "python",
   "name": "python3"
  },
  "language_info": {
   "codemirror_mode": {
    "name": "ipython",
    "version": 3
   },
   "file_extension": ".py",
   "mimetype": "text/x-python",
   "name": "python",
   "nbconvert_exporter": "python",
   "pygments_lexer": "ipython3",
   "version": "3.6.5"
  }
 },
 "nbformat": 4,
 "nbformat_minor": 2
}
